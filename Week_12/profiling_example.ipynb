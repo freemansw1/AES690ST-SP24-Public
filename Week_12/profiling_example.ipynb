{
 "cells": [
  {
   "cell_type": "code",
   "execution_count": 1,
   "metadata": {},
   "outputs": [],
   "source": [
    "%matplotlib inline"
   ]
  },
  {
   "cell_type": "code",
   "execution_count": 2,
   "metadata": {},
   "outputs": [],
   "source": [
    "import numpy as np"
   ]
  },
  {
   "cell_type": "code",
   "execution_count": 3,
   "metadata": {},
   "outputs": [
    {
     "name": "stdout",
     "output_type": "stream",
     "text": [
      "Requirement already satisfied: line_profiler in /Users/seanfreeman/mambaforge/envs/aes690st-sp24-test/lib/python3.11/site-packages (4.1.2)\n"
     ]
    }
   ],
   "source": [
    "!pip install line_profiler"
   ]
  },
  {
   "cell_type": "code",
   "execution_count": 3,
   "metadata": {},
   "outputs": [],
   "source": [
    "%load_ext line_profiler"
   ]
  },
  {
   "cell_type": "code",
   "execution_count": 4,
   "metadata": {},
   "outputs": [],
   "source": [
    "def expensive_function(array: np.array) -> float:\n",
    "    cumulative_sum = 0\n",
    "    for i in range(array.shape[0]):\n",
    "        for j in range(array.shape[1]):\n",
    "            cumulative_sum+=np.exp(array[i,j])\n",
    "            for k in range(len(array)):\n",
    "                cumulative_sum*=0.95\n",
    "    cumulative_sum = cumulative_sum/len(array)\n",
    "    return cumulative_sum\n",
    "\n"
   ]
  },
  {
   "cell_type": "code",
   "execution_count": 5,
   "metadata": {},
   "outputs": [],
   "source": [
    "test_arr = np.ones((200,200))"
   ]
  },
  {
   "cell_type": "code",
   "execution_count": 6,
   "metadata": {},
   "outputs": [
    {
     "data": {
      "text/plain": [
       "4.7643182872203614e-07"
      ]
     },
     "execution_count": 6,
     "metadata": {},
     "output_type": "execute_result"
    }
   ],
   "source": [
    "expensive_function(test_arr)"
   ]
  },
  {
   "cell_type": "code",
   "execution_count": 7,
   "metadata": {},
   "outputs": [
    {
     "name": "stdout",
     "output_type": "stream",
     "text": [
      "Timer unit: 1e-09 s\n",
      "\n",
      "Total time: 1.80328 s\n",
      "File: /var/folders/bj/m6g82c6n41g83y3_dx02y7ch0000gp/T/ipykernel_36538/1180350544.py\n",
      "Function: expensive_function at line 1\n",
      "\n",
      "Line #      Hits         Time  Per Hit   % Time  Line Contents\n",
      "==============================================================\n",
      "     1                                           def expensive_function(array: np.array) -> float:\n",
      "     2         1       1000.0   1000.0      0.0      cumulative_sum = 0\n",
      "     3       201      51000.0    253.7      0.0      for i in range(array.shape[0]):\n",
      "     4     40200    5059000.0    125.8      0.3          for j in range(array.shape[1]):\n",
      "     5     40000   38967000.0    974.2      2.2              cumulative_sum+=np.exp(array[i,j])\n",
      "     6   8040000  786747000.0     97.9     43.6              for k in range(len(array)):\n",
      "     7   8000000  972453000.0    121.6     53.9                  cumulative_sum*=0.95\n",
      "     8         1          0.0      0.0      0.0      cumulative_sum = cumulative_sum/len(array)\n",
      "     9         1       1000.0   1000.0      0.0      return cumulative_sum"
     ]
    }
   ],
   "source": [
    "%lprun -f expensive_function expensive_function(test_arr)"
   ]
  },
  {
   "cell_type": "code",
   "execution_count": null,
   "metadata": {},
   "outputs": [],
   "source": []
  }
 ],
 "metadata": {
  "kernelspec": {
   "display_name": "aes690st-sp24-test",
   "language": "python",
   "name": "python3"
  },
  "language_info": {
   "codemirror_mode": {
    "name": "ipython",
    "version": 3
   },
   "file_extension": ".py",
   "mimetype": "text/x-python",
   "name": "python",
   "nbconvert_exporter": "python",
   "pygments_lexer": "ipython3",
   "version": "3.11.6"
  }
 },
 "nbformat": 4,
 "nbformat_minor": 2
}
