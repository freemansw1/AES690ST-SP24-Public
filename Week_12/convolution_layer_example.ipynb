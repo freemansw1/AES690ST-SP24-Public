{
 "cells": [
  {
   "cell_type": "code",
   "execution_count": null,
   "metadata": {},
   "outputs": [],
   "source": [
    "%matplotlib inline"
   ]
  },
  {
   "cell_type": "code",
   "execution_count": null,
   "metadata": {},
   "outputs": [],
   "source": [
    "!conda install -y -c conda-forge zarr"
   ]
  },
  {
   "cell_type": "markdown",
   "metadata": {},
   "source": [
    "Adapted in part from Chase et al. (2023): https://github.com/ai2es/WAF_ML_Tutorial_Part2/blob/main/jupyter_notebooks/Notebook07_CNNs.ipynb"
   ]
  },
  {
   "cell_type": "code",
   "execution_count": null,
   "metadata": {},
   "outputs": [],
   "source": [
    "import xarray as xr\n",
    "import matplotlib.pyplot as plt\n",
    "import tensorflow as tf\n",
    "import tensorflow.keras as keras\n",
    "import zarr\n",
    "import numpy as np"
   ]
  },
  {
   "cell_type": "code",
   "execution_count": null,
   "metadata": {},
   "outputs": [],
   "source": [
    "#base_folder ='/share/share/sub-sevir/'\n",
    "base_folder = '/Users/seanfreeman/Documents/Teaching/Spring_2024/'"
   ]
  },
  {
   "cell_type": "code",
   "execution_count": null,
   "metadata": {},
   "outputs": [],
   "source": [
    "training_ds = xr.open_dataset(base_folder+\"/sub-sevir/sub-sevir-train.zarr\", engine='zarr')"
   ]
  },
  {
   "cell_type": "code",
   "execution_count": null,
   "metadata": {},
   "outputs": [],
   "source": [
    "training_ds"
   ]
  },
  {
   "cell_type": "code",
   "execution_count": null,
   "metadata": {},
   "outputs": [],
   "source": [
    "np.unique(training_ds['label_1d_class'])\n",
    "#0: not thunderstorm, 1: thunderstorm"
   ]
  },
  {
   "cell_type": "code",
   "execution_count": null,
   "metadata": {},
   "outputs": [],
   "source": [
    "ds_train = tf.data.Dataset.from_tensor_slices((training_ds.features.values,training_ds.label_1d_class.values))\n",
    "ds_train = ds_train.shuffle(ds_train.cardinality().numpy())\n",
    "batch_size = 32\n",
    "ds_train = ds_train.batch(batch_size)\n"
   ]
  },
  {
   "cell_type": "code",
   "execution_count": null,
   "metadata": {},
   "outputs": [],
   "source": [
    "ds_train"
   ]
  },
  {
   "cell_type": "code",
   "execution_count": null,
   "metadata": {},
   "outputs": [],
   "source": [
    "tf.keras.backend.clear_session()\n",
    "keras.utils.set_random_seed(1)\n",
    "input1 = keras.layers.Input(shape=(48,48,4))\n",
    "input_pool = keras.layers.MaxPool2D(pool_size=(2, 2), padding='same')(input1)\n",
    "conv_layer1 = keras.layers.Conv2D(1, kernel_size=3, activation='relu')(input_pool)\n",
    "flat_layer = keras.layers.Flatten()(conv_layer1)\n",
    "out_layer = keras.layers.Dense(1, activation='sigmoid')(flat_layer)\n",
    "model_pool = keras.models.Model(inputs=[input1], outputs=[out_layer])\n",
    "model_pool.compile(optimizer=keras.optimizers.legacy.Adam(), loss='mean_squared_error')\n",
    "model_pool.summary()\n"
   ]
  },
  {
   "cell_type": "code",
   "execution_count": null,
   "metadata": {},
   "outputs": [],
   "source": [
    "# predict before training on random weights\n",
    "out_pool = model_pool.predict(training_ds.features.values)"
   ]
  },
  {
   "cell_type": "code",
   "execution_count": null,
   "metadata": {},
   "outputs": [],
   "source": [
    "out_pool.shape"
   ]
  },
  {
   "cell_type": "code",
   "execution_count": null,
   "metadata": {},
   "outputs": [],
   "source": [
    "plt.hist(out_pool)"
   ]
  },
  {
   "cell_type": "code",
   "execution_count": null,
   "metadata": {},
   "outputs": [],
   "source": [
    "model_pool.fit(ds_train, epochs=3)"
   ]
  },
  {
   "cell_type": "code",
   "execution_count": null,
   "metadata": {},
   "outputs": [],
   "source": [
    "# convolution weights\n",
    "filters = model_pool.weights[0]\n",
    "filters.shape\n"
   ]
  },
  {
   "cell_type": "code",
   "execution_count": null,
   "metadata": {},
   "outputs": [],
   "source": [
    "fig,axes = plt.subplots(1,4,figsize=(20,5))\n",
    "\n",
    "for i in np.arange(0,4):\n",
    "    pm = axes[i].imshow(filters[:,:,i,0],vmin=-1,vmax=1,cmap='seismic')\n",
    "    plt.colorbar(pm,ax=axes[i])\n"
   ]
  },
  {
   "cell_type": "code",
   "execution_count": null,
   "metadata": {},
   "outputs": [],
   "source": [
    "for l,layer in enumerate(model_pool.layers):\n",
    "    print(l,layer.name)\n",
    "    print(l, layer.weights)\n"
   ]
  },
  {
   "cell_type": "code",
   "execution_count": null,
   "metadata": {},
   "outputs": [],
   "source": []
  }
 ],
 "metadata": {
  "kernelspec": {
   "display_name": "aes690st-sp24-test",
   "language": "python",
   "name": "python3"
  },
  "language_info": {
   "codemirror_mode": {
    "name": "ipython",
    "version": 3
   },
   "file_extension": ".py",
   "mimetype": "text/x-python",
   "name": "python",
   "nbconvert_exporter": "python",
   "pygments_lexer": "ipython3",
   "version": "3.11.6"
  }
 },
 "nbformat": 4,
 "nbformat_minor": 2
}
