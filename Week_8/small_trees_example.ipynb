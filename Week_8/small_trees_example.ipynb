{
 "cells": [
  {
   "cell_type": "markdown",
   "metadata": {},
   "source": [
    "# Classification Decision Trees: Keeping them small"
   ]
  },
  {
   "cell_type": "code",
   "execution_count": null,
   "metadata": {},
   "outputs": [],
   "source": [
    "%matplotlib inline"
   ]
  },
  {
   "cell_type": "code",
   "execution_count": null,
   "metadata": {},
   "outputs": [],
   "source": [
    "import tensorflow as tf\n",
    "import numpy as np\n",
    "import matplotlib.pyplot as plt\n",
    "import pandas as pd\n",
    "import copy\n",
    "from sklearn import tree"
   ]
  },
  {
   "cell_type": "markdown",
   "metadata": {},
   "source": [
    "Load in our ASOS Data"
   ]
  },
  {
   "cell_type": "code",
   "execution_count": null,
   "metadata": {},
   "outputs": [],
   "source": [
    "input_data = pd.read_csv(\"../Week_6/al_asos_jul_23_v2.csv\")"
   ]
  },
  {
   "cell_type": "code",
   "execution_count": null,
   "metadata": {},
   "outputs": [],
   "source": [
    "input_data= input_data.dropna(subset=\"skyc1\")"
   ]
  },
  {
   "cell_type": "code",
   "execution_count": null,
   "metadata": {},
   "outputs": [],
   "source": [
    "input_data.groupby('skyc1').count()"
   ]
  },
  {
   "cell_type": "code",
   "execution_count": null,
   "metadata": {},
   "outputs": [],
   "source": [
    "sky_cond_ints = {cond:i for i, cond  in enumerate(input_data['skyc1'].unique())}\n",
    "sky_cond_ints"
   ]
  },
  {
   "cell_type": "code",
   "execution_count": null,
   "metadata": {},
   "outputs": [],
   "source": [
    "input_data['skyc1_int'] = [sky_cond_ints[val] for val in input_data['skyc1']]"
   ]
  },
  {
   "cell_type": "code",
   "execution_count": null,
   "metadata": {},
   "outputs": [],
   "source": [
    "from sklearn.model_selection import train_test_split"
   ]
  },
  {
   "cell_type": "code",
   "execution_count": null,
   "metadata": {},
   "outputs": [],
   "source": [
    "training_data, test_validation = train_test_split(input_data, test_size=0.25)\n",
    "testing_data, validation_data = train_test_split(test_validation, test_size=0.5)"
   ]
  },
  {
   "cell_type": "code",
   "execution_count": null,
   "metadata": {},
   "outputs": [],
   "source": [
    "input_data"
   ]
  },
  {
   "cell_type": "code",
   "execution_count": null,
   "metadata": {},
   "outputs": [],
   "source": [
    "my_tree = tree.DecisionTreeClassifier(criterion='gini', max_depth=4)"
   ]
  },
  {
   "cell_type": "code",
   "execution_count": null,
   "metadata": {},
   "outputs": [],
   "source": [
    "my_tree.fit(training_data[['tmpf', 'dwpf']], training_data['skyc1_int'])"
   ]
  },
  {
   "cell_type": "code",
   "execution_count": null,
   "metadata": {},
   "outputs": [],
   "source": [
    "tree.plot_tree(my_tree)\n",
    "plt.savefig(\"my_tree.pdf\")"
   ]
  },
  {
   "cell_type": "code",
   "execution_count": null,
   "metadata": {},
   "outputs": [],
   "source": [
    "my_tree.score(training_data[['tmpf', 'dwpf']], training_data['skyc1_int'])"
   ]
  },
  {
   "cell_type": "code",
   "execution_count": null,
   "metadata": {},
   "outputs": [],
   "source": [
    "my_tree.score(validation_data[['tmpf', 'dwpf']], validation_data['skyc1_int'])"
   ]
  },
  {
   "cell_type": "code",
   "execution_count": null,
   "metadata": {},
   "outputs": [],
   "source": [
    "train_data_scores = list()\n",
    "validation_data_scores = list()\n",
    "depths = np.arange(2,20, 1, dtype=int)\n",
    "for depth in depths:\n",
    "    my_tree = tree.DecisionTreeClassifier(criterion='gini', max_depth=depth)\n",
    "    my_tree.fit(training_data[['tmpf', 'dwpf']], training_data['skyc1_int'])\n",
    "    train_data_scores.append(my_tree.score(training_data[['tmpf', 'dwpf']], training_data['skyc1_int']))\n",
    "    validation_data_scores.append(my_tree.score(validation_data[['tmpf', 'dwpf']], \n",
    "                                                validation_data['skyc1_int']))"
   ]
  },
  {
   "cell_type": "code",
   "execution_count": null,
   "metadata": {},
   "outputs": [],
   "source": [
    "plt.plot(depths, train_data_scores, linestyle='-', label='training data score')\n",
    "plt.plot(depths, validation_data_scores, linestyle='--', label='validation data score')"
   ]
  },
  {
   "cell_type": "code",
   "execution_count": null,
   "metadata": {},
   "outputs": [],
   "source": [
    "train_data_scores = list()\n",
    "validation_data_scores = list()\n",
    "depths = np.arange(2,50, 1, dtype=int)\n",
    "for depth in depths:\n",
    "    my_tree = tree.DecisionTreeClassifier(criterion='gini', max_depth=depth)\n",
    "    my_tree.fit(training_data[['tmpf', 'dwpf', 'sknt', 'p01i']], training_data['skyc1_int'])\n",
    "    train_data_scores.append(my_tree.score(training_data[['tmpf', 'dwpf', 'sknt', 'p01i']], training_data['skyc1_int']))\n",
    "    validation_data_scores.append(my_tree.score(validation_data[['tmpf', 'dwpf', 'sknt', 'p01i']], \n",
    "                                                validation_data['skyc1_int']))"
   ]
  },
  {
   "cell_type": "code",
   "execution_count": null,
   "metadata": {},
   "outputs": [],
   "source": [
    "plt.plot(depths, train_data_scores, linestyle='-', label='training data score')\n",
    "plt.plot(depths, validation_data_scores, linestyle='--', label='validation data score')"
   ]
  },
  {
   "cell_type": "code",
   "execution_count": null,
   "metadata": {},
   "outputs": [],
   "source": []
  }
 ],
 "metadata": {
  "kernelspec": {
   "display_name": "aes690st-sp24-test",
   "language": "python",
   "name": "python3"
  },
  "language_info": {
   "codemirror_mode": {
    "name": "ipython",
    "version": 3
   },
   "file_extension": ".py",
   "mimetype": "text/x-python",
   "name": "python",
   "nbconvert_exporter": "python",
   "pygments_lexer": "ipython3",
   "version": "3.11.6"
  }
 },
 "nbformat": 4,
 "nbformat_minor": 2
}
