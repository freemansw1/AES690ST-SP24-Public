{
 "cells": [
  {
   "cell_type": "markdown",
   "metadata": {},
   "source": [
    "## Data Types Overview"
   ]
  },
  {
   "cell_type": "markdown",
   "metadata": {},
   "source": [
    "References and further reading:\n",
    "https://blog.demofox.org/2017/11/21/floating-point-precision/\n",
    "https://fabiensanglard.net/floating_point_visually_explained/\n",
    "https://lukaskollmer.de/ieee-754-visualizer/\n",
    "https://docs.oracle.com/cd/E19957-01/806-3568/ncg_goldberg.html"
   ]
  },
  {
   "cell_type": "code",
   "execution_count": null,
   "metadata": {},
   "outputs": [],
   "source": [
    "# required imports\n",
    "import numpy as np\n",
    "import copy"
   ]
  },
  {
   "cell_type": "markdown",
   "metadata": {},
   "source": [
    "In Atmospheric and Earth Science, we typically (although not exclusively!) work with *numerical* data at some level. Whether our input data are pictures from a satellite, numerical model output, radar output, or something else, each pixel is represented as a single (or set of) numerical values. In this module, we will examine the data types that we represent, focusing on numerical data types."
   ]
  },
  {
   "cell_type": "markdown",
   "metadata": {},
   "source": [
    "![test](python_standard_data_types.png)"
   ]
  },
  {
   "cell_type": "markdown",
   "metadata": {},
   "source": [
    "While the above image represents the basic *Python* data types, we almost never want to work in that space in big data. Instead, we typically work inside the `numpy` ecosystem (even `Dask`, which is its own array type that we will learn later, uses `numpy` under the hood). We will see one reason (although certainly not the only) here."
   ]
  },
  {
   "cell_type": "markdown",
   "metadata": {},
   "source": [
    "### Integer Types"
   ]
  },
  {
   "cell_type": "markdown",
   "metadata": {},
   "source": [
    "Integer types are just that: representation of *integers*. That means anything after the decimal point cannot generally be represented as an integer. Inside of AES, we often see integers used for things like raw satellite retrievals and other instrument data (e.g., GOES-R series satellites use 16 bit scaled integers rather than 32 bit floats to save space), and for things like model timesteps. We typically don't work directly with integers, but we need to cover them for completeness. \n",
    "\n",
    "Integer data types are generally simple to work with (although their backend representation is more complicated than it would seem on its face; we won't cover that in detail in this class). Integers are always exactly represented in memory, rather than being approximated in the way that floating point numbers are. \n",
    "\n",
    "Integer data types have a range of values that they can store, depending on the number of bits used. An integer data type can hold up to $2^x$ unique values, where $x$ is the number of bits (typically 8, 16, 32, 64, or 128). \n",
    "\n",
    "There are generally two kinds of integers: **signed** and **unsigned**. Signed integers allow negative numbers, but have a smaller maximum range of values as the negative side must be represented as well. Unsigned integers do *not* allow negative numbers, but have a larger maximum range. Using this information, we can figure out that an unsigned integer can represent whole numbers from $0$ to $2^x-1$ (remember that 0 must also be represented) and signed integer can represent numbers from $-2^{x-1}$ to $2^{x-1}-1$ (we lose a power of 2 due to needing to represent the negative side).\n"
   ]
  },
  {
   "cell_type": "code",
   "execution_count": null,
   "metadata": {},
   "outputs": [],
   "source": [
    "# let's explore with a large integer. \n",
    "dtypes = [np.int8, np.int16, np.int32, np.int64]\n",
    "int_value = 255\n",
    "for dtype in dtypes:\n",
    "    print(dtype, np.array(int_value).astype(dtype))"
   ]
  },
  {
   "cell_type": "code",
   "execution_count": null,
   "metadata": {},
   "outputs": [],
   "source": [
    "# Let's look at unsigned integers, now. You get more space!\n",
    "dtypes = [np.uint8, np.uint16, np.uint32, np.uint64]\n",
    "int_value = 255\n",
    "for dtype in dtypes:\n",
    "    print(dtype, np.array(int_value).astype(dtype))"
   ]
  },
  {
   "cell_type": "markdown",
   "metadata": {},
   "source": [
    "### Float Types"
   ]
  },
  {
   "cell_type": "code",
   "execution_count": null,
   "metadata": {},
   "outputs": [],
   "source": [
    "# first, simple representation of a float with 3 digits\n",
    "x_python = 0.1\n",
    "dtypes = [np.float16, np.float32, np.float64]\n",
    "for dtype in dtypes:\n",
    "    print(dtype, np.array(x_python).astype(dtype))"
   ]
  },
  {
   "cell_type": "code",
   "execution_count": null,
   "metadata": {},
   "outputs": [],
   "source": [
    "# next, increase the number of digits\n",
    "x_python = 34.7304\n",
    "dtypes = [np.float16, np.float32, np.float64]\n",
    "for dtype in dtypes:\n",
    "    print(dtype, np.array(x_python).astype(dtype))"
   ]
  },
  {
   "cell_type": "code",
   "execution_count": null,
   "metadata": {},
   "outputs": [],
   "source": [
    "# What happens when we add?\n",
    "dtypes = [np.float16, np.float32, np.float64]\n",
    "for dtype in dtypes:\n",
    "    print(dtype, np.array(3.5).astype(dtype)+np.array(0.0001).astype(dtype))"
   ]
  },
  {
   "cell_type": "code",
   "execution_count": null,
   "metadata": {},
   "outputs": [],
   "source": [
    "dtypes = [np.float16, np.float32, np.float64]\n",
    "for dtype in dtypes:\n",
    "    print(dtype, np.array(3.5).astype(dtype)+np.array(0.0000001).astype(dtype))"
   ]
  },
  {
   "cell_type": "code",
   "execution_count": null,
   "metadata": {},
   "outputs": [],
   "source": [
    "# what happens when we integrate?\n",
    "dtypes = [np.float16, np.float32, np.float64]\n",
    "initial_value_py = 0\n",
    "increment_value_py = 0.1\n",
    "num_timesteps = 2000\n",
    "for dtype in dtypes:\n",
    "    initial_value = np.array(initial_value_py).astype(dtype)\n",
    "    increment_value = np.array(increment_value_py).astype(dtype)\n",
    "    curr_value = copy.deepcopy(initial_value)\n",
    "    for timestep in range(0, num_timesteps):\n",
    "        curr_value+=increment_value\n",
    "    \n",
    "    print(dtype, curr_value)"
   ]
  },
  {
   "cell_type": "markdown",
   "metadata": {},
   "source": [
    "### Float Accuracy"
   ]
  },
  {
   "cell_type": "code",
   "execution_count": null,
   "metadata": {},
   "outputs": [],
   "source": [
    "# we let python round and show close enough values before. \n",
    "x_python = 0.1\n",
    "dtypes = [np.float16, np.float32, np.float64]\n",
    "for dtype in dtypes:\n",
    "    print(dtype, format(np.array(x_python).astype(dtype), '.60g'))\n"
   ]
  },
  {
   "cell_type": "code",
   "execution_count": null,
   "metadata": {},
   "outputs": [],
   "source": [
    "x_python = 0.1\n",
    "dtypes = [np.float16, np.float32, np.float64]\n",
    "for dtype in dtypes:\n",
    "    print(dtype, format(np.array(x_python).astype(dtype)+np.array(x_python).astype(dtype), '.60g'))\n"
   ]
  },
  {
   "cell_type": "markdown",
   "metadata": {},
   "source": [
    "### Float Storage"
   ]
  },
  {
   "cell_type": "code",
   "execution_count": null,
   "metadata": {},
   "outputs": [],
   "source": [
    "out_dir = \"./\"\n",
    "# array size\n",
    "arr_size = (100, 100)\n",
    "dtypes = [np.float16, np.float32, np.float64]\n",
    "dtype_names = [\"float16\", \"float32\", \"float64\"]\n",
    "for dtype, dtype_name in zip(dtypes, dtype_names):\n",
    "    arr = np.random.random_sample(arr_size).astype(dtype)\n",
    "    np.save(open(\"{0}test_arr{1}.npy\".format(out_dir, dtype_name), 'wb'), arr)\n"
   ]
  },
  {
   "cell_type": "code",
   "execution_count": null,
   "metadata": {},
   "outputs": [],
   "source": [
    "!ls -lh"
   ]
  },
  {
   "cell_type": "code",
   "execution_count": null,
   "metadata": {},
   "outputs": [],
   "source": []
  }
 ],
 "metadata": {
  "kernelspec": {
   "display_name": "aes690st-sp24-test",
   "language": "python",
   "name": "python3"
  },
  "language_info": {
   "codemirror_mode": {
    "name": "ipython",
    "version": 3
   },
   "file_extension": ".py",
   "mimetype": "text/x-python",
   "name": "python",
   "nbconvert_exporter": "python",
   "pygments_lexer": "ipython3",
   "version": "3.11.6"
  },
  "orig_nbformat": 4
 },
 "nbformat": 4,
 "nbformat_minor": 2
}
