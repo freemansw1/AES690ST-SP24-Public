{
 "cells": [
  {
   "cell_type": "code",
   "execution_count": null,
   "metadata": {},
   "outputs": [],
   "source": [
    "%matplotlib inline"
   ]
  },
  {
   "cell_type": "code",
   "execution_count": null,
   "metadata": {},
   "outputs": [],
   "source": [
    "import pandas as pd\n",
    "import matplotlib.pyplot as plt\n",
    "import numpy as np"
   ]
  },
  {
   "cell_type": "code",
   "execution_count": null,
   "metadata": {},
   "outputs": [],
   "source": [
    "in_asos = pd.read_csv('./asos.csv')"
   ]
  },
  {
   "cell_type": "code",
   "execution_count": null,
   "metadata": {},
   "outputs": [],
   "source": [
    "in_asos"
   ]
  },
  {
   "cell_type": "code",
   "execution_count": null,
   "metadata": {},
   "outputs": [],
   "source": [
    "in_asos_hot = in_asos[in_asos['tmpf']>80]"
   ]
  },
  {
   "cell_type": "code",
   "execution_count": null,
   "metadata": {},
   "outputs": [],
   "source": [
    "plt.scatter(in_asos_hot['tmpf'], in_asos_hot['feel'], s=0.5)\n",
    "plt.xlabel(\"Temperature (F)\")\n",
    "plt.ylabel(\"Feels like (F)\")\n",
    "plt.savefig('basic_heat_vs_temp.png', dpi=300)"
   ]
  },
  {
   "cell_type": "code",
   "execution_count": null,
   "metadata": {},
   "outputs": [],
   "source": [
    "def loss_function_1(predictors, actual):\n",
    "    return 1/(2*len(predictors))* np.sum(np.power(predictors-actual, 2))"
   ]
  },
  {
   "cell_type": "code",
   "execution_count": null,
   "metadata": {},
   "outputs": [],
   "source": [
    "#monte carlo\n",
    "monte_carlo_runs = 1000\n",
    "random_w0 = np.random.default_rng().uniform(low=-100, high=100, size=(monte_carlo_runs,))\n",
    "random_w1 = np.random.default_rng().uniform(low=-100, high=100, size=(monte_carlo_runs,))\n",
    "loss_function_output = np.empty(monte_carlo_runs)\n",
    "for i, (w0, w1) in enumerate(zip(random_w0, random_w1)):\n",
    "    predictors = w0 + w1*in_asos_hot['tmpf']\n",
    "    loss_function_output[i] = loss_function_1(predictors, in_asos_hot['feel'])"
   ]
  },
  {
   "cell_type": "code",
   "execution_count": null,
   "metadata": {},
   "outputs": [],
   "source": [
    "minimized_montecarlo = np.argmin(loss_function_output)\n",
    "minimized_w0 = random_w0[minimized_montecarlo]\n",
    "minimized_w1 = random_w1[minimized_montecarlo]\n",
    "predictor_func = lambda x: minimized_w0 + minimized_w1*x\n",
    "plt.scatter(in_asos_hot['tmpf'], in_asos_hot['feel'], s=0.5)\n",
    "plt.plot([80, 100], [predictor_func(80), predictor_func(100)], color='r')\n",
    "plt.title(\"y={0}+{1}*x\".format(minimized_w0, minimized_w1))\n",
    "plt.xlabel(\"Temperature (F)\")\n",
    "plt.ylabel(\"Feels like (F)\")\n",
    "#plt.savefig('basic_heat_vs_temp.png', dpi=300)"
   ]
  },
  {
   "cell_type": "code",
   "execution_count": null,
   "metadata": {},
   "outputs": [],
   "source": [
    "number_iterations = 1000\n",
    "learning_rate = 0.0001\n",
    "# initial weights\n",
    "temp_w0 = 0\n",
    "temp_w1 = 0\n",
    "\n",
    "\n",
    "# loss function outputs\n",
    "loss_outputs = np.empty(number_iterations)\n",
    "w0_outputs = np.empty(number_iterations)\n",
    "w1_outputs = np.empty(number_iterations)\n",
    "\n",
    "num_values = len(in_asos_hot)\n",
    "y_truth = in_asos_hot['feel']\n",
    "\n",
    "for iteration_num in range(number_iterations):\n",
    "    # calculate our predicted y values from our current weights\n",
    "    y_hat = temp_w0 + temp_w1*in_asos_hot['tmpf']\n",
    "\n",
    "    loss_outputs[iteration_num] = loss_function_1(y_hat, y_truth)\n",
    "    \n",
    "    d_loss_d_w0 = 1/num_values * np.sum(y_hat-y_truth)\n",
    "\n",
    "    d_loss_d_w1 = 1/num_values * np.sum(in_asos_hot['tmpf']*(y_hat-y_truth))\n",
    "\n",
    "    temp_w0 = temp_w0 - learning_rate * d_loss_d_w0\n",
    "    temp_w1 = temp_w1 - learning_rate * d_loss_d_w1\n",
    "final_w0_graddec = temp_w0\n",
    "final_w1_graddec = temp_w1\n"
   ]
  },
  {
   "cell_type": "code",
   "execution_count": null,
   "metadata": {},
   "outputs": [],
   "source": [
    "plt.semilogy(loss_outputs)"
   ]
  },
  {
   "cell_type": "code",
   "execution_count": null,
   "metadata": {},
   "outputs": [],
   "source": [
    "minimized_w0 = final_w0_graddec\n",
    "minimized_w1 = final_w1_graddec\n",
    "predictor_func = lambda x: minimized_w0 + minimized_w1*x\n",
    "plt.scatter(in_asos_hot['tmpf'], in_asos_hot['feel'], s=0.5)\n",
    "plt.plot([80, 100], [predictor_func(80), predictor_func(100)], color='r')\n",
    "plt.title(\"y={0}+{1}*x\".format(minimized_w0, minimized_w1))\n",
    "plt.xlabel(\"Temperature (F)\")\n",
    "plt.ylabel(\"Feels like (F)\")\n",
    "#plt.savefig('basic_heat_vs_temp.png', dpi=300)"
   ]
  }
 ],
 "metadata": {
  "kernelspec": {
   "display_name": "aes690st-sp24-test",
   "language": "python",
   "name": "python3"
  },
  "language_info": {
   "codemirror_mode": {
    "name": "ipython",
    "version": 3
   },
   "file_extension": ".py",
   "mimetype": "text/x-python",
   "name": "python",
   "nbconvert_exporter": "python",
   "pygments_lexer": "ipython3",
   "version": "3.11.6"
  }
 },
 "nbformat": 4,
 "nbformat_minor": 2
}
