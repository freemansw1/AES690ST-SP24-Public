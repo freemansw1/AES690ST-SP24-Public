{
 "cells": [
  {
   "cell_type": "markdown",
   "metadata": {},
   "source": [
    "# The dangers of extrapolation and overfitting"
   ]
  },
  {
   "cell_type": "code",
   "execution_count": null,
   "metadata": {},
   "outputs": [],
   "source": [
    "import tensorflow as tf\n",
    "import numpy as np\n",
    "from tensorflow.keras import Sequential\n",
    "from tensorflow.keras.layers import Dense\n",
    "import tensorflow.keras as keras\n",
    "import matplotlib.pyplot as plt"
   ]
  },
  {
   "cell_type": "code",
   "execution_count": null,
   "metadata": {},
   "outputs": [],
   "source": [
    "# Tensorflow can run on GPUs, although we won't be doing this today. On Matrix or on your personal computer, this may be an option.\n",
    "tf.config.list_physical_devices('GPU') "
   ]
  },
  {
   "cell_type": "code",
   "execution_count": null,
   "metadata": {},
   "outputs": [],
   "source": [
    "x_vals = np.arange(-10, 11, 1)\n",
    "y_vals = np.array([x**2 - 1 for x in x_vals])"
   ]
  },
  {
   "cell_type": "code",
   "execution_count": null,
   "metadata": {},
   "outputs": [],
   "source": [
    "x_vals, y_vals"
   ]
  },
  {
   "cell_type": "code",
   "execution_count": null,
   "metadata": {},
   "outputs": [],
   "source": [
    "plt.scatter(x_vals, y_vals)"
   ]
  },
  {
   "cell_type": "code",
   "execution_count": null,
   "metadata": {},
   "outputs": [],
   "source": [
    "# Let's try a different form\n",
    "input1 = keras.layers.Input(shape=(1, ))\n",
    "dense1 = keras.layers.Dense(4, input_dim=1, activation=keras.activations.sigmoid)(input1)\n",
    "output = keras.layers.Dense(1, activation=keras.activations.relu, use_bias=True)(dense1)\n",
    "model10 = keras.models.Model(inputs=[input1], outputs=[output])\n"
   ]
  },
  {
   "cell_type": "code",
   "execution_count": null,
   "metadata": {},
   "outputs": [],
   "source": [
    "model10.summary()"
   ]
  },
  {
   "cell_type": "code",
   "execution_count": null,
   "metadata": {},
   "outputs": [],
   "source": [
    "model10.compile(optimizer=keras.optimizers.legacy.Adam(learning_rate=0.01), loss='mean_squared_error')"
   ]
  },
  {
   "cell_type": "code",
   "execution_count": null,
   "metadata": {},
   "outputs": [],
   "source": [
    "model10.fit(x_vals, y_vals, epochs=100)"
   ]
  },
  {
   "cell_type": "code",
   "execution_count": null,
   "metadata": {},
   "outputs": [],
   "source": [
    "random_x_data = np.random.uniform(low=-10, high=10, size=(10,))\n",
    "random_y_data = model10.predict([random_x_data])"
   ]
  },
  {
   "cell_type": "code",
   "execution_count": null,
   "metadata": {},
   "outputs": [],
   "source": [
    "plt.scatter(x_vals, y_vals, c='C0', marker='x', label='Training Data')\n",
    "plt.scatter(random_x_data, random_y_data, c='C1', marker='x', label='Prediction')\n",
    "plt.legend()"
   ]
  },
  {
   "cell_type": "code",
   "execution_count": null,
   "metadata": {},
   "outputs": [],
   "source": [
    "# Let's try adding different layers\n",
    "input1 = keras.layers.Input(shape=(1, ))\n",
    "dense1 = keras.layers.Dense(4, input_dim=1, activation=keras.activations.sigmoid)(input1)\n",
    "dense2 = keras.layers.Dense(4, input_dim=1, activation=keras.activations.sigmoid)(dense1)\n",
    "dense3 = keras.layers.Dense(4, input_dim=1, activation=keras.activations.sigmoid)(dense2)\n",
    "\n",
    "output = keras.layers.Dense(1, activation=keras.activations.relu, use_bias=True)(dense3)\n",
    "model10 = keras.models.Model(inputs=[input1], outputs=[output])\n",
    "model10.compile(optimizer=keras.optimizers.legacy.Adam(learning_rate=0.01), loss='mean_squared_error')\n",
    "model10.summary()"
   ]
  },
  {
   "cell_type": "code",
   "execution_count": null,
   "metadata": {},
   "outputs": [],
   "source": [
    "model10.fit(x_vals, y_vals, epochs=100)"
   ]
  },
  {
   "cell_type": "code",
   "execution_count": null,
   "metadata": {},
   "outputs": [],
   "source": [
    "random_x_data = np.random.uniform(low=-10, high=10, size=(10,))\n",
    "random_y_data = model10.predict([random_x_data])"
   ]
  },
  {
   "cell_type": "code",
   "execution_count": null,
   "metadata": {},
   "outputs": [],
   "source": [
    "plt.scatter(x_vals, y_vals, c='C0', marker='x', label='Training Data')\n",
    "plt.scatter(random_x_data, random_y_data, c='C1', marker='x', label='Prediction')\n",
    "plt.legend()"
   ]
  },
  {
   "cell_type": "code",
   "execution_count": null,
   "metadata": {},
   "outputs": [],
   "source": [
    "# Let's try adding different layers\n",
    "input1 = keras.layers.Input(shape=(1, ))\n",
    "dense1 = keras.layers.Dense(40, input_dim=1, activation=keras.activations.sigmoid)(input1)\n",
    "dense2 = keras.layers.Dense(40, input_dim=1, activation=keras.activations.sigmoid)(dense1)\n",
    "dense3 = keras.layers.Dense(40, input_dim=1, activation=keras.activations.sigmoid)(dense2)\n",
    "\n",
    "output = keras.layers.Dense(1, activation=keras.activations.relu, use_bias=True)(dense3)\n",
    "model10 = keras.models.Model(inputs=[input1], outputs=[output])\n",
    "model10.compile(optimizer=keras.optimizers.legacy.Adam(learning_rate=0.01), loss='mean_squared_error')\n",
    "model10.summary()"
   ]
  },
  {
   "cell_type": "code",
   "execution_count": null,
   "metadata": {},
   "outputs": [],
   "source": [
    "model10.fit(x_vals, y_vals, epochs=1000)"
   ]
  },
  {
   "cell_type": "code",
   "execution_count": null,
   "metadata": {},
   "outputs": [],
   "source": [
    "random_x_data = np.random.uniform(low=-10, high=10, size=(10,))\n",
    "random_y_data = model10.predict([random_x_data])"
   ]
  },
  {
   "cell_type": "code",
   "execution_count": null,
   "metadata": {},
   "outputs": [],
   "source": [
    "plt.scatter(x_vals, y_vals, c='C0', marker='x', label='Training Data')\n",
    "plt.scatter(random_x_data, random_y_data, c='C1', marker='x', label='Prediction')\n",
    "plt.legend()"
   ]
  },
  {
   "cell_type": "code",
   "execution_count": null,
   "metadata": {},
   "outputs": [],
   "source": [
    "random_x_data = np.random.uniform(low=-100, high=100, size=(100,))\n",
    "random_y_data = model10.predict([random_x_data])\n",
    "exact_y_data = random_x_data**2 - 1"
   ]
  },
  {
   "cell_type": "code",
   "execution_count": null,
   "metadata": {},
   "outputs": [],
   "source": [
    "exact_y_data.shape"
   ]
  },
  {
   "cell_type": "code",
   "execution_count": null,
   "metadata": {},
   "outputs": [],
   "source": [
    "plt.scatter(random_y_data, exact_y_data, marker='x')\n",
    "plt.plot([0, 100], [0, 100], color='grey', ls='--')\n",
    "plt.xlabel(\"Predicted Value\")\n",
    "plt.ylabel(\"Actual Value\")"
   ]
  },
  {
   "cell_type": "markdown",
   "metadata": {},
   "source": [
    "This seems like a combination of overfitting and extrapolation to me. Let's see if we can fix the overfitting problem first. "
   ]
  },
  {
   "cell_type": "code",
   "execution_count": null,
   "metadata": {},
   "outputs": [],
   "source": [
    "plt.scatter(random_y_data, exact_y_data, marker='x')\n",
    "plt.plot([0, 100], [0, 100], color='grey', ls='--')\n",
    "plt.xlabel(\"Predicted Value\")\n",
    "plt.ylabel(\"Actual Value\")\n",
    "plt.xlim(0, 150)\n",
    "plt.ylim(0, 150)"
   ]
  },
  {
   "cell_type": "code",
   "execution_count": null,
   "metadata": {},
   "outputs": [],
   "source": [
    "input_x_data = np.random.uniform(low=-10, high=10, size=(1000,))\n",
    "input_y_data = input_x_data**2 - 1"
   ]
  },
  {
   "cell_type": "code",
   "execution_count": null,
   "metadata": {},
   "outputs": [],
   "source": [
    "# Let's try adding different layers\n",
    "input1 = keras.layers.Input(shape=(1, ))\n",
    "dense1 = keras.layers.Dense(40, input_dim=1, activation=keras.activations.sigmoid)(input1)\n",
    "dense2 = keras.layers.Dense(40, input_dim=1, activation=keras.activations.sigmoid)(dense1)\n",
    "dense3 = keras.layers.Dense(40, input_dim=1, activation=keras.activations.sigmoid)(dense2)\n",
    "\n",
    "output = keras.layers.Dense(1, activation=keras.activations.relu, use_bias=True)(dense3)\n",
    "model10 = keras.models.Model(inputs=[input1], outputs=[output])\n",
    "model10.compile(optimizer=keras.optimizers.legacy.Adam(learning_rate=0.01), loss='mean_squared_error')\n",
    "model10.summary()"
   ]
  }
 ],
 "metadata": {
  "kernelspec": {
   "display_name": "aes690st-sp24-test",
   "language": "python",
   "name": "python3"
  },
  "language_info": {
   "codemirror_mode": {
    "name": "ipython",
    "version": 3
   },
   "file_extension": ".py",
   "mimetype": "text/x-python",
   "name": "python",
   "nbconvert_exporter": "python",
   "pygments_lexer": "ipython3",
   "version": "3.11.6"
  }
 },
 "nbformat": 4,
 "nbformat_minor": 2
}
