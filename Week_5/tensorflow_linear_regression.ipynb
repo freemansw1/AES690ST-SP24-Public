{
 "cells": [
  {
   "cell_type": "markdown",
   "metadata": {},
   "source": [
    "# Linear Regression with Tensorflow"
   ]
  },
  {
   "cell_type": "code",
   "execution_count": null,
   "metadata": {},
   "outputs": [],
   "source": [
    "import tensorflow as tf\n",
    "import numpy as np\n",
    "from tensorflow.keras import Sequential\n",
    "from tensorflow.keras.layers import Dense\n",
    "import matplotlib.pyplot as plt"
   ]
  },
  {
   "cell_type": "markdown",
   "metadata": {},
   "source": [
    "We are going to try to reproduce the linear regression that we did last week. But, instead of calculating the derivatives analytically and ourselves, we will instead use tensorflow."
   ]
  },
  {
   "cell_type": "code",
   "execution_count": null,
   "metadata": {},
   "outputs": [],
   "source": [
    "# Tensorflow can run on GPUs, although we won't be doing this today. On Matrix or on your personal computer, this may be an option.\n",
    "tf.config.list_physical_devices('GPU') "
   ]
  },
  {
   "cell_type": "markdown",
   "metadata": {},
   "source": [
    "Rather than start with the more complex case of the heat index as we did last week, let's start with a simple equation: $y=2x-1$. "
   ]
  },
  {
   "cell_type": "code",
   "execution_count": null,
   "metadata": {},
   "outputs": [],
   "source": [
    "x_vals = np.arange(-3, 6, 1)\n",
    "y_vals = np.array([2*x - 1 for x in x_vals])"
   ]
  },
  {
   "cell_type": "code",
   "execution_count": null,
   "metadata": {},
   "outputs": [],
   "source": [
    "x_vals, y_vals"
   ]
  },
  {
   "cell_type": "markdown",
   "metadata": {},
   "source": [
    "Now, we have to set up tensorflow to calculate our linear regression. Because we are using only one input value, we  We know that we want the final equation to have our bias, $\\theta_0$ and a weight on our input $x$, $\\theta_1$."
   ]
  },
  {
   "cell_type": "code",
   "execution_count": null,
   "metadata": {},
   "outputs": [],
   "source": [
    "# Here, we are defining how our linear regression will work.\n",
    "# We will leave most of the parameters to their default. \n",
    "\n",
    "# we now define our first layer of our model. Because this is a simple linear regression, we only want\n",
    "# one layer. We will explore multiple layers later. \n",
    "# Dense here means that all of our inputs are considered.\n",
    "layer_1 = Dense(units=1, input_shape=[1], activation=None)\n",
    "# input_shape: how many inputs\n",
    "# units: how many outputs\n",
    "\n",
    "# Sequential in TF speak means that the layers we input are in sequential order. We only have one layer here, though. \n",
    "model = Sequential([layer_1])"
   ]
  },
  {
   "cell_type": "code",
   "execution_count": null,
   "metadata": {},
   "outputs": [],
   "source": [
    "# Set more model parameters. \n",
    "# There are other optimizers/solvers, but here using gradient descent.\n",
    "# also can set our loss function, here mean squared error. \n",
    "model.compile(optimizer='sgd', loss='mean_squared_error')"
   ]
  },
  {
   "cell_type": "code",
   "execution_count": null,
   "metadata": {},
   "outputs": [],
   "source": [
    "model"
   ]
  },
  {
   "cell_type": "code",
   "execution_count": null,
   "metadata": {},
   "outputs": [],
   "source": [
    "# actually compute the model weights.\n",
    "# epochs are the number of iterations\n",
    "model.fit(x_vals, y_vals, epochs=1)"
   ]
  },
  {
   "cell_type": "code",
   "execution_count": null,
   "metadata": {},
   "outputs": [],
   "source": [
    "for layer in model.layers:\n",
    "    print(layer.get_weights())\n"
   ]
  },
  {
   "cell_type": "code",
   "execution_count": null,
   "metadata": {},
   "outputs": [],
   "source": [
    "model.predict([10])"
   ]
  },
  {
   "cell_type": "code",
   "execution_count": null,
   "metadata": {},
   "outputs": [],
   "source": [
    "plt.scatter(x_vals, y_vals)\n",
    "slope = model.layers[0].get_weights()[0][0,0]\n",
    "intercept = model.layers[0].get_weights()[1][0]\n",
    "plt.plot([x_vals[0], x_vals[-1]], [slope*x+intercept for x in [x_vals[0], x_vals[-1]]], color='r')\n",
    "plt.title(\"y={0}x+{1}\".format(slope, intercept))"
   ]
  },
  {
   "cell_type": "code",
   "execution_count": null,
   "metadata": {},
   "outputs": [],
   "source": [
    "layer_1 = Dense(units=1, input_shape=[1], activation=None)\n",
    "model = Sequential([layer_1])\n",
    "model.compile(optimizer='sgd', loss='mean_squared_error')\n",
    "model.fit(x_vals, y_vals, epochs=2)"
   ]
  },
  {
   "cell_type": "code",
   "execution_count": null,
   "metadata": {},
   "outputs": [],
   "source": [
    "plt.scatter(x_vals, y_vals)\n",
    "slope = model.layers[0].get_weights()[0][0,0]\n",
    "intercept = model.layers[0].get_weights()[1][0]\n",
    "plt.plot([x_vals[0], x_vals[-1]], [slope*x+intercept for x in [x_vals[0], x_vals[-1]]], color='r')\n",
    "plt.title(\"y={0}x+{1}\".format(slope, intercept))"
   ]
  },
  {
   "cell_type": "code",
   "execution_count": null,
   "metadata": {},
   "outputs": [],
   "source": [
    "layer_1 = Dense(units=1, input_shape=[1], activation=None)\n",
    "model = Sequential([layer_1])\n",
    "model.compile(optimizer='sgd', loss='mean_squared_error')\n",
    "model.fit(x_vals, y_vals, epochs=300)"
   ]
  },
  {
   "cell_type": "code",
   "execution_count": null,
   "metadata": {},
   "outputs": [],
   "source": [
    "plt.scatter(x_vals, y_vals)\n",
    "slope = model.layers[0].get_weights()[0][0,0]\n",
    "intercept = model.layers[0].get_weights()[1][0]\n",
    "plt.plot([x_vals[0], x_vals[-1]], [slope*x+intercept for x in [x_vals[0], x_vals[-1]]], color='r')\n",
    "plt.title(\"y={0}x+{1}\".format(slope, intercept))"
   ]
  },
  {
   "cell_type": "code",
   "execution_count": null,
   "metadata": {},
   "outputs": [],
   "source": []
  }
 ],
 "metadata": {
  "kernelspec": {
   "display_name": "aes690st-sp24-test",
   "language": "python",
   "name": "python3"
  },
  "language_info": {
   "codemirror_mode": {
    "name": "ipython",
    "version": 3
   },
   "file_extension": ".py",
   "mimetype": "text/x-python",
   "name": "python",
   "nbconvert_exporter": "python",
   "pygments_lexer": "ipython3",
   "version": "3.1.0"
  }
 },
 "nbformat": 4,
 "nbformat_minor": 2
}
