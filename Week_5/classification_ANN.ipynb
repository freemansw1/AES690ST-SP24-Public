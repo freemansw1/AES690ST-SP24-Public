{
 "cells": [
  {
   "cell_type": "markdown",
   "metadata": {},
   "source": [
    "# Classification Neural Network"
   ]
  },
  {
   "cell_type": "code",
   "execution_count": null,
   "metadata": {},
   "outputs": [],
   "source": [
    "%matplotlib inline"
   ]
  },
  {
   "cell_type": "code",
   "execution_count": null,
   "metadata": {},
   "outputs": [],
   "source": [
    "import tensorflow as tf\n",
    "import numpy as np\n",
    "import tensorflow.keras as keras\n",
    "from tensorflow.keras import Sequential\n",
    "from tensorflow.keras.layers import Dense\n",
    "import matplotlib.pyplot as plt\n",
    "import pandas as pd\n",
    "import copy"
   ]
  },
  {
   "cell_type": "code",
   "execution_count": null,
   "metadata": {},
   "outputs": [],
   "source": [
    "input_data = pd.read_csv(\"./al_asos_jul_23_v2.csv\")"
   ]
  },
  {
   "cell_type": "code",
   "execution_count": null,
   "metadata": {},
   "outputs": [],
   "source": [
    "input_data_renamed_clouds = copy.deepcopy(input_data)\n",
    "all_cloud_vals = input_data_renamed_clouds['skyc1']\n",
    "all_cloud_vals.fillna('CLR')\n",
    "input_data_renamed_clouds['skyc1'] = all_cloud_vals\n",
    "input_data_renamed_clouds"
   ]
  },
  {
   "cell_type": "code",
   "execution_count": null,
   "metadata": {},
   "outputs": [],
   "source": [
    "input_data_renamed_clouds['raining_status'] = ''\n",
    "input_data_renamed_clouds['raining_status_int'] = np.empty((len(input_data_renamed_clouds)), dtype=np.int8)"
   ]
  },
  {
   "cell_type": "code",
   "execution_count": null,
   "metadata": {},
   "outputs": [],
   "source": [
    "input_data_renamed_clouds.loc[ input_data_renamed_clouds['p01i'] <= 0.0001, 'raining_status'] = 'TRACE'\n",
    "input_data_renamed_clouds.loc[ input_data_renamed_clouds['p01i'] <= 0.0001, 'raining_status_int'] = 1\n",
    "\n",
    "input_data_renamed_clouds.loc[ input_data_renamed_clouds['p01i'] == 0.0, 'raining_status'] = 'DRY'\n",
    "input_data_renamed_clouds.loc[ input_data_renamed_clouds['p01i'] == 0.0, 'raining_status_int'] = 0\n",
    "\n",
    "input_data_renamed_clouds.loc[ input_data_renamed_clouds['p01i'] > 0.0001, 'raining_status'] = 'RAIN'\n",
    "input_data_renamed_clouds.loc[ input_data_renamed_clouds['p01i'] > 0.0001, 'raining_status_int'] = 0\n"
   ]
  },
  {
   "cell_type": "code",
   "execution_count": null,
   "metadata": {},
   "outputs": [],
   "source": [
    "# Let's try adding different layers\n",
    "input1 = keras.layers.Input(shape=(1, ))\n",
    "dense1 = keras.layers.Dense(10, input_dim=1, activation=keras.activations.sigmoid)(input1)\n",
    "\n",
    "# 3 outputs, as we will predict the likelyhood of each classification\n",
    "output = keras.layers.Dense(3, activation=keras.activations.relu, use_bias=True)(dense1)\n",
    "model10 = keras.models.Model(inputs=[input1], outputs=[output])\n",
    "# need to use a different loss function\n",
    "model10.compile(optimizer=keras.optimizers.legacy.Adam(learning_rate=0.0001, clipnorm=0.001), \n",
    "                loss=keras.losses.SparseCategoricalCrossentropy(from_logits=True),\n",
    "                metrics=['accuracy'])\n",
    "model10.summary()"
   ]
  },
  {
   "cell_type": "code",
   "execution_count": null,
   "metadata": {},
   "outputs": [],
   "source": [
    "model10.fit(input_data_renamed_clouds['p01i'], input_data_renamed_clouds['raining_status_int'].values, epochs=4)"
   ]
  },
  {
   "cell_type": "code",
   "execution_count": null,
   "metadata": {},
   "outputs": [],
   "source": []
  }
 ],
 "metadata": {
  "kernelspec": {
   "display_name": "aes690st-sp24-test",
   "language": "python",
   "name": "python3"
  },
  "language_info": {
   "codemirror_mode": {
    "name": "ipython",
    "version": 3
   },
   "file_extension": ".py",
   "mimetype": "text/x-python",
   "name": "python",
   "nbconvert_exporter": "python",
   "pygments_lexer": "ipython3",
   "version": "3.11.6"
  }
 },
 "nbformat": 4,
 "nbformat_minor": 2
}
