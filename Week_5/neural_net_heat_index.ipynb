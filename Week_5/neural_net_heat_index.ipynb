{
 "cells": [
  {
   "cell_type": "markdown",
   "metadata": {},
   "source": [
    "# Recreating Heat Index with a multiple linear regression"
   ]
  },
  {
   "cell_type": "code",
   "execution_count": null,
   "metadata": {},
   "outputs": [],
   "source": [
    "%matplotlib inline"
   ]
  },
  {
   "cell_type": "code",
   "execution_count": null,
   "metadata": {},
   "outputs": [],
   "source": [
    "import tensorflow as tf\n",
    "import numpy as np\n",
    "import tensorflow.keras as keras\n",
    "from tensorflow.keras import Sequential\n",
    "from tensorflow.keras.layers import Dense\n",
    "import matplotlib.pyplot as plt\n",
    "import pandas as pd\n",
    "import copy"
   ]
  },
  {
   "cell_type": "markdown",
   "metadata": {},
   "source": [
    "Let's load in our ASOS station dataset."
   ]
  },
  {
   "cell_type": "code",
   "execution_count": null,
   "metadata": {},
   "outputs": [],
   "source": [
    "input_data = pd.read_csv(\"./al_asos_jul_23_v2.csv\")"
   ]
  },
  {
   "cell_type": "code",
   "execution_count": null,
   "metadata": {},
   "outputs": [],
   "source": [
    "input_data"
   ]
  },
  {
   "cell_type": "code",
   "execution_count": null,
   "metadata": {},
   "outputs": [],
   "source": [
    "# It is often good practice to drop missing data, so let's do just that. \n",
    "input_data_nona = input_data.dropna()"
   ]
  },
  {
   "cell_type": "code",
   "execution_count": null,
   "metadata": {},
   "outputs": [],
   "source": [
    "input_data_nona"
   ]
  },
  {
   "cell_type": "markdown",
   "metadata": {},
   "source": [
    "583 rows!?! That's not enough. Remember to be careful as you're doing this..."
   ]
  },
  {
   "cell_type": "code",
   "execution_count": null,
   "metadata": {},
   "outputs": [],
   "source": [
    "input_data_nona = input_data.drop('gust', axis=1).dropna()"
   ]
  },
  {
   "cell_type": "code",
   "execution_count": null,
   "metadata": {},
   "outputs": [],
   "source": [
    "input_data_nona"
   ]
  },
  {
   "cell_type": "markdown",
   "metadata": {},
   "source": [
    "See any issues here?"
   ]
  },
  {
   "cell_type": "code",
   "execution_count": null,
   "metadata": {},
   "outputs": [],
   "source": [
    "input_data_renamed_clouds = copy.deepcopy(input_data)\n",
    "all_cloud_vals = input_data_renamed_clouds['skyc1']\n",
    "all_cloud_vals.fillna('CLR')\n",
    "input_data_renamed_clouds['skyc1'] = all_cloud_vals\n",
    "input_data_renamed_clouds"
   ]
  },
  {
   "cell_type": "code",
   "execution_count": null,
   "metadata": {},
   "outputs": [],
   "source": [
    "input_data_nona = input_data_renamed_clouds.drop(['gust', 'skyl1', 'mslp'], axis=1).dropna()"
   ]
  },
  {
   "cell_type": "code",
   "execution_count": null,
   "metadata": {},
   "outputs": [],
   "source": [
    "plt.scatter(input_data_nona['tmpf'], input_data_nona['feel'])\n",
    "plt.xlabel(\"Temperature (F)\")\n",
    "plt.ylabel(\"Heat index (F)\")"
   ]
  },
  {
   "cell_type": "code",
   "execution_count": null,
   "metadata": {},
   "outputs": [],
   "source": [
    "def nws_heat_index(T, RH):\n",
    "    '''\n",
    "    T in fahrenheit, RH in %\n",
    "    https://www.wpc.ncep.noaa.gov/html/heatindex_equation.shtml\n",
    "    '''\n",
    "    initial_hi =  0.5 * (T + 61.0 + ((T-68.0)*1.2) + (RH*0.094))\n",
    "    if initial_hi < 80:\n",
    "        return initial_hi\n",
    "\n",
    "    adjustment_factor = 0\n",
    "    if T>=80 and T<=112 and RH <13:\n",
    "        adjustment_factor =  ((13-RH)/4)*np.sqrt((17-np.abs(T-95.))/17)\n",
    "    \n",
    "    if T>=80 and T<=87 and RH > 85:\n",
    "         adjustment_factor = ((RH-85)/10) * ((87-T)/5)\n",
    "\n",
    "    return (-42.379 + 2.04901523*T + 10.14333127*RH - .22475541*T*RH - .00683783*T*T - \n",
    "           .05481717*RH*RH + .00122874*T*T*RH + .00085282*T*RH*RH - .00000199*T*T*RH*RH) + adjustment_factor\n",
    "\n",
    "nws_heat_index_vectorized = np.vectorize(nws_heat_index)"
   ]
  },
  {
   "cell_type": "code",
   "execution_count": null,
   "metadata": {},
   "outputs": [],
   "source": [
    "our_calc_hi = nws_heat_index_vectorized(input_data_nona['tmpf'], input_data_nona['relh'])"
   ]
  },
  {
   "cell_type": "code",
   "execution_count": null,
   "metadata": {},
   "outputs": [],
   "source": [
    "plt.scatter(our_calc_hi, input_data_nona['feel'])\n",
    "plt.xlabel(\"Found HI Equation (F)\")\n",
    "plt.ylabel(\"IEM Reported Feels Like\")"
   ]
  },
  {
   "cell_type": "code",
   "execution_count": null,
   "metadata": {},
   "outputs": [],
   "source": [
    "plt.scatter(our_calc_hi, input_data_nona['feel'])\n",
    "plt.xlabel(\"Found HI Equation (F)\")\n",
    "plt.ylabel(\"IEM Reported Feels Like\")\n",
    "plt.xlim(80, 120)\n",
    "plt.ylim(80, 120)"
   ]
  },
  {
   "cell_type": "markdown",
   "metadata": {},
   "source": [
    "Now, to see if we can't get to a better answer with multiple linear regression. Can we get to completely the right answer?"
   ]
  },
  {
   "cell_type": "code",
   "execution_count": null,
   "metadata": {},
   "outputs": [],
   "source": [
    "# okay, we have a more complicated situation now. Let's try with the most simple first. \n",
    "layer_1 = Dense(units=1, input_shape=[1], activation=None)\n",
    "model = Sequential([layer_1])"
   ]
  },
  {
   "cell_type": "code",
   "execution_count": null,
   "metadata": {},
   "outputs": [],
   "source": [
    "model.compile(optimizer='sgd', loss='mean_squared_error')"
   ]
  },
  {
   "cell_type": "code",
   "execution_count": null,
   "metadata": {},
   "outputs": [],
   "source": [
    "model.fit(input_data_nona['tmpf'].values, input_data_nona['feel'].values, epochs=1, batch_size=20)"
   ]
  },
  {
   "cell_type": "code",
   "execution_count": null,
   "metadata": {},
   "outputs": [],
   "source": [
    "layer_1 = Dense(units=1, input_shape=[1], activation=None)\n",
    "model = Sequential([layer_1])\n",
    "model.compile(optimizer=keras.optimizers.legacy.Adam(learning_rate=0.0001), loss='mean_squared_error')"
   ]
  },
  {
   "cell_type": "code",
   "execution_count": null,
   "metadata": {},
   "outputs": [],
   "source": [
    "model.summary()"
   ]
  },
  {
   "cell_type": "code",
   "execution_count": null,
   "metadata": {},
   "outputs": [],
   "source": [
    "model.fit(input_data_nona['tmpf'].values, input_data_nona['feel'].values, epochs=10, batch_size=20)"
   ]
  },
  {
   "cell_type": "code",
   "execution_count": null,
   "metadata": {},
   "outputs": [],
   "source": [
    "# okay, we have a more complicated situation now. Let's try with the most simple first. \n",
    "layer_1 = Dense(units=1, input_shape=[1], activation=None)\n",
    "model = Sequential([layer_1])\n",
    "model.compile(optimizer=keras.optimizers.legacy.Adam(learning_rate=0.0001, clipnorm=0.001), loss='mean_squared_error')"
   ]
  },
  {
   "cell_type": "code",
   "execution_count": null,
   "metadata": {},
   "outputs": [],
   "source": [
    "model.fit(input_data_nona['tmpf'].values, input_data_nona['feel'].values, epochs=5)"
   ]
  },
  {
   "cell_type": "code",
   "execution_count": null,
   "metadata": {},
   "outputs": [],
   "source": [
    "predictions = model.predict(input_data_nona['tmpf'])"
   ]
  },
  {
   "cell_type": "code",
   "execution_count": null,
   "metadata": {},
   "outputs": [],
   "source": [
    "plt.scatter(predictions, input_data_nona['feel'])\n",
    "plt.xlabel(\"Predicted from model (F)\")\n",
    "plt.ylabel(\"IEM Reported Feels Like\")\n",
    "plt.xlim(50, 120)\n",
    "plt.ylim(50, 120)\n",
    "plt.plot([50, 120], [50, 120], color='grey', ls='--')"
   ]
  },
  {
   "cell_type": "code",
   "execution_count": null,
   "metadata": {},
   "outputs": [],
   "source": [
    "# adding an input layer\n",
    "model = Sequential()\n",
    "model.add(keras.Input(shape=(2,)))\n",
    "model.add(Dense(units=1, activation=None))\n",
    "\n",
    "model.compile(optimizer=keras.optimizers.legacy.Adam(learning_rate=0.001, clipnorm=0.01), loss='mean_squared_error')"
   ]
  },
  {
   "cell_type": "code",
   "execution_count": null,
   "metadata": {},
   "outputs": [],
   "source": [
    "model.output_shape"
   ]
  },
  {
   "cell_type": "code",
   "execution_count": null,
   "metadata": {},
   "outputs": [],
   "source": [
    "model.input_shape"
   ]
  },
  {
   "cell_type": "code",
   "execution_count": null,
   "metadata": {},
   "outputs": [],
   "source": [
    "model.fit(x=input_data_nona[['tmpf', 'relh']].values, \n",
    "          y=input_data_nona['feel'].values, epochs=5)"
   ]
  },
  {
   "cell_type": "code",
   "execution_count": null,
   "metadata": {},
   "outputs": [],
   "source": [
    "predictions = model.predict(input_data_nona[['tmpf', 'relh']].values)"
   ]
  },
  {
   "cell_type": "code",
   "execution_count": null,
   "metadata": {},
   "outputs": [],
   "source": [
    "plt.scatter(predictions, input_data_nona['feel'])\n",
    "plt.xlabel(\"Predicted from model (F)\")\n",
    "plt.ylabel(\"IEM Reported Feels Like\")\n",
    "plt.xlim(50, 120)\n",
    "plt.ylim(50, 120)\n",
    "plt.plot([50, 120], [50, 120], color='grey', ls='--')"
   ]
  },
  {
   "cell_type": "markdown",
   "metadata": {},
   "source": [
    "Okay, that's better, but can we make it even better?"
   ]
  },
  {
   "cell_type": "code",
   "execution_count": null,
   "metadata": {},
   "outputs": [],
   "source": [
    "# adding an input layer\n",
    "model = Sequential()\n",
    "model.add(keras.Input(shape=(2,)))\n",
    "# add two layers to our model\n",
    "model.add(Dense(units=2, activation=None))\n",
    "model.add(Dense(units=1, activation=None))\n",
    "\n",
    "model.compile(optimizer=keras.optimizers.legacy.Adam(learning_rate=0.001, clipnorm=0.01), loss='mean_squared_error')"
   ]
  },
  {
   "cell_type": "code",
   "execution_count": null,
   "metadata": {},
   "outputs": [],
   "source": [
    "model.fit(x=input_data_nona[['tmpf', 'relh']].values, \n",
    "          y=input_data_nona['feel'].values, epochs=5)"
   ]
  },
  {
   "cell_type": "code",
   "execution_count": null,
   "metadata": {},
   "outputs": [],
   "source": [
    "predictions = model.predict(input_data_nona[['tmpf', 'relh']].values)"
   ]
  },
  {
   "cell_type": "code",
   "execution_count": null,
   "metadata": {},
   "outputs": [],
   "source": [
    "plt.scatter(predictions, input_data_nona['feel'])\n",
    "plt.xlabel(\"Predicted from model (F)\")\n",
    "plt.ylabel(\"IEM Reported Feels Like\")\n",
    "plt.xlim(50, 120)\n",
    "plt.ylim(50, 120)\n",
    "plt.plot([50, 120], [50, 120], color='grey', ls='--')"
   ]
  },
  {
   "cell_type": "code",
   "execution_count": null,
   "metadata": {},
   "outputs": [],
   "source": [
    "# adding an input layer\n",
    "model = Sequential()\n",
    "model.add(keras.Input(shape=(2,)))\n",
    "# add two layers to our model\n",
    "model.add(Dense(units=5, activation=None))\n",
    "model.add(Dense(units=3, activation=None))\n",
    "model.add(Dense(units=6, activation=None))\n",
    "model.add(Dense(units=1, activation=None))\n",
    "\n",
    "model.compile(optimizer=keras.optimizers.legacy.Adam(learning_rate=0.001, clipnorm=0.01), loss='mean_squared_error')"
   ]
  },
  {
   "cell_type": "code",
   "execution_count": null,
   "metadata": {},
   "outputs": [],
   "source": [
    "model.fit(x=input_data_nona[['tmpf', 'relh']].values, \n",
    "          y=input_data_nona['feel'].values, epochs=5)"
   ]
  },
  {
   "cell_type": "code",
   "execution_count": null,
   "metadata": {},
   "outputs": [],
   "source": [
    "predictions = model.predict(input_data_nona[['tmpf', 'relh']].values)"
   ]
  },
  {
   "cell_type": "code",
   "execution_count": null,
   "metadata": {},
   "outputs": [],
   "source": [
    "plt.scatter(predictions, input_data_nona['feel'])\n",
    "plt.xlabel(\"Predicted from model (F)\")\n",
    "plt.ylabel(\"IEM Reported Feels Like\")\n",
    "plt.xlim(50, 120)\n",
    "plt.ylim(50, 120)\n",
    "plt.plot([50, 120], [50, 120], color='grey', ls='--')"
   ]
  },
  {
   "cell_type": "code",
   "execution_count": null,
   "metadata": {},
   "outputs": [],
   "source": [
    "# adding an input layer\n",
    "model = Sequential()\n",
    "model.add(keras.Input(shape=(2,)))\n",
    "# add two layers to our model\n",
    "model.add(Dense(units=50, activation='relu'))\n",
    "model.add(Dense(units=50, activation='relu'))\n",
    "model.add(Dense(units=50, activation='relu'))\n",
    "\n",
    "model.add(Dense(units=1, activation=None))\n",
    "\n",
    "model.compile(optimizer=keras.optimizers.legacy.Adam(learning_rate=0.00001), loss='mean_squared_error')"
   ]
  },
  {
   "cell_type": "code",
   "execution_count": null,
   "metadata": {},
   "outputs": [],
   "source": [
    "model.fit(x=input_data_nona[['tmpf', 'relh']].values, \n",
    "          y=input_data_nona['feel'].values, epochs=10)"
   ]
  },
  {
   "cell_type": "code",
   "execution_count": null,
   "metadata": {},
   "outputs": [],
   "source": [
    "predictions = model.predict(input_data_nona[['tmpf', 'relh']].values)"
   ]
  },
  {
   "cell_type": "code",
   "execution_count": null,
   "metadata": {},
   "outputs": [],
   "source": [
    "plt.scatter(predictions, input_data_nona['feel'])\n",
    "plt.xlabel(\"Predicted from model (F)\")\n",
    "plt.ylabel(\"IEM Reported Feels Like\")\n",
    "plt.xlim(50, 120)\n",
    "plt.ylim(50, 120)\n",
    "plt.plot([50, 120], [50, 120], color='grey', ls='--')"
   ]
  },
  {
   "cell_type": "code",
   "execution_count": null,
   "metadata": {},
   "outputs": [],
   "source": [
    "# adding an input layer\n",
    "model = Sequential()\n",
    "model.add(keras.Input(shape=(2,)))\n",
    "model.add(Dense(units=50, activation='relu'))\n",
    "model.add(Dense(units=50, activation='relu'))\n",
    "model.add(Dense(units=50, activation='relu'))\n",
    "\n",
    "model.add(Dense(units=1, activation=None))\n",
    "\n",
    "model.compile(optimizer=keras.optimizers.legacy.Adam(learning_rate=0.00001), loss='huber')"
   ]
  },
  {
   "cell_type": "code",
   "execution_count": null,
   "metadata": {},
   "outputs": [],
   "source": [
    "model.fit(x=input_data_nona[['tmpf', 'relh']].values, \n",
    "          y=input_data_nona['feel'].values, epochs=5)"
   ]
  },
  {
   "cell_type": "code",
   "execution_count": null,
   "metadata": {},
   "outputs": [],
   "source": [
    "predictions_2 = model.predict(input_data_nona[['tmpf', 'relh']].values)"
   ]
  },
  {
   "cell_type": "code",
   "execution_count": null,
   "metadata": {},
   "outputs": [],
   "source": [
    "plt.scatter(predictions_2, input_data_nona['feel'])\n",
    "plt.xlabel(\"Predicted from model (F)\")\n",
    "plt.ylabel(\"IEM Reported Feels Like\")\n",
    "plt.xlim(50, 120)\n",
    "plt.ylim(50, 120)\n",
    "plt.plot([50, 120], [50, 120], color='grey', ls='--')"
   ]
  },
  {
   "cell_type": "code",
   "execution_count": null,
   "metadata": {},
   "outputs": [],
   "source": [
    "# adding an input layer\n",
    "model = Sequential()\n",
    "model.add(keras.Input(shape=(2,)))\n",
    "model.add(keras.layers.Normalization(axis=-1))\n",
    "model.add(Dense(units=50, activation='sigmoid'))\n",
    "model.add(Dense(units=50, activation='relu'))\n",
    "model.add(Dense(units=50, activation='relu'))\n",
    "\n",
    "model.add(Dense(units=1, activation=None))\n",
    "\n",
    "model.compile(optimizer=keras.optimizers.legacy.Adam(), loss='huber')"
   ]
  },
  {
   "cell_type": "code",
   "execution_count": null,
   "metadata": {},
   "outputs": [],
   "source": [
    "model.fit(x=tf.convert_to_tensor(input_data_nona[['tmpf', 'relh']]), \n",
    "          y=tf.convert_to_tensor(input_data_nona['feel']), epochs=5)"
   ]
  },
  {
   "cell_type": "code",
   "execution_count": null,
   "metadata": {},
   "outputs": [],
   "source": [
    "predictions_normed = model.predict(input_data_nona[['tmpf', 'relh']].values)"
   ]
  },
  {
   "cell_type": "code",
   "execution_count": null,
   "metadata": {},
   "outputs": [],
   "source": [
    "plt.scatter(predictions_normed, input_data_nona['feel'])\n",
    "plt.xlabel(\"Predicted from model (F)\")\n",
    "plt.ylabel(\"IEM Reported Feels Like\")\n",
    "plt.xlim(50, 120)\n",
    "plt.ylim(50, 120)\n",
    "plt.plot([50, 120], [50, 120], color='grey', ls='--')"
   ]
  },
  {
   "cell_type": "code",
   "execution_count": null,
   "metadata": {},
   "outputs": [],
   "source": [
    "model.save(\"my_model.keras\")"
   ]
  },
  {
   "cell_type": "code",
   "execution_count": null,
   "metadata": {},
   "outputs": [],
   "source": [
    "model.summary()"
   ]
  },
  {
   "cell_type": "code",
   "execution_count": null,
   "metadata": {},
   "outputs": [],
   "source": []
  }
 ],
 "metadata": {
  "kernelspec": {
   "display_name": "aes690st-sp24-test",
   "language": "python",
   "name": "python3"
  },
  "language_info": {
   "codemirror_mode": {
    "name": "ipython",
    "version": 3
   },
   "file_extension": ".py",
   "mimetype": "text/x-python",
   "name": "python",
   "nbconvert_exporter": "python",
   "pygments_lexer": "ipython3",
   "version": "3.11.6"
  }
 },
 "nbformat": 4,
 "nbformat_minor": 2
}
