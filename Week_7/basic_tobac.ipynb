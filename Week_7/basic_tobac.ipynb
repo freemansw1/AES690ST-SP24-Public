{
 "cells": [
  {
   "cell_type": "markdown",
   "metadata": {},
   "source": [
    "# Basic tracking with *tobac*"
   ]
  },
  {
   "cell_type": "code",
   "execution_count": null,
   "metadata": {},
   "outputs": [],
   "source": [
    "%matplotlib inline"
   ]
  },
  {
   "cell_type": "code",
   "execution_count": null,
   "metadata": {},
   "outputs": [],
   "source": [
    "import tobac\n",
    "\n",
    "# we add testing here to create test dataset (typically not needed in standard applications)\n",
    "import tobac.testing\n",
    "import matplotlib.pyplot as plt\n",
    "import numpy as np\n",
    "import seaborn as sns\n",
    "\n",
    "sns.set_context(\"talk\")\n"
   ]
  },
  {
   "cell_type": "code",
   "execution_count": null,
   "metadata": {},
   "outputs": [],
   "source": [
    "test_data_xr = tobac.testing.make_simple_sample_data_2D(data_type=\"xarray\")\n",
    "test_data_xr\n"
   ]
  },
  {
   "cell_type": "code",
   "execution_count": null,
   "metadata": {},
   "outputs": [],
   "source": [
    "fig, axs = plt.subplots(ncols=1, nrows=3, figsize=(12, 16), sharey=True)\n",
    "plt.subplots_adjust(hspace=0.5)\n",
    "\n",
    "for i, itime in enumerate([0, 20, 40]):\n",
    "    # plot the 2D blob field in colors\n",
    "    test_data_xr.isel(time=itime).plot(ax=axs[i])\n",
    "\n",
    "    axs[i].set_title(f\"timeframe = {itime}\")\n"
   ]
  },
  {
   "cell_type": "code",
   "execution_count": null,
   "metadata": {},
   "outputs": [],
   "source": [
    "test_data_iris = tobac.testing.make_simple_sample_data_2D(data_type=\"iris\")\n",
    "dxy, dt = tobac.get_spacings(test_data_iris)"
   ]
  },
  {
   "cell_type": "code",
   "execution_count": null,
   "metadata": {},
   "outputs": [],
   "source": [
    "dxy, dt"
   ]
  },
  {
   "cell_type": "code",
   "execution_count": null,
   "metadata": {},
   "outputs": [],
   "source": [
    "dxy = 4000\n",
    "features = tobac.feature_detection_multithreshold(test_data_iris, dxy, 9)\n"
   ]
  },
  {
   "cell_type": "code",
   "execution_count": null,
   "metadata": {},
   "outputs": [],
   "source": [
    "fig, axs = plt.subplots(ncols=1, nrows=3, figsize=(12, 16), sharey=True)\n",
    "plt.subplots_adjust(hspace=0.5)\n",
    "\n",
    "for i, itime in enumerate([0, 20, 40]):\n",
    "    # plot the 2D blob field in colors\n",
    "    test_data_xr.isel(time=itime).plot(ax=axs[i])\n",
    "\n",
    "    # plot the detected feature as black cross\n",
    "    f = features.loc[[itime]]\n",
    "    f.plot.scatter(\n",
    "        x=\"projection_x_coordinate\",\n",
    "        y=\"projection_y_coordinate\",\n",
    "        s=40,\n",
    "        ax=axs[i],\n",
    "        color=\"black\",\n",
    "        marker=\"x\",\n",
    "    )\n",
    "\n",
    "    axs[i].set_title(f\"timeframe = {itime}\")\n"
   ]
  },
  {
   "cell_type": "code",
   "execution_count": null,
   "metadata": {},
   "outputs": [],
   "source": [
    "trajectories = tobac.linking_trackpy(features, None, dt=60, dxy=1000, v_max=100)\n"
   ]
  },
  {
   "cell_type": "code",
   "execution_count": null,
   "metadata": {},
   "outputs": [],
   "source": [
    "trajectories\n"
   ]
  },
  {
   "cell_type": "code",
   "execution_count": null,
   "metadata": {},
   "outputs": [],
   "source": [
    "track_mask = trajectories[\"cell\"] == 1.0\n",
    "track = trajectories.where(track_mask).dropna()\n"
   ]
  },
  {
   "cell_type": "code",
   "execution_count": null,
   "metadata": {},
   "outputs": [],
   "source": [
    "fig, axs = plt.subplots(ncols=1, nrows=3, figsize=(12, 16), sharey=True)\n",
    "plt.subplots_adjust(hspace=0.5)\n",
    "# fig.tight_layout()\n",
    "\n",
    "\n",
    "for i, itime in enumerate([0, 20, 40]):\n",
    "    # plot the 2D blob field in colors\n",
    "    test_data_xr.isel(time=itime).plot(ax=axs[i])\n",
    "\n",
    "    # plot the track\n",
    "    track.plot.scatter(\n",
    "        x=\"projection_x_coordinate\",\n",
    "        y=\"projection_y_coordinate\",\n",
    "        ax=axs[i],\n",
    "        color=\"red\",\n",
    "        marker=\"o\",\n",
    "        alpha=0.2,\n",
    "    )\n",
    "\n",
    "    # plot the detected feature as black cross\n",
    "    f = features.loc[[itime]]\n",
    "    f.plot.scatter(\n",
    "        x=\"projection_x_coordinate\",\n",
    "        y=\"projection_y_coordinate\",\n",
    "        s=40,\n",
    "        ax=axs[i],\n",
    "        color=\"black\",\n",
    "        marker=\"x\",\n",
    "    )\n",
    "\n",
    "    axs[i].set_title(f\"timeframe = {itime}\")\n"
   ]
  },
  {
   "cell_type": "code",
   "execution_count": null,
   "metadata": {},
   "outputs": [],
   "source": []
  }
 ],
 "metadata": {
  "kernelspec": {
   "display_name": "aes690st-sp24-test",
   "language": "python",
   "name": "python3"
  },
  "language_info": {
   "codemirror_mode": {
    "name": "ipython",
    "version": 3
   },
   "file_extension": ".py",
   "mimetype": "text/x-python",
   "name": "python",
   "nbconvert_exporter": "python",
   "pygments_lexer": "ipython3",
   "version": "3.11.6"
  }
 },
 "nbformat": 4,
 "nbformat_minor": 2
}
