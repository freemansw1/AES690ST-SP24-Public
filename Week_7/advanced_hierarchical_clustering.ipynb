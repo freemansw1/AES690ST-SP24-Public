{
 "cells": [
  {
   "cell_type": "code",
   "execution_count": null,
   "metadata": {},
   "outputs": [],
   "source": [
    "%matplotlib inline"
   ]
  },
  {
   "cell_type": "code",
   "execution_count": null,
   "metadata": {},
   "outputs": [],
   "source": [
    "import sklearn\n",
    "import sklearn.cluster as clustering\n",
    "import pandas as pd\n",
    "import matplotlib.pyplot as plt\n",
    "from scipy.cluster.hierarchy import dendrogram\n",
    "import numpy as np\n",
    "import sklearn.metrics\n"
   ]
  },
  {
   "cell_type": "code",
   "execution_count": null,
   "metadata": {},
   "outputs": [],
   "source": [
    "combined_asos = pd.read_csv(\"/share/share/combined_asos_2023.csv\")"
   ]
  },
  {
   "cell_type": "code",
   "execution_count": null,
   "metadata": {},
   "outputs": [],
   "source": [
    "combined_asos"
   ]
  },
  {
   "cell_type": "code",
   "execution_count": null,
   "metadata": {},
   "outputs": [],
   "source": [
    "stations_lls = combined_asos.groupby(\"station\")[[\"lat\", \"lon\", \"tmpf\", \"dwpf\", \"sknt\"]].mean()"
   ]
  },
  {
   "cell_type": "code",
   "execution_count": null,
   "metadata": {},
   "outputs": [],
   "source": [
    "conus_stations = stations_lls[np.logical_and(stations_lls['lat']<51, stations_lls['lat']>22) ]"
   ]
  },
  {
   "cell_type": "code",
   "execution_count": null,
   "metadata": {},
   "outputs": [],
   "source": [
    "conus_stations"
   ]
  },
  {
   "cell_type": "code",
   "execution_count": null,
   "metadata": {},
   "outputs": [],
   "source": [
    "plt.scatter(conus_stations['lon'], conus_stations['lat'])"
   ]
  },
  {
   "cell_type": "code",
   "execution_count": null,
   "metadata": {},
   "outputs": [],
   "source": [
    "my_clustering = clustering.AgglomerativeClustering().fit(conus_stations)"
   ]
  },
  {
   "cell_type": "code",
   "execution_count": null,
   "metadata": {},
   "outputs": [],
   "source": [
    "my_clustering.labels_"
   ]
  },
  {
   "cell_type": "code",
   "execution_count": null,
   "metadata": {},
   "outputs": [],
   "source": [
    "plt.scatter(conus_stations['lon'], conus_stations['lat'], c=my_clustering.labels_)"
   ]
  },
  {
   "cell_type": "code",
   "execution_count": null,
   "metadata": {},
   "outputs": [],
   "source": [
    "station_mean_vals = conus_stations.groupby('station')[['lat','lon','tmpf','dwpf', 'sknt']].mean()\n",
    "station_mean_vals = station_mean_vals.dropna()"
   ]
  },
  {
   "cell_type": "code",
   "execution_count": null,
   "metadata": {},
   "outputs": [],
   "source": [
    "def custom_distance(vec_1, vec_2):\n",
    "    # should be in the order we select.\n",
    "    # so here should be temperature, dewpoint, wind speed\n",
    "    temp_dist = np.power(5*(vec_1[0]-vec_2[0]),2)\n",
    "    dewp_dist = np.power(vec_1[1]-vec_2[1],2)\n",
    "    sknt_dist = np.power(0.5*(vec_1[2]-vec_2[2]),2)\n",
    "    return temp_dist + dewp_dist + sknt_dist\n",
    "\n",
    "# it will be passed as a matrix, so we will use\n",
    "def sklearn_custom_distance(X):\n",
    "    return sklearn.metrics.pairwise_distances(X, metric=custom_distance)\n"
   ]
  },
  {
   "cell_type": "code",
   "execution_count": null,
   "metadata": {},
   "outputs": [],
   "source": [
    "my_clustering = clustering.AgglomerativeClustering(metric=sklearn_custom_distance, n_clusters=5, linkage='average'\n",
    "                                                   ).fit(station_mean_vals[['tmpf','dwpf', 'sknt']])"
   ]
  },
  {
   "cell_type": "code",
   "execution_count": null,
   "metadata": {},
   "outputs": [],
   "source": [
    "plt.scatter(station_mean_vals['lon'], station_mean_vals['lat'], c=my_clustering.labels_)"
   ]
  }
 ],
 "metadata": {
  "kernelspec": {
   "display_name": "aes690st-sp24-test",
   "language": "python",
   "name": "python3"
  },
  "language_info": {
   "codemirror_mode": {
    "name": "ipython",
    "version": 3
   },
   "file_extension": ".py",
   "mimetype": "text/x-python",
   "name": "python",
   "nbconvert_exporter": "python",
   "pygments_lexer": "ipython3",
   "version": "3.11.6"
  }
 },
 "nbformat": 4,
 "nbformat_minor": 2
}
