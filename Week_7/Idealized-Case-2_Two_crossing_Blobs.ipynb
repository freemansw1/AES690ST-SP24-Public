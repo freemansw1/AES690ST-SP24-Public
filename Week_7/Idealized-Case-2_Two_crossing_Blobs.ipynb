{
 "cells": [
  {
   "cell_type": "markdown",
   "id": "a3cf5a64",
   "metadata": {},
   "source": [
    "# Idealized Case 2: Two crossing blobs"
   ]
  },
  {
   "cell_type": "markdown",
   "id": "ba39498c",
   "metadata": {},
   "source": [
    "This tutorial explores the different methods of the linking process using an example of two crossing blobs. The following chapters will be covered:\n",
    "\n",
    "1. [Data generation](#1.-Data-generation)\n",
    "2. [Feature detection](#2.-Feature-detection)\n",
    "3. [Influence of tracking method](#3.-Influence-of-the-tracking-method)\n",
    "4. [Analysis](#4.-Analysis)"
   ]
  },
  {
   "cell_type": "markdown",
   "id": "78c4536f",
   "metadata": {},
   "source": [
    "## 1. Data generation\n",
    "\n",
    "We start by importing the usual libraries and adjusting some settings:"
   ]
  },
  {
   "cell_type": "code",
   "execution_count": null,
   "id": "19d7880d",
   "metadata": {
    "execution": {
     "iopub.execute_input": "2024-02-17T12:48:07.870750Z",
     "iopub.status.busy": "2024-02-17T12:48:07.870417Z",
     "iopub.status.idle": "2024-02-17T12:48:14.751277Z",
     "shell.execute_reply": "2024-02-17T12:48:14.749507Z"
    }
   },
   "outputs": [],
   "source": [
    "import tobac\n",
    "import numpy as np\n",
    "import matplotlib.pyplot as plt\n",
    "import datetime\n",
    "import xarray as xr\n",
    "import seaborn as sns\n",
    "\n",
    "sns.set_context(\"talk\")\n",
    "%matplotlib inline"
   ]
  },
  {
   "cell_type": "markdown",
   "id": "b4ea8ea1",
   "metadata": {},
   "source": [
    "We will need to generate our own dataset for this tutorial. For this reason we define some bounds for our system:"
   ]
  },
  {
   "cell_type": "code",
   "execution_count": null,
   "id": "f9945358",
   "metadata": {
    "execution": {
     "iopub.execute_input": "2024-02-17T12:48:14.768244Z",
     "iopub.status.busy": "2024-02-17T12:48:14.767412Z",
     "iopub.status.idle": "2024-02-17T12:48:14.777698Z",
     "shell.execute_reply": "2024-02-17T12:48:14.776510Z"
    }
   },
   "outputs": [],
   "source": [
    "(\n",
    "    x_min,\n",
    "    y_min,\n",
    "    x_max,\n",
    "    y_max,\n",
    ") = (\n",
    "    0,\n",
    "    0,\n",
    "    1e5,\n",
    "    1e5,\n",
    ")\n",
    "t_min, t_max = 0, 10000"
   ]
  },
  {
   "cell_type": "markdown",
   "id": "bf88e80e-eb8f-4864-886b-1a78062a3963",
   "metadata": {},
   "source": [
    "We use these to create a mesh:"
   ]
  },
  {
   "cell_type": "code",
   "execution_count": null,
   "id": "4d5bfe03-c00c-4eb2-9c35-d6fafa837dc6",
   "metadata": {
    "execution": {
     "iopub.execute_input": "2024-02-17T12:48:14.783625Z",
     "iopub.status.busy": "2024-02-17T12:48:14.783051Z",
     "iopub.status.idle": "2024-02-17T12:48:14.800052Z",
     "shell.execute_reply": "2024-02-17T12:48:14.798666Z"
    }
   },
   "outputs": [],
   "source": [
    "def create_mesh(x_min, y_min, x_max, y_max, t_min, t_max, N_x=200, N_y=200, dt=520):\n",
    "    x = np.linspace(x_min, x_max, N_x)\n",
    "    y = np.linspace(y_min, y_max, N_y)\n",
    "    t = np.arange(t_min, t_max, dt)\n",
    "    mesh = np.meshgrid(t, y, x, indexing=\"ij\")\n",
    "\n",
    "    return mesh\n",
    "\n",
    "\n",
    "mesh = create_mesh(x_min, y_min, x_max, y_max, t_min, t_max)"
   ]
  },
  {
   "cell_type": "markdown",
   "id": "4f5e78ef",
   "metadata": {},
   "source": [
    "Additionally, we need to set velocities for our blobs:"
   ]
  },
  {
   "cell_type": "code",
   "execution_count": null,
   "id": "e322c61d",
   "metadata": {
    "execution": {
     "iopub.execute_input": "2024-02-17T12:48:14.806310Z",
     "iopub.status.busy": "2024-02-17T12:48:14.805732Z",
     "iopub.status.idle": "2024-02-17T12:48:14.815278Z",
     "shell.execute_reply": "2024-02-17T12:48:14.813691Z"
    }
   },
   "outputs": [],
   "source": [
    "v_x = 10\n",
    "v_y = 10"
   ]
  },
  {
   "cell_type": "markdown",
   "id": "d563c5eb",
   "metadata": {},
   "source": [
    "The dataset is created by using two functions. The first creates a wandering Gaussian blob as `numpy`-Array on our grid and the second transforms it into an `xarray`-DataArray with an arbitrary `datetime`."
   ]
  },
  {
   "cell_type": "code",
   "execution_count": null,
   "id": "19b360bc",
   "metadata": {
    "execution": {
     "iopub.execute_input": "2024-02-17T12:48:14.819656Z",
     "iopub.status.busy": "2024-02-17T12:48:14.819379Z",
     "iopub.status.idle": "2024-02-17T12:48:14.832851Z",
     "shell.execute_reply": "2024-02-17T12:48:14.831436Z"
    }
   },
   "outputs": [],
   "source": [
    "def create_wandering_blob(mesh, x_0, y_0, v_x, v_y, t_create, t_vanish, sigma=1e7):\n",
    "    tt, yy, xx = mesh\n",
    "    exponent = (xx - x_0 - v_x * (tt - t_create)) ** 2 + (\n",
    "        yy - y_0 - v_y * (tt - t_create)\n",
    "    ) ** 2\n",
    "    blob = np.exp(-exponent / sigma)\n",
    "    blob = np.where(np.logical_and(tt >= t_create, tt <= t_vanish), blob, 0)\n",
    "\n",
    "    return blob\n",
    "\n",
    "\n",
    "def create_xarray(array, mesh, starting_time=\"2022-04-01T00:00\"):\n",
    "    tt, yy, xx = mesh\n",
    "    t = np.unique(tt)\n",
    "    y = np.unique(yy)\n",
    "    x = np.unique(xx)\n",
    "\n",
    "    N_t = len(t)\n",
    "    dt = np.diff(t)[0]\n",
    "\n",
    "    t_0 = np.datetime64(starting_time)\n",
    "    t_delta = np.timedelta64(dt, \"s\")\n",
    "\n",
    "    time = np.array([t_0 + i * t_delta for i in range(len(array))])\n",
    "\n",
    "    dims = (\"time\", \"projection_x_coordinate\", \"projection_y_coordinate\")\n",
    "    coords = {\"time\": time, \"projection_x_coordinate\": x, \"projection_y_coordinate\": y}\n",
    "    attributes = {\"units\": (\"m s-1\")}\n",
    "\n",
    "    data = xr.DataArray(data=array, dims=dims, coords=coords, attrs=attributes)\n",
    "    # data = data.projection_x_coordinate.assign_attrs({\"units\": (\"m\")})\n",
    "    # data = data.projection_y_coordinate.assign_attrs({\"units\": (\"m\")})\n",
    "    data = data.assign_coords(latitude=(\"projection_x_coordinate\", x / x.max() * 90))\n",
    "    data = data.assign_coords(longitude=(\"projection_y_coordinate\", y / y.max() * 90))\n",
    "\n",
    "    return data"
   ]
  },
  {
   "cell_type": "markdown",
   "id": "3a6af9d7",
   "metadata": {},
   "source": [
    "We use the first function to create two blobs whose paths will cross. To keep them detectable as seperate features in the dataset we don't want to just add them together. Instead we are going to use the highest value of each pixel by applying boolean masking and the resulting field is transformed into the `xarray` format."
   ]
  },
  {
   "cell_type": "code",
   "execution_count": null,
   "id": "e73d775b",
   "metadata": {
    "execution": {
     "iopub.execute_input": "2024-02-17T12:48:14.840431Z",
     "iopub.status.busy": "2024-02-17T12:48:14.839815Z",
     "iopub.status.idle": "2024-02-17T12:48:15.058937Z",
     "shell.execute_reply": "2024-02-17T12:48:15.056161Z"
    }
   },
   "outputs": [],
   "source": [
    "blob_1 = create_wandering_blob(mesh, x_min, y_min, v_x, v_y, t_min, t_max)\n",
    "blob_2 = create_wandering_blob(mesh, x_max, y_min, -v_x, v_y, t_min, t_max)\n",
    "blob_mask = blob_1 > blob_2\n",
    "blob = np.where(blob_mask, blob_1, blob_2)\n",
    "\n",
    "data = create_xarray(blob, mesh)"
   ]
  },
  {
   "cell_type": "markdown",
   "id": "f11c0ce6",
   "metadata": {},
   "source": [
    "Let's check if we achived what we wanted by plotting the result:"
   ]
  },
  {
   "cell_type": "code",
   "execution_count": null,
   "id": "53893ecb",
   "metadata": {
    "execution": {
     "iopub.execute_input": "2024-02-17T12:48:15.068873Z",
     "iopub.status.busy": "2024-02-17T12:48:15.065472Z",
     "iopub.status.idle": "2024-02-17T12:48:23.750424Z",
     "shell.execute_reply": "2024-02-17T12:48:23.749559Z"
    }
   },
   "outputs": [],
   "source": [
    "data.plot(\n",
    "    cmap=\"viridis\",\n",
    "    col=\"time\",\n",
    "    col_wrap=5,\n",
    "    x=\"projection_x_coordinate\",\n",
    "    y=\"projection_y_coordinate\",\n",
    "    size=5,\n",
    ")"
   ]
  },
  {
   "cell_type": "markdown",
   "id": "4c381bcc",
   "metadata": {},
   "source": [
    "Looks good! We see two features crossing each other, and they are clearly separable in every frame."
   ]
  },
  {
   "cell_type": "markdown",
   "id": "c8cd3596",
   "metadata": {},
   "source": [
    "## 2. Feature detection\n",
    "\n",
    "Before we can perform the tracking we need to detect the features with the usual function. The grid spacing is deduced from the generated field. We still need to find a reasonable threshold value. Let's try a really high one:"
   ]
  },
  {
   "cell_type": "code",
   "execution_count": null,
   "id": "440f2acb",
   "metadata": {
    "execution": {
     "iopub.execute_input": "2024-02-17T12:48:23.755458Z",
     "iopub.status.busy": "2024-02-17T12:48:23.755198Z",
     "iopub.status.idle": "2024-02-17T12:48:24.035923Z",
     "shell.execute_reply": "2024-02-17T12:48:24.034887Z"
    }
   },
   "outputs": [],
   "source": [
    "%%capture\n",
    "\n",
    "spacing = np.diff(np.unique(mesh[1]))[0]\n",
    "\n",
    "dxy, dt = tobac.get_spacings(data.to_iris(), grid_spacing=spacing)\n",
    "features = tobac.feature_detection_multithreshold(data.to_iris(), dxy, threshold=0.99)"
   ]
  },
  {
   "cell_type": "code",
   "execution_count": null,
   "id": "829147c5",
   "metadata": {
    "execution": {
     "iopub.execute_input": "2024-02-17T12:48:24.040091Z",
     "iopub.status.busy": "2024-02-17T12:48:24.039423Z",
     "iopub.status.idle": "2024-02-17T12:48:24.260872Z",
     "shell.execute_reply": "2024-02-17T12:48:24.259512Z"
    }
   },
   "outputs": [],
   "source": [
    "plt.figure(figsize=(10, 6))\n",
    "features.plot.scatter(x=\"hdim_1\", y=\"hdim_2\")"
   ]
  },
  {
   "cell_type": "markdown",
   "id": "eb5b54e0",
   "metadata": {},
   "source": [
    "As you can see almost no features are detected. This means our threshold is too high and neglects many datapoints. Therefore it is a good idea to try a low threshold value:"
   ]
  },
  {
   "cell_type": "code",
   "execution_count": null,
   "id": "f9537137",
   "metadata": {
    "execution": {
     "iopub.execute_input": "2024-02-17T12:48:24.265789Z",
     "iopub.status.busy": "2024-02-17T12:48:24.265272Z",
     "iopub.status.idle": "2024-02-17T12:48:24.429700Z",
     "shell.execute_reply": "2024-02-17T12:48:24.422502Z"
    }
   },
   "outputs": [],
   "source": [
    "%%capture\n",
    "features = tobac.feature_detection_multithreshold(data.to_iris(), dxy, threshold=0.3)"
   ]
  },
  {
   "cell_type": "code",
   "execution_count": null,
   "id": "75c4de62",
   "metadata": {
    "execution": {
     "iopub.execute_input": "2024-02-17T12:48:24.436779Z",
     "iopub.status.busy": "2024-02-17T12:48:24.436420Z",
     "iopub.status.idle": "2024-02-17T12:48:24.645913Z",
     "shell.execute_reply": "2024-02-17T12:48:24.645168Z"
    }
   },
   "outputs": [],
   "source": [
    "plt.figure(figsize=(10, 6))\n",
    "features.plot.scatter(x=\"hdim_1\", y=\"hdim_2\")"
   ]
  },
  {
   "cell_type": "markdown",
   "id": "b47d4aae",
   "metadata": {},
   "source": [
    "Here the paths of the blobs are clearly visible, but there is an area in the middle where both merge into one feature. This should be avoided. Therefore we try another value for the threshold somewhere in the middle of the available range:"
   ]
  },
  {
   "cell_type": "code",
   "execution_count": null,
   "id": "6d3b79f8",
   "metadata": {
    "execution": {
     "iopub.execute_input": "2024-02-17T12:48:24.650234Z",
     "iopub.status.busy": "2024-02-17T12:48:24.649825Z",
     "iopub.status.idle": "2024-02-17T12:48:24.774134Z",
     "shell.execute_reply": "2024-02-17T12:48:24.773174Z"
    }
   },
   "outputs": [],
   "source": [
    "%%capture\n",
    "features = tobac.feature_detection_multithreshold(data.to_iris(), dxy, threshold=0.8)"
   ]
  },
  {
   "cell_type": "code",
   "execution_count": null,
   "id": "b889231b",
   "metadata": {
    "execution": {
     "iopub.execute_input": "2024-02-17T12:48:24.779544Z",
     "iopub.status.busy": "2024-02-17T12:48:24.778917Z",
     "iopub.status.idle": "2024-02-17T12:48:24.970295Z",
     "shell.execute_reply": "2024-02-17T12:48:24.969487Z"
    }
   },
   "outputs": [],
   "source": [
    "plt.figure(figsize=(10, 6))\n",
    "features.plot.scatter(x=\"hdim_1\", y=\"hdim_2\")"
   ]
  },
  {
   "cell_type": "markdown",
   "id": "edb7398d",
   "metadata": {},
   "source": [
    "This is the picture we wanted to see. This means we can continue working with this set of features."
   ]
  },
  {
   "cell_type": "markdown",
   "id": "2ba1dec0",
   "metadata": {},
   "source": [
    "## 3. Influence of the tracking method"
   ]
  },
  {
   "cell_type": "markdown",
   "id": "5909b787",
   "metadata": {},
   "source": [
    "Now the tracking can be performed. We will create two outputs, one with `method = 'random'`, and the other one with `method = 'predict'`. Since we know what the velocities of our features are beforehand, we can select a reasonable value for `v_max`. Normally this would need to be finetuned."
   ]
  },
  {
   "cell_type": "code",
   "execution_count": null,
   "id": "aadaf159",
   "metadata": {
    "execution": {
     "iopub.execute_input": "2024-02-17T12:48:24.974508Z",
     "iopub.status.busy": "2024-02-17T12:48:24.974011Z",
     "iopub.status.idle": "2024-02-17T12:48:25.257166Z",
     "shell.execute_reply": "2024-02-17T12:48:25.255752Z"
    }
   },
   "outputs": [],
   "source": [
    "%matplotlib inline\n",
    "v_max = 20\n",
    "\n",
    "track_1 = tobac.linking_trackpy(\n",
    "    features, data, dt, dxy, v_max=v_max, method_linking=\"random\"\n",
    ")\n",
    "\n",
    "track_2 = tobac.linking_trackpy(\n",
    "    features, data, dt, dxy, v_max=v_max, method_linking=\"predict\"\n",
    ")"
   ]
  },
  {
   "cell_type": "code",
   "execution_count": null,
   "id": "7bc02685-073f-4f32-be76-7e482d4f85f4",
   "metadata": {
    "execution": {
     "iopub.execute_input": "2024-02-17T12:48:25.264786Z",
     "iopub.status.busy": "2024-02-17T12:48:25.264270Z",
     "iopub.status.idle": "2024-02-17T12:48:25.304668Z",
     "shell.execute_reply": "2024-02-17T12:48:25.303073Z"
    }
   },
   "outputs": [],
   "source": [
    "track_1"
   ]
  },
  {
   "cell_type": "markdown",
   "id": "e826cbf0",
   "metadata": {},
   "source": [
    "Let's have a look at the resulting tracks:"
   ]
  },
  {
   "cell_type": "code",
   "execution_count": null,
   "id": "74f65fe0",
   "metadata": {
    "execution": {
     "iopub.execute_input": "2024-02-17T12:48:25.309221Z",
     "iopub.status.busy": "2024-02-17T12:48:25.308400Z",
     "iopub.status.idle": "2024-02-17T12:48:26.042068Z",
     "shell.execute_reply": "2024-02-17T12:48:26.040891Z"
    }
   },
   "outputs": [],
   "source": [
    "fig, (ax1, ax2) = plt.subplots(ncols=2, figsize=(20, 10))\n",
    "\n",
    "cell_color = [None, \"C0\", \"C1\", \"C2\", \"C3\"]\n",
    "for i, cell_track in track_1.groupby(\"cell\"):\n",
    "    cell_track.plot(\n",
    "        x=\"projection_x_coordinate\",\n",
    "        y=\"projection_y_coordinate\",\n",
    "        ax=ax1,\n",
    "        marker=\"o\",\n",
    "        color=cell_color[i],\n",
    "        label=\"cell {0}\".format(int(i)),\n",
    "    )\n",
    "ax1.legend()\n",
    "ax1.set_title(\"random\")\n",
    "\n",
    "for i, cell_track in track_2.groupby(\"cell\"):\n",
    "    cell_track.plot(\n",
    "        x=\"projection_x_coordinate\",\n",
    "        y=\"projection_y_coordinate\",\n",
    "        ax=ax2,\n",
    "        marker=\"o\",\n",
    "        color=cell_color[i],\n",
    "        label=\"cell {0}\".format(int(i)),\n",
    "    )\n",
    "ax2.legend()\n",
    "ax2.set_title(\"predict\")"
   ]
  },
  {
   "cell_type": "markdown",
   "id": "081e16ac",
   "metadata": {},
   "source": [
    "As you can see, there is a clear difference. While in the first link output the feature positions in the top half of the graph are linked into one cell, in the second output the path of the cell follows the actual way of the Gaussian blobs we created. This is possible because `method = \"predict\"` uses an extraploation to infer the next position from the previous timeframes."
   ]
  },
  {
   "cell_type": "markdown",
   "id": "4f2096e8",
   "metadata": {},
   "source": [
    "## 4. Analysis\n",
    "\n",
    "We know that the second option is \"correct\", because we created the data. But can we also decude this by analyzing our tracks?\n",
    "\n",
    "Let's calculate the values for the velocities:"
   ]
  },
  {
   "cell_type": "code",
   "execution_count": null,
   "id": "1d26f341",
   "metadata": {
    "execution": {
     "iopub.execute_input": "2024-02-17T12:48:26.046600Z",
     "iopub.status.busy": "2024-02-17T12:48:26.045958Z",
     "iopub.status.idle": "2024-02-17T12:48:26.099385Z",
     "shell.execute_reply": "2024-02-17T12:48:26.098633Z"
    }
   },
   "outputs": [],
   "source": [
    "track_1 = tobac.analysis.calculate_velocity(track_1)\n",
    "track_2 = tobac.analysis.calculate_velocity(track_2)\n",
    "\n",
    "v1 = track_1.where(track_1[\"cell\"] == 1).dropna().v.values\n",
    "v2 = track_2.where(track_1[\"cell\"] == 1).dropna().v.values"
   ]
  },
  {
   "attachments": {},
   "cell_type": "markdown",
   "id": "623f3b51",
   "metadata": {},
   "source": [
    "Visualizing these can help us with our investigation:"
   ]
  },
  {
   "cell_type": "code",
   "execution_count": null,
   "id": "7573ae59",
   "metadata": {
    "execution": {
     "iopub.execute_input": "2024-02-17T12:48:26.105426Z",
     "iopub.status.busy": "2024-02-17T12:48:26.105019Z",
     "iopub.status.idle": "2024-02-17T12:48:26.805463Z",
     "shell.execute_reply": "2024-02-17T12:48:26.804425Z"
    }
   },
   "outputs": [],
   "source": [
    "fig, (ax) = plt.subplots(figsize=(14, 6))\n",
    "\n",
    "ax.set_title(\"Cell 1\")\n",
    "\n",
    "mask_1 = track_1[\"cell\"] == 1\n",
    "mask_2 = track_2[\"cell\"] == 1\n",
    "\n",
    "track_1.where(mask_1).dropna().plot(\n",
    "    x=\"time\",\n",
    "    y=\"v\",\n",
    "    ax=ax,\n",
    "    label='method = \"random\"',\n",
    "    marker=\"^\",\n",
    "    linestyle=\"\",\n",
    "    alpha=0.5,\n",
    ")\n",
    "track_2.where(mask_2).dropna().plot(\n",
    "    x=\"time\",\n",
    "    y=\"v\",\n",
    "    ax=ax,\n",
    "    label='method = \"predict\"',\n",
    "    marker=\"v\",\n",
    "    linestyle=\"\",\n",
    "    alpha=0.5,\n",
    ")\n",
    "\n",
    "ticks = ax.get_xticks()\n",
    "\n",
    "plt.hlines(\n",
    "    [np.sqrt(v_x**2 + v_y**2)],\n",
    "    ticks.min(),\n",
    "    ticks.max(),\n",
    "    color=\"black\",\n",
    "    label=\"expected velocity\",\n",
    "    linestyle=\"--\",\n",
    ")\n",
    "\n",
    "\n",
    "ax.set_ylabel(\"$v$ [m/s]\")\n",
    "plt.legend()\n",
    "plt.tight_layout()"
   ]
  },
  {
   "cell_type": "markdown",
   "id": "5d3b7d21",
   "metadata": {},
   "source": [
    "The expected velocity is just added for reference. But also without looking at this, we can see that the values for `method = \"random\"` have an outlier, that deviates far from the other values. This is a clear sign, that this method is not suited well for this case."
   ]
  },
  {
   "cell_type": "markdown",
   "id": "ed200ac3",
   "metadata": {},
   "source": []
  },
  {
   "cell_type": "markdown",
   "id": "b454de91",
   "metadata": {},
   "source": []
  },
  {
   "cell_type": "markdown",
   "id": "a8991618",
   "metadata": {},
   "source": []
  }
 ],
 "metadata": {
  "kernelspec": {
   "display_name": "aes690st-sp24-test",
   "language": "python",
   "name": "python3"
  },
  "language_info": {
   "codemirror_mode": {
    "name": "ipython",
    "version": 3
   },
   "file_extension": ".py",
   "mimetype": "text/x-python",
   "name": "python",
   "nbconvert_exporter": "python",
   "pygments_lexer": "ipython3",
   "version": "3.11.6"
  }
 },
 "nbformat": 4,
 "nbformat_minor": 5
}
