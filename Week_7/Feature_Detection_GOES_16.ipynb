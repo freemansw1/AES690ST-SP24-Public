{
 "cells": [
  {
   "cell_type": "markdown",
   "id": "49e5f463",
   "metadata": {},
   "source": [
    "# 2D *tobac* Tutorial: GOES-16 ABI Data"
   ]
  },
  {
   "cell_type": "markdown",
   "id": "62ab10a1",
   "metadata": {},
   "source": [
    "This tutorial will demonstrate how to use *tobac* to detect and track cloud features with GOES-16 ABI IR data. Because this tutorial is entirely using 2D spatial data, it only requires *tobac* v1.3.1 or newer, rather than the beta of v1.5. "
   ]
  },
  {
   "cell_type": "code",
   "execution_count": null,
   "id": "multiple-interpretation",
   "metadata": {},
   "outputs": [],
   "source": [
    "%matplotlib inline\n",
    "import xarray as xr\n",
    "import cartopy.crs as ccrs\n",
    "import matplotlib.pyplot as plt\n",
    "import numpy as np\n",
    "import goes_conv\n",
    "import cartopy.crs as ccrs\n",
    "import matplotlib.gridspec as gridspec\n",
    "import datetime\n",
    "import pandas as pd\n",
    "import cartopy.feature as cfeature\n",
    "import tobac\n",
    "import s3fs"
   ]
  },
  {
   "cell_type": "markdown",
   "id": "a0464498",
   "metadata": {},
   "source": [
    "### Data Prep"
   ]
  },
  {
   "cell_type": "markdown",
   "id": "37bf3f3c",
   "metadata": {},
   "source": [
    "First, we will start with a single time/file. Then we will demonstrate expanding this to multiple times. "
   ]
  },
  {
   "cell_type": "code",
   "execution_count": null,
   "id": "continuous-buddy",
   "metadata": {},
   "outputs": [],
   "source": [
    "# Download example file 1 from here: https://noaa-goes16.s3.amazonaws.com/ABI-L2-MCMIPC/2021/178/14/OR_ABI-L2-MCMIPC-M6_G16_s20211781401171_e20211781403549_c20211781404049.nc\n",
    "fs = s3fs.S3FileSystem(anon=True)\n",
    "aws_url = 's3://noaa-goes16/ABI-L2-MCMIPC/2021/178/14/OR_ABI-L2-MCMIPC-M6_G16_s20211781401171_e20211781403549_c20211781404049.nc'\n",
    "#in_goes_test = xr.open_dataset('./OR_ABI-L2-MCMIPC-M6_G16_s20211781401171_e20211781403549_c20211781404049.nc')\n",
    "with fs.open(aws_url) as fileObj:\n",
    "  in_goes_test = xr.open_dataset(fileObj, engine='h5netcdf')\n"
   ]
  },
  {
   "cell_type": "code",
   "execution_count": null,
   "id": "typical-pavilion",
   "metadata": {
    "tags": []
   },
   "outputs": [],
   "source": [
    "in_goes_test"
   ]
  },
  {
   "cell_type": "markdown",
   "id": "3c15686c",
   "metadata": {},
   "source": [
    "GOES data comes in radian coordinates from the satellite. There are many different ways of gridding these data, but we've included a little helper function here that should work. "
   ]
  },
  {
   "cell_type": "code",
   "execution_count": null,
   "id": "bibliographic-circumstances",
   "metadata": {},
   "outputs": [],
   "source": [
    "llons, llats  = goes_conv.lat_lon_reproj(in_goes_test)"
   ]
  },
  {
   "cell_type": "markdown",
   "id": "11c89257",
   "metadata": {},
   "source": [
    "Since we are only interested in one channel here, let's extract out those data. This will also make our lives easier when switching over to Iris."
   ]
  },
  {
   "cell_type": "code",
   "execution_count": null,
   "id": "proud-modern",
   "metadata": {},
   "outputs": [],
   "source": [
    "in_goes_test_for_tobac = xr.Dataset(data_vars=\n",
    "    {\n",
    "        \"C10\": ((\"time\", \"Y\", \"X\"), np.expand_dims(in_goes_test['CMI_C10'].values, axis=0)),\n",
    "    },\n",
    "    coords=\n",
    "    {\"time\": [in_goes_test['time_bounds'].mean().values],\n",
    "    \"lon\": ([\"Y\", \"X\"], llons),\n",
    "    \"lat\": ([\"Y\", \"X\"], llats)},\n",
    ")"
   ]
  },
  {
   "cell_type": "markdown",
   "id": "973261bc",
   "metadata": {},
   "source": [
    "*tobac* currently only supports Iris as its data input type. Fortunately, it is relatively easy to convert Xarray to Iris."
   ]
  },
  {
   "cell_type": "code",
   "execution_count": null,
   "id": "tight-terminology",
   "metadata": {},
   "outputs": [],
   "source": [
    "iris_var = in_goes_test_for_tobac['C10'].to_iris()"
   ]
  },
  {
   "cell_type": "code",
   "execution_count": null,
   "id": "under-visit",
   "metadata": {},
   "outputs": [],
   "source": [
    "iris_var"
   ]
  },
  {
   "cell_type": "markdown",
   "id": "3278be6b",
   "metadata": {},
   "source": [
    "### Feature Detection"
   ]
  },
  {
   "cell_type": "markdown",
   "id": "00ac5a94",
   "metadata": {},
   "source": [
    "First, let's set our parameters for feature detection. "
   ]
  },
  {
   "cell_type": "code",
   "execution_count": null,
   "id": "accompanied-beverage",
   "metadata": {},
   "outputs": [],
   "source": [
    "# Keyword arguments for the feature detection step\n",
    "# See: https://tobac--150.org.readthedocs.build/en/150/threshold_detection_parameters.html for a more thorough description of these parameters.\n",
    "parameters_features={}\n",
    "parameters_features['position_threshold']='weighted_diff'\n",
    "parameters_features['sigma_threshold']=1.5\n",
    "parameters_features['n_erosion_threshold']=2\n",
    "\n",
    "parameters_features['n_min_threshold']=10\n",
    "parameters_features['target']='minimum'\n",
    "parameters_features['threshold']=[230, 220, 210, 200]\n"
   ]
  },
  {
   "cell_type": "markdown",
   "id": "f9d86ce1",
   "metadata": {},
   "source": [
    "Let's run feature detection. While this is only running on one file, "
   ]
  },
  {
   "cell_type": "code",
   "execution_count": null,
   "id": "destroyed-trout",
   "metadata": {},
   "outputs": [],
   "source": [
    "print('starting feature detection')\n",
    "# GOES-16 isn't *quite* 2km resolution, but this is reasonably close. \n",
    "dxy=2000\n",
    "Features=tobac.feature_detection_multithreshold(iris_var,dxy,**parameters_features)"
   ]
  },
  {
   "cell_type": "code",
   "execution_count": null,
   "id": "unlikely-teddy",
   "metadata": {},
   "outputs": [],
   "source": [
    "# This is our list of detected features. \n",
    "Features"
   ]
  },
  {
   "cell_type": "code",
   "execution_count": null,
   "id": "stable-forth",
   "metadata": {},
   "outputs": [],
   "source": [
    "#get cartopy projection for plotting parts of figure\n",
    "proj = ccrs.PlateCarree()\n"
   ]
  },
  {
   "cell_type": "code",
   "execution_count": null,
   "id": "interim-martial",
   "metadata": {},
   "outputs": [],
   "source": [
    "goes_xformed_pts = proj.transform_points(src_crs = ccrs.PlateCarree(), x=llons, y=llats)\n",
    "goes_proj_x = goes_xformed_pts[...,0]\n",
    "goes_proj_y = goes_xformed_pts[...,1]\n"
   ]
  },
  {
   "cell_type": "code",
   "execution_count": null,
   "id": "empty-rough",
   "metadata": {},
   "outputs": [],
   "source": [
    "#make the figure\n",
    "fig1 = plt.figure(figsize = (14,14), constrained_layout=True)\n",
    "spec1 = gridspec.GridSpec(ncols=1, nrows=1, figure=fig1)\n",
    "\n",
    "f1_goes_1 = fig1.add_subplot(spec1[0, 0], projection=proj)\n",
    "#f1_goes_1.gridlines(xlocs=xticks, ylocs=yticks, linestyle=':', zorder=3)\n",
    "# Label the end-points of the gridlines using the custom tick makers:\n",
    "#f1_goes_1.xaxis.set_major_formatter(LONGITUDE_FORMATTER) \n",
    "#f1_goes_1.yaxis.set_major_formatter(LATITUDE_FORMATTER)\n",
    "f1_goes_1.coastlines(resolution='50m')\n",
    "#f1_goes_1.borders(resolution='50m')\n",
    "states_provinces = cfeature.NaturalEarthFeature(\n",
    "        category='cultural',\n",
    "        name='admin_1_states_provinces_lines',\n",
    "        scale='50m',\n",
    "        facecolor='none')\n",
    "country_borders = cfeature.NaturalEarthFeature(\n",
    "        category='cultural',\n",
    "        name='admin_0_countries',\n",
    "        scale='50m',\n",
    "        facecolor='none')\n",
    "\n",
    "f1_goes_1.add_feature(states_provinces, edgecolor='gray')\n",
    "f1_goes_1.add_feature(country_borders, edgecolor='gray')\n",
    "\n",
    "#this works for squares onlu, figure out non-squares.\n",
    "min_x = 400\n",
    "min_y = 100\n",
    "max_x = 2500\n",
    "max_y = 1100\n",
    "\n",
    "\n",
    "cmesh = f1_goes_1.pcolormesh(goes_proj_x[min_y:max_y, min_x:max_x].T, goes_proj_y[min_y:max_y, min_x:max_x].T, in_goes_test['CMI_C10'][min_y:max_y, min_x:max_x].T)\n",
    "plt.colorbar(cmesh)\n",
    "\n",
    "#f1_goes_1.scatter(goes_proj_x[min_y:max_y, min_x:max_x], goes_proj_y[min_y:max_y, min_x:max_x], )\n",
    "f1_goes_1.scatter(Features['lon'],Features['lat'], transform=ccrs.PlateCarree(), color='r')\n",
    "f1_goes_1.set_extent([-100, -65, 23, 45])"
   ]
  },
  {
   "cell_type": "markdown",
   "id": "6f3f854f",
   "metadata": {},
   "source": [
    "### Segmentation"
   ]
  },
  {
   "cell_type": "markdown",
   "id": "6aa7ae6d",
   "metadata": {},
   "source": [
    "Segmentation associates each feature with an area of another variable around it that is either the same variable or a different variable.\n",
    "\n",
    "First, we will try to associate the areas of the same variable with a minimum threshold of 230K. "
   ]
  },
  {
   "cell_type": "code",
   "execution_count": null,
   "id": "26244c6d",
   "metadata": {},
   "outputs": [],
   "source": [
    "parameters_segmentation = dict()\n",
    "parameters_segmentation['threshold'] = 230\n",
    "parameters_segmentation['target'] = 'minimum'"
   ]
  },
  {
   "cell_type": "code",
   "execution_count": null,
   "id": "seasonal-scratch",
   "metadata": {},
   "outputs": [],
   "source": [
    "print('starting segmentation')\n",
    "dxy=2000\n",
    "segmentation, features_from_seg=tobac.segmentation.segmentation(Features, iris_var, dxy,**parameters_segmentation)"
   ]
  },
  {
   "cell_type": "code",
   "execution_count": null,
   "id": "7178824a",
   "metadata": {},
   "outputs": [],
   "source": [
    "#make the figure\n",
    "fig1 = plt.figure(figsize = (14,14), constrained_layout=True)\n",
    "spec1 = gridspec.GridSpec(ncols=1, nrows=1, figure=fig1)\n",
    "\n",
    "f1_goes_1 = fig1.add_subplot(spec1[0, 0], projection=proj)\n",
    "#f1_goes_1.gridlines(xlocs=xticks, ylocs=yticks, linestyle=':', zorder=3)\n",
    "# Label the end-points of the gridlines using the custom tick makers:\n",
    "#f1_goes_1.xaxis.set_major_formatter(LONGITUDE_FORMATTER) \n",
    "#f1_goes_1.yaxis.set_major_formatter(LATITUDE_FORMATTER)\n",
    "f1_goes_1.coastlines(resolution='50m')\n",
    "#f1_goes_1.borders(resolution='50m')\n",
    "states_provinces = cfeature.NaturalEarthFeature(\n",
    "        category='cultural',\n",
    "        name='admin_1_states_provinces_lines',\n",
    "        scale='50m',\n",
    "        facecolor='none')\n",
    "country_borders = cfeature.NaturalEarthFeature(\n",
    "        category='cultural',\n",
    "        name='admin_0_countries',\n",
    "        scale='50m',\n",
    "        facecolor='none')\n",
    "\n",
    "f1_goes_1.add_feature(states_provinces, edgecolor='gray')\n",
    "f1_goes_1.add_feature(country_borders, edgecolor='gray')\n",
    "\n",
    "#this works for squares onlu, figure out non-squares.\n",
    "min_x = 400\n",
    "min_y = 100\n",
    "max_x = 2500\n",
    "max_y = 1100\n",
    "\n",
    "\n",
    "cmesh = f1_goes_1.pcolormesh(goes_proj_x[min_y:max_y, min_x:max_x].T, goes_proj_y[min_y:max_y, min_x:max_x].T, in_goes_test['CMI_C10'][min_y:max_y, min_x:max_x].T)\n",
    "segmentation_data = segmentation.core_data()[min_y:max_y, min_x:max_x].T\n",
    "# Loop through each segmented area to draw each one individually\n",
    "for unique_val in np.unique(segmentation_data):\n",
    "        if unique_val == 0:\n",
    "                continue\n",
    "        curr_seg_mask = segmentation_data == unique_val\n",
    "        curr_seg_mask = curr_seg_mask.astype(np.int32)\n",
    "        cl = f1_goes_1.contour(goes_proj_x[min_y:max_y, min_x:max_x].T, goes_proj_y[min_y:max_y, min_x:max_x].T, curr_seg_mask, levels=[1,], colors='r')\n",
    "plt.colorbar(cmesh)\n",
    "\n",
    "#f1_goes_1.scatter(goes_proj_x[min_y:max_y, min_x:max_x], goes_proj_y[min_y:max_y, min_x:max_x], )\n",
    "f1_goes_1.scatter(Features['lon'],Features['lat'], transform=ccrs.PlateCarree(), color='r')\n",
    "f1_goes_1.set_extent([-100, -65, 23, 45])"
   ]
  },
  {
   "cell_type": "markdown",
   "id": "18eaedcb",
   "metadata": {},
   "source": [
    "#### Segmentation on a different variable, same grid"
   ]
  },
  {
   "cell_type": "code",
   "execution_count": null,
   "id": "209f2b53",
   "metadata": {},
   "outputs": [],
   "source": [
    "# Let's try to segment on visible satellite from our IR detected features.\n",
    "in_goes_test_for_tobac_vis = xr.Dataset(data_vars=\n",
    "    {\n",
    "        \"C02\": ((\"time\", \"Y\", \"X\"), np.expand_dims(in_goes_test['CMI_C02'].values, axis=0)),\n",
    "    },\n",
    "    coords=\n",
    "    {\"time\": [in_goes_test['time_bounds'].mean().values],\n",
    "    \"lon\": ([\"Y\", \"X\"], llons),\n",
    "    \"lat\": ([\"Y\", \"X\"], llats)},\n",
    ")"
   ]
  },
  {
   "cell_type": "code",
   "execution_count": null,
   "id": "29a67902",
   "metadata": {},
   "outputs": [],
   "source": [
    "iris_var_vis = in_goes_test_for_tobac_vis['C02'].to_iris()"
   ]
  },
  {
   "cell_type": "code",
   "execution_count": null,
   "id": "b6629436",
   "metadata": {},
   "outputs": [],
   "source": [
    "parameters_segmentation = dict()\n",
    "parameters_segmentation['threshold'] = 0.4\n",
    "parameters_segmentation['target'] = 'maximum'"
   ]
  },
  {
   "cell_type": "code",
   "execution_count": null,
   "id": "2fb5ebb0",
   "metadata": {},
   "outputs": [],
   "source": [
    "print('starting segmentation on visible satellite')\n",
    "dxy=2000\n",
    "segmentation, features_from_seg=tobac.segmentation.segmentation(Features, iris_var_vis, dxy,**parameters_segmentation)"
   ]
  },
  {
   "cell_type": "code",
   "execution_count": null,
   "id": "54fa3a00",
   "metadata": {},
   "outputs": [],
   "source": [
    "#make the figure\n",
    "fig1 = plt.figure(figsize = (14,14), constrained_layout=True)\n",
    "spec1 = gridspec.GridSpec(ncols=1, nrows=1, figure=fig1)\n",
    "\n",
    "f1_goes_1 = fig1.add_subplot(spec1[0, 0], projection=proj)\n",
    "#f1_goes_1.gridlines(xlocs=xticks, ylocs=yticks, linestyle=':', zorder=3)\n",
    "# Label the end-points of the gridlines using the custom tick makers:\n",
    "#f1_goes_1.xaxis.set_major_formatter(LONGITUDE_FORMATTER) \n",
    "#f1_goes_1.yaxis.set_major_formatter(LATITUDE_FORMATTER)\n",
    "f1_goes_1.coastlines(resolution='50m')\n",
    "#f1_goes_1.borders(resolution='50m')\n",
    "states_provinces = cfeature.NaturalEarthFeature(\n",
    "        category='cultural',\n",
    "        name='admin_1_states_provinces_lines',\n",
    "        scale='50m',\n",
    "        facecolor='none')\n",
    "country_borders = cfeature.NaturalEarthFeature(\n",
    "        category='cultural',\n",
    "        name='admin_0_countries',\n",
    "        scale='50m',\n",
    "        facecolor='none')\n",
    "\n",
    "f1_goes_1.add_feature(states_provinces, edgecolor='gray')\n",
    "f1_goes_1.add_feature(country_borders, edgecolor='gray')\n",
    "\n",
    "#this works for squares onlu, figure out non-squares.\n",
    "min_x = 400\n",
    "min_y = 100\n",
    "max_x = 2500\n",
    "max_y = 1100\n",
    "\n",
    "\n",
    "cmesh = f1_goes_1.pcolormesh(goes_proj_x[min_y:max_y, min_x:max_x].T, goes_proj_y[min_y:max_y, min_x:max_x].T, in_goes_test['CMI_C02'][min_y:max_y, min_x:max_x].T, cmap='binary_r')\n",
    "segmentation_data = segmentation.core_data()[min_y:max_y, min_x:max_x].T\n",
    "# Loop through each segmented area to draw each one individually\n",
    "for unique_val in np.unique(segmentation_data):\n",
    "        if unique_val == 0:\n",
    "                continue\n",
    "        curr_seg_mask = segmentation_data == unique_val\n",
    "        curr_seg_mask = curr_seg_mask.astype(np.int32)\n",
    "        cl = f1_goes_1.contour(goes_proj_x[min_y:max_y, min_x:max_x].T, goes_proj_y[min_y:max_y, min_x:max_x].T, curr_seg_mask, levels=[1,], colors='r')\n",
    "plt.colorbar(cmesh)\n",
    "\n",
    "#f1_goes_1.scatter(goes_proj_x[min_y:max_y, min_x:max_x], goes_proj_y[min_y:max_y, min_x:max_x], )\n",
    "f1_goes_1.scatter(Features['lon'],Features['lat'], transform=ccrs.PlateCarree(), color='r')\n",
    "f1_goes_1.set_extent([-100, -65, 23, 45])"
   ]
  },
  {
   "cell_type": "markdown",
   "id": "0d80535e",
   "metadata": {},
   "source": [
    "## Tracking"
   ]
  },
  {
   "cell_type": "markdown",
   "id": "e8a3be98",
   "metadata": {},
   "source": [
    "For tracking, we will clearly need more than one timestep. Now, let's load in the "
   ]
  },
  {
   "cell_type": "code",
   "execution_count": null,
   "id": "4706a560",
   "metadata": {},
   "outputs": [],
   "source": [
    "import urllib.request\n",
    "in_file_names = ['OR_ABI-L2-MCMIPC-M6_G16_s20211781401171_e20211781403549_c20211781404049.nc', 'OR_ABI-L2-MCMIPC-M6_G16_s20211781406171_e20211781408549_c20211781409055.nc',\n",
    "                'OR_ABI-L2-MCMIPC-M6_G16_s20211781411171_e20211781413544_c20211781414055.nc', 'OR_ABI-L2-MCMIPC-M6_G16_s20211781416171_e20211781418555_c20211781419046.nc',\n",
    "                'OR_ABI-L2-MCMIPC-M6_G16_s20211781421171_e20211781423544_c20211781424047.nc', 'OR_ABI-L2-MCMIPC-M6_G16_s20211781426171_e20211781428544_c20211781429045.nc',\n",
    "                'OR_ABI-L2-MCMIPC-M6_G16_s20211781431171_e20211781433544_c20211781434046.nc', 'OR_ABI-L2-MCMIPC-M6_G16_s20211781436171_e20211781438555_c20211781439046.nc',\n",
    "                'OR_ABI-L2-MCMIPC-M6_G16_s20211781441171_e20211781443549_c20211781444049.nc', 'OR_ABI-L2-MCMIPC-M6_G16_s20211781446171_e20211781448544_c20211781449043.nc',\n",
    "                'OR_ABI-L2-MCMIPC-M6_G16_s20211781451171_e20211781453544_c20211781454048.nc', 'OR_ABI-L2-MCMIPC-M6_G16_s20211781456171_e20211781458550_c20211781459045.nc']\n",
    "for in_file in in_file_names:\n",
    "    print(\"Downloading \"+in_file)\n",
    "    urllib.request.urlretrieve(\"https://noaa-goes16.s3.amazonaws.com/ABI-L2-MCMIPC/2021/178/14/\"+in_file, \"./goes_data/\"+in_file)\n"
   ]
  },
  {
   "cell_type": "code",
   "execution_count": null,
   "id": "310f9c55",
   "metadata": {},
   "outputs": [],
   "source": [
    "import glob\n",
    "# Import all of our data into an xarray\n",
    "in_goes_files = sorted(glob.glob('./goes_data/*.nc', recursive=True))"
   ]
  },
  {
   "cell_type": "markdown",
   "id": "59832518",
   "metadata": {},
   "source": [
    "We need to combine these GOES-16 files into one large Xarray dataset. "
   ]
  },
  {
   "cell_type": "code",
   "execution_count": null,
   "id": "7d8500b4",
   "metadata": {},
   "outputs": [],
   "source": [
    "in_goes_ds = list()\n",
    "\n",
    "for in_goes_fn in in_goes_files:\n",
    "    #print(in_goes_fn)\n",
    "    in_goes_ds.append(xr.open_dataset(in_goes_fn))\n",
    "    \n",
    "#get common lats/lons\n",
    "\n",
    "llons, llats  = goes_conv.lat_lon_reproj(in_goes_ds[0])\n",
    "\n",
    "full_goes_data = np.zeros((len(in_goes_ds),llons.shape[0], llons.shape[1]))\n",
    "goes_times = list()\n",
    "\n",
    "for i, in_goes_file in enumerate(in_goes_ds):\n",
    "    full_goes_data[i] = in_goes_file['CMI_C10'].values\n",
    "    goes_times.append(pd.to_datetime(in_goes_file['time_bounds'].mean().values).to_pydatetime())\n",
    "#pd.to_datetime(test_dt).to_pydatetime()\n",
    "in_goes_for_tobac = xr.Dataset(data_vars=\n",
    "    {\n",
    "        \"C10\": ((\"time\", \"Y\", \"X\"), full_goes_data,)\n",
    "    },\n",
    "    coords=\n",
    "    {\"time\": goes_times,\n",
    "    \"lon\": ([\"Y\", \"X\"], llons),\n",
    "    \"lat\": ([\"Y\", \"X\"], llats)},\n",
    ")\n"
   ]
  },
  {
   "cell_type": "markdown",
   "id": "b4354e78",
   "metadata": {},
   "source": [
    "As before, we will convert our input data to Iris"
   ]
  },
  {
   "cell_type": "code",
   "execution_count": null,
   "id": "1c479894",
   "metadata": {},
   "outputs": [],
   "source": [
    "iris_var = in_goes_for_tobac['C10'].to_iris()"
   ]
  },
  {
   "cell_type": "code",
   "execution_count": null,
   "id": "8f363748",
   "metadata": {},
   "outputs": [],
   "source": [
    "# Keyword arguments for the feature detection step (same as before)\n",
    "# See: https://tobac--150.org.readthedocs.build/en/150/threshold_detection_parameters.html for a more thorough description of these parameters.\n",
    "parameters_features={}\n",
    "parameters_features['position_threshold']='weighted_diff'\n",
    "parameters_features['sigma_threshold']=1.5\n",
    "parameters_features['n_erosion_threshold']=2\n",
    "\n",
    "parameters_features['n_min_threshold']=10\n",
    "parameters_features['target']='minimum'\n",
    "parameters_features['threshold']=[230, 220, 210, 200]\n"
   ]
  },
  {
   "cell_type": "code",
   "execution_count": null,
   "id": "92ad7c1e",
   "metadata": {},
   "outputs": [],
   "source": [
    "# Feature detection and save results to file:\n",
    "print('starting feature detection')\n",
    "dxy=2000\n",
    "Features=tobac.feature_detection_multithreshold(iris_var,dxy,**parameters_features)"
   ]
  },
  {
   "cell_type": "code",
   "execution_count": null,
   "id": "d10c9d0c",
   "metadata": {},
   "outputs": [],
   "source": [
    "Features"
   ]
  },
  {
   "cell_type": "code",
   "execution_count": null,
   "id": "ac579de4",
   "metadata": {},
   "outputs": [],
   "source": [
    "parameters_linking={}\n",
    "parameters_linking['method_linking']='predict'\n",
    "parameters_linking['adaptive_stop']=0.2\n",
    "parameters_linking['adaptive_step']=0.95\n",
    "parameters_linking['extrapolate']=0\n",
    "parameters_linking['order']=1\n",
    "parameters_linking['subnetwork_size']=200\n",
    "parameters_linking['memory']=2\n",
    "parameters_linking['time_cell_min']=5*60\n",
    "parameters_linking['method_linking']='predict'\n",
    "parameters_linking['v_max']=30\n"
   ]
  },
  {
   "cell_type": "code",
   "execution_count": null,
   "id": "3c87e2d0",
   "metadata": {},
   "outputs": [],
   "source": [
    "# Perform linking and save results:\n",
    "Track= tobac.linking_trackpy(Features,None,dt=5*60,dxy=1000,**parameters_linking)\n"
   ]
  },
  {
   "cell_type": "code",
   "execution_count": null,
   "id": "16891c51",
   "metadata": {},
   "outputs": [],
   "source": [
    "Track"
   ]
  },
  {
   "cell_type": "code",
   "execution_count": null,
   "id": "203a0a78",
   "metadata": {},
   "outputs": [],
   "source": [
    "#make the figure\n",
    "fig1 = plt.figure(figsize = (14,14), constrained_layout=True)\n",
    "spec1 = gridspec.GridSpec(ncols=1, nrows=1, figure=fig1)\n",
    "\n",
    "f1_goes_1 = fig1.add_subplot(spec1[0, 0], projection=proj)\n",
    "#f1_goes_1.gridlines(xlocs=xticks, ylocs=yticks, linestyle=':', zorder=3)\n",
    "# Label the end-points of the gridlines using the custom tick makers:\n",
    "#f1_goes_1.xaxis.set_major_formatter(LONGITUDE_FORMATTER) \n",
    "#f1_goes_1.yaxis.set_major_formatter(LATITUDE_FORMATTER)\n",
    "f1_goes_1.coastlines(resolution='50m')\n",
    "#f1_goes_1.borders(resolution='50m')\n",
    "states_provinces = cfeature.NaturalEarthFeature(\n",
    "        category='cultural',\n",
    "        name='admin_1_states_provinces_lines',\n",
    "        scale='50m',\n",
    "        facecolor='none')\n",
    "country_borders = cfeature.NaturalEarthFeature(\n",
    "        category='cultural',\n",
    "        name='admin_0_countries',\n",
    "        scale='50m',\n",
    "        facecolor='none')\n",
    "\n",
    "f1_goes_1.add_feature(states_provinces, edgecolor='gray')\n",
    "f1_goes_1.add_feature(country_borders, edgecolor='gray')\n",
    "\n",
    "#this works for squares onlu, figure out non-squares.\n",
    "min_x = 400\n",
    "min_y = 100\n",
    "max_x = 2500\n",
    "max_y = 1100\n",
    "\n",
    "\n",
    "cmesh = f1_goes_1.pcolormesh(goes_proj_x[min_y:max_y, min_x:max_x].T, goes_proj_y[min_y:max_y, min_x:max_x].T, in_goes_for_tobac['C10'][-1,min_y:max_y, min_x:max_x].T)\n",
    "plt.colorbar(cmesh)\n",
    "\n",
    "curr_goes_time = Features['time'].max()\n",
    "features_at_time = Track[Track['time']== curr_goes_time]\n",
    "cells_at_time = features_at_time[features_at_time['cell']!=-1]\n",
    "#f1_goes_1.scatter(goes_proj_x[min_y:max_y, min_x:max_x], goes_proj_y[min_y:max_y, min_x:max_x], )\n",
    "f1_goes_1.scatter(features_at_time['lon'],features_at_time['lat'], transform=ccrs.PlateCarree(), color='r')\n",
    "track_before_time = Track[np.logical_and(Track['cell'].isin(np.unique(cells_at_time['cell'])),\n",
    "                                                Track['time']<=curr_goes_time+datetime.timedelta(seconds=5))]\n",
    "track_lats = track_before_time.groupby('cell')['lat'].apply(list)\n",
    "track_lons = track_before_time.groupby('cell')['lon'].apply(list)\n",
    "\n",
    "for track_lat_list, track_lon_list in zip(track_lats.values, track_lons.values):\n",
    "        f1_goes_1.plot(np.array(track_lon_list).flatten(), \n",
    "                        np.array(track_lat_list).flatten(), transform=ccrs.PlateCarree(), color='r')\n",
    "f1_goes_1.set_extent([-100, -65, 23, 45])"
   ]
  }
 ],
 "metadata": {
  "kernelspec": {
   "display_name": "Python 3.10.5 ('tobac_stable')",
   "language": "python",
   "name": "python3"
  },
  "language_info": {
   "codemirror_mode": {
    "name": "ipython",
    "version": 3
   },
   "file_extension": ".py",
   "mimetype": "text/x-python",
   "name": "python",
   "nbconvert_exporter": "python",
   "pygments_lexer": "ipython3",
   "version": "3.11.6"
  },
  "vscode": {
   "interpreter": {
    "hash": "016431552120eaa5ecd0cb1774eb7d27c055e19eca8a16613293878851700b9c"
   }
  }
 },
 "nbformat": 4,
 "nbformat_minor": 5
}
