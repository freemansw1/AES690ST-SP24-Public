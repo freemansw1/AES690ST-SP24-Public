{
 "cells": [
  {
   "cell_type": "markdown",
   "metadata": {},
   "source": [
    "# Classification Neural Network"
   ]
  },
  {
   "cell_type": "markdown",
   "metadata": {},
   "source": [
    "So far, we have primarily worked with regression neural networks. This is only one of the possibilities. Often, we don't want to predict an actual value, instead predicting *what* a grid, set of values, or object is showing. "
   ]
  },
  {
   "cell_type": "markdown",
   "metadata": {},
   "source": [
    "In this notebook, we will work to create an incredibly simple neural network classifier: has it rained in the last hour?"
   ]
  },
  {
   "cell_type": "code",
   "execution_count": null,
   "metadata": {},
   "outputs": [],
   "source": [
    "%matplotlib inline"
   ]
  },
  {
   "cell_type": "code",
   "execution_count": null,
   "metadata": {},
   "outputs": [],
   "source": [
    "import tensorflow as tf\n",
    "import numpy as np\n",
    "import tensorflow.keras as keras\n",
    "from tensorflow.keras import Sequential\n",
    "from tensorflow.keras.layers import Dense\n",
    "import matplotlib.pyplot as plt\n",
    "import pandas as pd\n",
    "import copy"
   ]
  },
  {
   "cell_type": "markdown",
   "metadata": {},
   "source": [
    "Load in our ASOS Data"
   ]
  },
  {
   "cell_type": "code",
   "execution_count": null,
   "metadata": {},
   "outputs": [],
   "source": [
    "input_data = pd.read_csv(\"./al_asos_jul_23_v2.csv\")"
   ]
  },
  {
   "cell_type": "code",
   "execution_count": null,
   "metadata": {},
   "outputs": [],
   "source": [
    "input_data"
   ]
  },
  {
   "cell_type": "code",
   "execution_count": null,
   "metadata": {},
   "outputs": [],
   "source": [
    "np.sum(input_data['p01i'].isna())"
   ]
  },
  {
   "cell_type": "code",
   "execution_count": null,
   "metadata": {},
   "outputs": [],
   "source": [
    "# NaNs are bad!\n",
    "input_data = input_data.dropna(subset='p01i')\n",
    "np.sum(input_data['p01i'].isna())"
   ]
  },
  {
   "cell_type": "markdown",
   "metadata": {},
   "source": [
    "We need to create our categories. Here, we will divide into three categories: No rain, Trace rainfall (0.0001 inches), and raining (>0.0001 inches). While text categories are most useful to us humans, the ANN needs enumerated categories (i.e., integers representing string category names)"
   ]
  },
  {
   "cell_type": "code",
   "execution_count": null,
   "metadata": {},
   "outputs": [],
   "source": [
    "input_data['raining_status'] = ''\n",
    "input_data['raining_status_int'] = np.empty((len(input_data)), dtype=np.int8)"
   ]
  },
  {
   "cell_type": "code",
   "execution_count": null,
   "metadata": {},
   "outputs": [],
   "source": [
    "input_data.loc[ input_data['p01i'] <= 0.0001, 'raining_status'] = 'TRACE'\n",
    "input_data.loc[ input_data['p01i'] <= 0.0001, 'raining_status_int'] = 1\n",
    "\n",
    "input_data.loc[ input_data['p01i'] == 0.0, 'raining_status'] = 'DRY'\n",
    "input_data.loc[ input_data['p01i'] == 0.0, 'raining_status_int'] = 0\n",
    "\n",
    "input_data.loc[ input_data['p01i'] > 0.0001, 'raining_status'] = 'RAIN'\n",
    "input_data.loc[ input_data['p01i'] > 0.0001, 'raining_status_int'] = 2\n"
   ]
  },
  {
   "cell_type": "code",
   "execution_count": null,
   "metadata": {},
   "outputs": [],
   "source": [
    "input_data['raining_status_int'].unique()"
   ]
  },
  {
   "cell_type": "markdown",
   "metadata": {},
   "source": [
    "We're going to do something that we should have been doing all along, dividing our input data into train, validate, and test. Scikit-learn has a good function for this. "
   ]
  },
  {
   "cell_type": "code",
   "execution_count": null,
   "metadata": {},
   "outputs": [],
   "source": [
    "from sklearn.model_selection import train_test_split"
   ]
  },
  {
   "cell_type": "code",
   "execution_count": null,
   "metadata": {},
   "outputs": [],
   "source": [
    "training_data, test_validation = train_test_split(input_data, test_size=0.25)\n",
    "testing_data, validation_data = train_test_split(test_validation, test_size=0.5)"
   ]
  },
  {
   "cell_type": "markdown",
   "metadata": {},
   "source": [
    "While our input layer is the same as it was before (with a shape of 1), our output layer has changed. Instead, we have three outputs. Each of the three outputs corresponds to one of our output categories (Trace, dry, or rain). Inside the output neurons, the value will be a \"score\" representing the likelihood of each value. These are called *logits*, the math of which we won't cover here. "
   ]
  },
  {
   "cell_type": "code",
   "execution_count": null,
   "metadata": {},
   "outputs": [],
   "source": [
    "# same input layer as before\n",
    "input1 = keras.layers.Input(shape=(1, ))\n",
    "input_norm = keras.layers.Normalization()(input1)\n",
    "dense1 = keras.layers.Dense(128, input_dim=1, activation=keras.activations.sigmoid)(input_norm)\n",
    "\n",
    "# 3 outputs, as we will predict the likelyhood of each classification\n",
    "output = keras.layers.Dense(3, )(dense1)\n",
    "model10 = keras.models.Model(inputs=[input1], outputs=[output])\n",
    "# need to use a different loss function - MSE doesn't make sense anymore\n",
    "# we also want tensorflow to output accuracy as a metric - how accurate are our predictions?\n",
    "model10.compile(optimizer=keras.optimizers.legacy.Adam(learning_rate=0.001, clipnorm=0.0001), \n",
    "                loss=keras.losses.SparseCategoricalCrossentropy(from_logits=True),\n",
    "                metrics=['accuracy'])\n",
    "model10.summary()"
   ]
  },
  {
   "cell_type": "code",
   "execution_count": null,
   "metadata": {},
   "outputs": [],
   "source": [
    "model10.fit(training_data['p01i'].values, training_data['raining_status_int'].values, epochs=4, \n",
    "            validation_data=(validation_data['p01i'].values, validation_data['raining_status_int'].values),\n",
    "            batch_size=64)"
   ]
  },
  {
   "cell_type": "markdown",
   "metadata": {},
   "source": [
    "Okay, we have fit our classification model to data. Great. Now, how do we evaluate?"
   ]
  },
  {
   "cell_type": "code",
   "execution_count": null,
   "metadata": {},
   "outputs": [],
   "source": [
    "# one way: \n",
    "model10.evaluate(testing_data['p01i'].values, testing_data['raining_status_int'].values)"
   ]
  },
  {
   "cell_type": "markdown",
   "metadata": {},
   "source": [
    "Okay, let's make predictions!"
   ]
  },
  {
   "cell_type": "code",
   "execution_count": null,
   "metadata": {},
   "outputs": [],
   "source": [
    "predictions = model10.predict(testing_data['p01i'].values)\n",
    "predictions"
   ]
  },
  {
   "cell_type": "markdown",
   "metadata": {},
   "source": [
    "Fascinating. What *are* those?? They are called *logits*, and their math is outside the scope of this class. The bottom line is that we need to convert them to useful probabilities."
   ]
  },
  {
   "cell_type": "code",
   "execution_count": null,
   "metadata": {},
   "outputs": [],
   "source": [
    "# add a layer onto an existing model\n",
    "probability_model10 = tf.keras.Sequential([model10, tf.keras.layers.Softmax()])"
   ]
  },
  {
   "cell_type": "code",
   "execution_count": null,
   "metadata": {},
   "outputs": [],
   "source": [
    "predictions = probability_model10.predict(testing_data['p01i'].values)\n",
    "predictions"
   ]
  },
  {
   "cell_type": "markdown",
   "metadata": {},
   "source": [
    "Much more understandable output!"
   ]
  },
  {
   "cell_type": "code",
   "execution_count": null,
   "metadata": {},
   "outputs": [],
   "source": [
    "# we can get the actual model prediction (absolute value) by:\n",
    "\n",
    "predictions_categorical = np.argmax(predictions, axis=1)"
   ]
  },
  {
   "cell_type": "code",
   "execution_count": null,
   "metadata": {},
   "outputs": [],
   "source": []
  }
 ],
 "metadata": {
  "kernelspec": {
   "display_name": "aes690st-sp24-test",
   "language": "python",
   "name": "python3"
  },
  "language_info": {
   "codemirror_mode": {
    "name": "ipython",
    "version": 3
   },
   "file_extension": ".py",
   "mimetype": "text/x-python",
   "name": "python",
   "nbconvert_exporter": "python",
   "pygments_lexer": "ipython3",
   "version": "3.11.6"
  }
 },
 "nbformat": 4,
 "nbformat_minor": 2
}
