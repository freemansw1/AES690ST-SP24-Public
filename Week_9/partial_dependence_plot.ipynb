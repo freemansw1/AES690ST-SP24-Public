{
 "cells": [
  {
   "cell_type": "markdown",
   "metadata": {},
   "source": [
    "# Recreating Feels Like temperatures with an ANN"
   ]
  },
  {
   "cell_type": "code",
   "execution_count": null,
   "metadata": {},
   "outputs": [],
   "source": [
    "%matplotlib inline"
   ]
  },
  {
   "cell_type": "code",
   "execution_count": null,
   "metadata": {},
   "outputs": [],
   "source": [
    "import tensorflow as tf\n",
    "import numpy as np\n",
    "import tensorflow.keras as keras\n",
    "from tensorflow.keras import Sequential\n",
    "from tensorflow.keras.layers import Dense\n",
    "import matplotlib.pyplot as plt\n",
    "import pandas as pd\n",
    "import copy"
   ]
  },
  {
   "cell_type": "markdown",
   "metadata": {},
   "source": [
    "Let's load in our ASOS station dataset."
   ]
  },
  {
   "cell_type": "code",
   "execution_count": null,
   "metadata": {},
   "outputs": [],
   "source": [
    "input_data = pd.read_csv(\"../Week_5/al_asos_jul_23_v2.csv\")"
   ]
  },
  {
   "cell_type": "code",
   "execution_count": null,
   "metadata": {},
   "outputs": [],
   "source": [
    "input_data"
   ]
  },
  {
   "cell_type": "code",
   "execution_count": null,
   "metadata": {},
   "outputs": [],
   "source": [
    "# It is often good practice to drop missing data, so let's do just that. \n",
    "input_data_nona = input_data.dropna()"
   ]
  },
  {
   "cell_type": "code",
   "execution_count": null,
   "metadata": {},
   "outputs": [],
   "source": [
    "input_data_nona"
   ]
  },
  {
   "cell_type": "markdown",
   "metadata": {},
   "source": [
    "583 rows!?! That's not enough. Remember to be careful as you're doing this..."
   ]
  },
  {
   "cell_type": "code",
   "execution_count": null,
   "metadata": {},
   "outputs": [],
   "source": [
    "input_data_nona = input_data.drop('gust', axis=1).dropna()"
   ]
  },
  {
   "cell_type": "code",
   "execution_count": null,
   "metadata": {},
   "outputs": [],
   "source": [
    "input_data_nona"
   ]
  },
  {
   "cell_type": "markdown",
   "metadata": {},
   "source": [
    "See any issues here?"
   ]
  },
  {
   "cell_type": "code",
   "execution_count": null,
   "metadata": {},
   "outputs": [],
   "source": [
    "input_data_renamed_clouds = copy.deepcopy(input_data)\n",
    "all_cloud_vals = input_data_renamed_clouds['skyc1']\n",
    "all_cloud_vals.fillna('CLR')\n",
    "input_data_renamed_clouds['skyc1'] = all_cloud_vals\n",
    "input_data_renamed_clouds"
   ]
  },
  {
   "cell_type": "code",
   "execution_count": null,
   "metadata": {},
   "outputs": [],
   "source": [
    "input_data_nona = input_data_renamed_clouds.drop(['gust', 'skyl1', 'mslp'], axis=1).dropna()"
   ]
  },
  {
   "cell_type": "code",
   "execution_count": null,
   "metadata": {},
   "outputs": [],
   "source": [
    "input_data_nona"
   ]
  },
  {
   "cell_type": "code",
   "execution_count": null,
   "metadata": {},
   "outputs": [],
   "source": [
    "plt.scatter(input_data_nona['tmpf'], input_data_nona['feel'])\n",
    "plt.xlabel(\"Temperature (F)\")\n",
    "plt.ylabel(\"Heat index (F)\")"
   ]
  },
  {
   "cell_type": "code",
   "execution_count": null,
   "metadata": {},
   "outputs": [],
   "source": [
    "def nws_heat_index(T, RH):\n",
    "    '''\n",
    "    T in fahrenheit, RH in %\n",
    "    https://www.wpc.ncep.noaa.gov/html/heatindex_equation.shtml\n",
    "    '''\n",
    "    initial_hi =  0.5 * (T + 61.0 + ((T-68.0)*1.2) + (RH*0.094))\n",
    "    if initial_hi < 80:\n",
    "        return initial_hi\n",
    "\n",
    "    adjustment_factor = 0\n",
    "    if T>=80 and T<=112 and RH <13:\n",
    "        adjustment_factor =  ((13-RH)/4)*np.sqrt((17-np.abs(T-95.))/17)\n",
    "    \n",
    "    if T>=80 and T<=87 and RH > 85:\n",
    "         adjustment_factor = ((RH-85)/10) * ((87-T)/5)\n",
    "\n",
    "    return (-42.379 + 2.04901523*T + 10.14333127*RH - .22475541*T*RH - .00683783*T*T - \n",
    "           .05481717*RH*RH + .00122874*T*T*RH + .00085282*T*RH*RH - .00000199*T*T*RH*RH) + adjustment_factor\n",
    "\n",
    "nws_heat_index_vectorized = np.vectorize(nws_heat_index)"
   ]
  },
  {
   "cell_type": "code",
   "execution_count": null,
   "metadata": {},
   "outputs": [],
   "source": [
    "our_calc_hi = nws_heat_index_vectorized(input_data_nona['tmpf'], input_data_nona['relh'])"
   ]
  },
  {
   "cell_type": "code",
   "execution_count": null,
   "metadata": {},
   "outputs": [],
   "source": [
    "plt.scatter(our_calc_hi, input_data_nona['feel'])\n",
    "plt.xlabel(\"Found HI Equation (F)\")\n",
    "plt.ylabel(\"IEM Reported Feels Like\")"
   ]
  },
  {
   "cell_type": "code",
   "execution_count": null,
   "metadata": {},
   "outputs": [],
   "source": [
    "plt.scatter(our_calc_hi, input_data_nona['feel'])\n",
    "plt.xlabel(\"Found HI Equation (F)\")\n",
    "plt.ylabel(\"IEM Reported Feels Like\")\n",
    "plt.xlim(80, 120)\n",
    "plt.ylim(80, 120)"
   ]
  },
  {
   "cell_type": "markdown",
   "metadata": {},
   "source": [
    "Let's try this with an ANN"
   ]
  },
  {
   "cell_type": "code",
   "execution_count": null,
   "metadata": {},
   "outputs": [],
   "source": [
    "from sklearn.model_selection import train_test_split"
   ]
  },
  {
   "cell_type": "code",
   "execution_count": null,
   "metadata": {},
   "outputs": [],
   "source": [
    "# Prepare our data first\n",
    "training_data, test_validation = train_test_split(input_data_nona, test_size=0.25)\n",
    "testing_data, validation_data = train_test_split(test_validation, test_size=0.5)"
   ]
  },
  {
   "cell_type": "code",
   "execution_count": null,
   "metadata": {},
   "outputs": [],
   "source": [
    "training_data['tmpf'].values.shape"
   ]
  },
  {
   "cell_type": "code",
   "execution_count": null,
   "metadata": {},
   "outputs": [],
   "source": [
    "np.sum(pd.isna(training_data['tmpf'].values))"
   ]
  },
  {
   "cell_type": "code",
   "execution_count": null,
   "metadata": {},
   "outputs": [],
   "source": [
    "# Let's try adding different layers\n",
    "input1 = keras.layers.Input(shape=(2, ))\n",
    "input_norm = keras.layers.Normalization()(input1)\n",
    "\n",
    "\n",
    "dense1 = keras.layers.Dense(128, input_dim=0, activation=keras.activations.sigmoid)(input_norm)\n",
    "dense2 = keras.layers.Dense(64, input_dim=0, activation=keras.activations.relu)(dense1)\n",
    "\n",
    "output = keras.layers.Dense(1, activation=keras.activations.relu, use_bias=True)(dense2)\n",
    "model = keras.models.Model(inputs=[input1], outputs=[output])\n",
    "model.compile(optimizer=keras.optimizers.legacy.Adam(learning_rate=0.01), loss='mean_squared_error')\n",
    "model.summary()"
   ]
  },
  {
   "cell_type": "code",
   "execution_count": null,
   "metadata": {},
   "outputs": [],
   "source": [
    "model.fit(training_data[['tmpf', 'relh']].values, \n",
    "           training_data['feel'].values, epochs=3, batch_size=64)"
   ]
  },
  {
   "cell_type": "code",
   "execution_count": null,
   "metadata": {},
   "outputs": [],
   "source": [
    "predicted_hi = model.predict(testing_data[['tmpf', 'relh']].values)"
   ]
  },
  {
   "cell_type": "code",
   "execution_count": null,
   "metadata": {},
   "outputs": [],
   "source": [
    "plt.scatter(predicted_hi, testing_data['feel'])\n",
    "plt.xlabel(\"Predicted from model (F)\")\n",
    "plt.ylabel(\"IEM Reported Feels Like\")\n",
    "#plt.xlim(50, 120)\n",
    "#plt.ylim(50, 120)\n",
    "plt.plot([50, 120], [50, 120], color='grey', ls='--')"
   ]
  },
  {
   "cell_type": "code",
   "execution_count": null,
   "metadata": {},
   "outputs": [],
   "source": [
    "from sklearn.inspection import PartialDependenceDisplay\n"
   ]
  },
  {
   "cell_type": "code",
   "execution_count": null,
   "metadata": {},
   "outputs": [],
   "source": [
    "model.dummy_ = \"dummy\"\n",
    "model._estimator_type = \"regressor\""
   ]
  },
  {
   "cell_type": "code",
   "execution_count": null,
   "metadata": {},
   "outputs": [],
   "source": [
    "my_plots = PartialDependenceDisplay.from_estimator(model,       \n",
    "                                   features=[0, 1], # column numbers of plots we want to show\n",
    "                                   X=training_data[['tmpf', 'relh']].values,            # raw predictors data.\n",
    "                                   feature_names=['Temperature (F)', 'Relative Humidity (%)'])\n"
   ]
  },
  {
   "cell_type": "code",
   "execution_count": null,
   "metadata": {},
   "outputs": [],
   "source": []
  }
 ],
 "metadata": {
  "kernelspec": {
   "display_name": "aes690st-sp24-test",
   "language": "python",
   "name": "python3"
  },
  "language_info": {
   "codemirror_mode": {
    "name": "ipython",
    "version": 3
   },
   "file_extension": ".py",
   "mimetype": "text/x-python",
   "name": "python",
   "nbconvert_exporter": "python",
   "pygments_lexer": "ipython3",
   "version": "3.11.6"
  }
 },
 "nbformat": 4,
 "nbformat_minor": 2
}
