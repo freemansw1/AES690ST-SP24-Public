{
 "cells": [
  {
   "cell_type": "markdown",
   "metadata": {},
   "source": [
    "# Advanced ANNs: Increasing Data Volume"
   ]
  },
  {
   "cell_type": "code",
   "execution_count": 35,
   "metadata": {},
   "outputs": [],
   "source": [
    "import tensorflow as tf\n",
    "import numpy as np\n",
    "import tensorflow.keras as keras\n",
    "from tensorflow.keras import Sequential\n",
    "from tensorflow.keras.layers import Dense\n",
    "import matplotlib.pyplot as plt\n",
    "import pandas as pd\n",
    "import copy\n",
    "import metpy\n",
    "import metpy.calc"
   ]
  },
  {
   "cell_type": "code",
   "execution_count": 34,
   "metadata": {},
   "outputs": [
    {
     "name": "stdout",
     "output_type": "stream",
     "text": [
      "Num GPUs Available:  0\n"
     ]
    }
   ],
   "source": [
    "print(\"Num GPUs Available: \", len(tf.config.list_physical_devices('GPU')))\n"
   ]
  },
  {
   "cell_type": "code",
   "execution_count": 4,
   "metadata": {},
   "outputs": [],
   "source": [
    "# we will set the seed this time to ensure fairness\n",
    "tf.random.set_seed(1)"
   ]
  },
  {
   "cell_type": "code",
   "execution_count": 15,
   "metadata": {},
   "outputs": [],
   "source": [
    "al_asos = pd.read_csv(\"../Week_6/al_asos_jul_23_v2.csv\")\n",
    "#us_asos = pd.read_csv(\"/share/share/combined_asos_2023.csv\")\n",
    "us_asos = pd.read_csv(\"/home/sfreeman/teaching/sp24/combined_asos_2023.csv\")"
   ]
  },
  {
   "cell_type": "code",
   "execution_count": 16,
   "metadata": {},
   "outputs": [],
   "source": [
    "def nws_heat_index(T, RH):\n",
    "    '''\n",
    "    T in fahrenheit, RH in %\n",
    "    https://www.wpc.ncep.noaa.gov/html/heatindex_equation.shtml\n",
    "    '''\n",
    "    initial_hi =  0.5 * (T + 61.0 + ((T-68.0)*1.2) + (RH*0.094))\n",
    "    if initial_hi < 80:\n",
    "        return initial_hi\n",
    "\n",
    "    adjustment_factor = 0\n",
    "    if T>=80 and T<=112 and RH <13:\n",
    "        adjustment_factor =  ((13-RH)/4)*np.sqrt((17-np.abs(T-95.))/17)\n",
    "    \n",
    "    if T>=80 and T<=87 and RH > 85:\n",
    "         adjustment_factor = ((RH-85)/10) * ((87-T)/5)\n",
    "\n",
    "    return (-42.379 + 2.04901523*T + 10.14333127*RH - .22475541*T*RH - .00683783*T*T - \n",
    "           .05481717*RH*RH + .00122874*T*T*RH + .00085282*T*RH*RH - .00000199*T*T*RH*RH) + adjustment_factor\n",
    "\n",
    "nws_heat_index_vectorized = np.vectorize(nws_heat_index)"
   ]
  },
  {
   "cell_type": "code",
   "execution_count": 17,
   "metadata": {},
   "outputs": [
    {
     "data": {
      "text/html": [
       "<div>\n",
       "<style scoped>\n",
       "    .dataframe tbody tr th:only-of-type {\n",
       "        vertical-align: middle;\n",
       "    }\n",
       "\n",
       "    .dataframe tbody tr th {\n",
       "        vertical-align: top;\n",
       "    }\n",
       "\n",
       "    .dataframe thead th {\n",
       "        text-align: right;\n",
       "    }\n",
       "</style>\n",
       "<table border=\"1\" class=\"dataframe\">\n",
       "  <thead>\n",
       "    <tr style=\"text-align: right;\">\n",
       "      <th></th>\n",
       "      <th>station</th>\n",
       "      <th>valid</th>\n",
       "      <th>tmpf</th>\n",
       "      <th>tmpc</th>\n",
       "      <th>dwpf</th>\n",
       "      <th>dwpc</th>\n",
       "      <th>relh</th>\n",
       "      <th>feel</th>\n",
       "      <th>sknt</th>\n",
       "      <th>mslp</th>\n",
       "      <th>p01m</th>\n",
       "      <th>p01i</th>\n",
       "      <th>gust</th>\n",
       "      <th>skyc1</th>\n",
       "      <th>skyl1</th>\n",
       "    </tr>\n",
       "  </thead>\n",
       "  <tbody>\n",
       "    <tr>\n",
       "      <th>0</th>\n",
       "      <td>HEY</td>\n",
       "      <td>2023-07-01 00:11</td>\n",
       "      <td>87.8</td>\n",
       "      <td>31.00</td>\n",
       "      <td>71.6</td>\n",
       "      <td>22.00</td>\n",
       "      <td>58.78</td>\n",
       "      <td>94.18</td>\n",
       "      <td>0.0</td>\n",
       "      <td>1013.0</td>\n",
       "      <td>0.0000</td>\n",
       "      <td>0.0000</td>\n",
       "      <td>NaN</td>\n",
       "      <td>CLR</td>\n",
       "      <td>NaN</td>\n",
       "    </tr>\n",
       "    <tr>\n",
       "      <th>1</th>\n",
       "      <td>SXS</td>\n",
       "      <td>2023-07-01 00:12</td>\n",
       "      <td>87.8</td>\n",
       "      <td>31.00</td>\n",
       "      <td>71.6</td>\n",
       "      <td>22.00</td>\n",
       "      <td>58.78</td>\n",
       "      <td>94.18</td>\n",
       "      <td>0.0</td>\n",
       "      <td>1013.6</td>\n",
       "      <td>0.0000</td>\n",
       "      <td>0.0000</td>\n",
       "      <td>NaN</td>\n",
       "      <td>CLR</td>\n",
       "      <td>NaN</td>\n",
       "    </tr>\n",
       "    <tr>\n",
       "      <th>2</th>\n",
       "      <td>HUA</td>\n",
       "      <td>2023-07-01 00:14</td>\n",
       "      <td>89.6</td>\n",
       "      <td>32.00</td>\n",
       "      <td>77.0</td>\n",
       "      <td>25.00</td>\n",
       "      <td>66.55</td>\n",
       "      <td>102.54</td>\n",
       "      <td>5.0</td>\n",
       "      <td>1013.9</td>\n",
       "      <td>0.0000</td>\n",
       "      <td>0.0000</td>\n",
       "      <td>NaN</td>\n",
       "      <td>FEW</td>\n",
       "      <td>4700.0</td>\n",
       "    </tr>\n",
       "    <tr>\n",
       "      <th>3</th>\n",
       "      <td>8A0</td>\n",
       "      <td>2023-07-01 00:15</td>\n",
       "      <td>86.0</td>\n",
       "      <td>30.00</td>\n",
       "      <td>73.4</td>\n",
       "      <td>23.00</td>\n",
       "      <td>66.15</td>\n",
       "      <td>93.45</td>\n",
       "      <td>0.0</td>\n",
       "      <td>NaN</td>\n",
       "      <td>0.0000</td>\n",
       "      <td>0.0000</td>\n",
       "      <td>NaN</td>\n",
       "      <td>CLR</td>\n",
       "      <td>NaN</td>\n",
       "    </tr>\n",
       "    <tr>\n",
       "      <th>4</th>\n",
       "      <td>4A6</td>\n",
       "      <td>2023-07-01 00:15</td>\n",
       "      <td>NaN</td>\n",
       "      <td>NaN</td>\n",
       "      <td>NaN</td>\n",
       "      <td>NaN</td>\n",
       "      <td>NaN</td>\n",
       "      <td>NaN</td>\n",
       "      <td>NaN</td>\n",
       "      <td>NaN</td>\n",
       "      <td>0.0000</td>\n",
       "      <td>0.0000</td>\n",
       "      <td>NaN</td>\n",
       "      <td>NaN</td>\n",
       "      <td>NaN</td>\n",
       "    </tr>\n",
       "    <tr>\n",
       "      <th>...</th>\n",
       "      <td>...</td>\n",
       "      <td>...</td>\n",
       "      <td>...</td>\n",
       "      <td>...</td>\n",
       "      <td>...</td>\n",
       "      <td>...</td>\n",
       "      <td>...</td>\n",
       "      <td>...</td>\n",
       "      <td>...</td>\n",
       "      <td>...</td>\n",
       "      <td>...</td>\n",
       "      <td>...</td>\n",
       "      <td>...</td>\n",
       "      <td>...</td>\n",
       "      <td>...</td>\n",
       "    </tr>\n",
       "    <tr>\n",
       "      <th>64232</th>\n",
       "      <td>EKY</td>\n",
       "      <td>2023-07-30 23:56</td>\n",
       "      <td>79.0</td>\n",
       "      <td>26.11</td>\n",
       "      <td>76.0</td>\n",
       "      <td>24.44</td>\n",
       "      <td>90.55</td>\n",
       "      <td>79.00</td>\n",
       "      <td>0.0</td>\n",
       "      <td>1001.8</td>\n",
       "      <td>0.0000</td>\n",
       "      <td>0.0000</td>\n",
       "      <td>NaN</td>\n",
       "      <td>CLR</td>\n",
       "      <td>NaN</td>\n",
       "    </tr>\n",
       "    <tr>\n",
       "      <th>64233</th>\n",
       "      <td>79J</td>\n",
       "      <td>2023-07-30 23:56</td>\n",
       "      <td>76.0</td>\n",
       "      <td>24.44</td>\n",
       "      <td>73.0</td>\n",
       "      <td>22.78</td>\n",
       "      <td>90.44</td>\n",
       "      <td>76.00</td>\n",
       "      <td>4.0</td>\n",
       "      <td>1015.6</td>\n",
       "      <td>0.0000</td>\n",
       "      <td>0.0000</td>\n",
       "      <td>NaN</td>\n",
       "      <td>CLR</td>\n",
       "      <td>NaN</td>\n",
       "    </tr>\n",
       "    <tr>\n",
       "      <th>64234</th>\n",
       "      <td>SXS</td>\n",
       "      <td>2023-07-30 23:56</td>\n",
       "      <td>73.4</td>\n",
       "      <td>23.00</td>\n",
       "      <td>73.4</td>\n",
       "      <td>23.00</td>\n",
       "      <td>100.00</td>\n",
       "      <td>73.40</td>\n",
       "      <td>0.0</td>\n",
       "      <td>1015.1</td>\n",
       "      <td>0.0000</td>\n",
       "      <td>0.0000</td>\n",
       "      <td>NaN</td>\n",
       "      <td>FEW</td>\n",
       "      <td>500.0</td>\n",
       "    </tr>\n",
       "    <tr>\n",
       "      <th>64235</th>\n",
       "      <td>EUF</td>\n",
       "      <td>2023-07-30 23:58</td>\n",
       "      <td>79.0</td>\n",
       "      <td>26.11</td>\n",
       "      <td>75.0</td>\n",
       "      <td>23.89</td>\n",
       "      <td>87.58</td>\n",
       "      <td>79.00</td>\n",
       "      <td>0.0</td>\n",
       "      <td>1014.3</td>\n",
       "      <td>0.0000</td>\n",
       "      <td>0.0000</td>\n",
       "      <td>NaN</td>\n",
       "      <td>CLR</td>\n",
       "      <td>NaN</td>\n",
       "    </tr>\n",
       "    <tr>\n",
       "      <th>64236</th>\n",
       "      <td>0J4</td>\n",
       "      <td>2023-07-30 23:58</td>\n",
       "      <td>78.0</td>\n",
       "      <td>25.56</td>\n",
       "      <td>72.0</td>\n",
       "      <td>22.22</td>\n",
       "      <td>81.82</td>\n",
       "      <td>78.00</td>\n",
       "      <td>0.0</td>\n",
       "      <td>1016.4</td>\n",
       "      <td>0.0001</td>\n",
       "      <td>0.0001</td>\n",
       "      <td>NaN</td>\n",
       "      <td>CLR</td>\n",
       "      <td>NaN</td>\n",
       "    </tr>\n",
       "  </tbody>\n",
       "</table>\n",
       "<p>64237 rows × 15 columns</p>\n",
       "</div>"
      ],
      "text/plain": [
       "      station             valid  tmpf   tmpc  dwpf   dwpc    relh    feel  \\\n",
       "0         HEY  2023-07-01 00:11  87.8  31.00  71.6  22.00   58.78   94.18   \n",
       "1         SXS  2023-07-01 00:12  87.8  31.00  71.6  22.00   58.78   94.18   \n",
       "2         HUA  2023-07-01 00:14  89.6  32.00  77.0  25.00   66.55  102.54   \n",
       "3         8A0  2023-07-01 00:15  86.0  30.00  73.4  23.00   66.15   93.45   \n",
       "4         4A6  2023-07-01 00:15   NaN    NaN   NaN    NaN     NaN     NaN   \n",
       "...       ...               ...   ...    ...   ...    ...     ...     ...   \n",
       "64232     EKY  2023-07-30 23:56  79.0  26.11  76.0  24.44   90.55   79.00   \n",
       "64233     79J  2023-07-30 23:56  76.0  24.44  73.0  22.78   90.44   76.00   \n",
       "64234     SXS  2023-07-30 23:56  73.4  23.00  73.4  23.00  100.00   73.40   \n",
       "64235     EUF  2023-07-30 23:58  79.0  26.11  75.0  23.89   87.58   79.00   \n",
       "64236     0J4  2023-07-30 23:58  78.0  25.56  72.0  22.22   81.82   78.00   \n",
       "\n",
       "       sknt    mslp    p01m    p01i  gust skyc1   skyl1  \n",
       "0       0.0  1013.0  0.0000  0.0000   NaN   CLR     NaN  \n",
       "1       0.0  1013.6  0.0000  0.0000   NaN   CLR     NaN  \n",
       "2       5.0  1013.9  0.0000  0.0000   NaN   FEW  4700.0  \n",
       "3       0.0     NaN  0.0000  0.0000   NaN   CLR     NaN  \n",
       "4       NaN     NaN  0.0000  0.0000   NaN   NaN     NaN  \n",
       "...     ...     ...     ...     ...   ...   ...     ...  \n",
       "64232   0.0  1001.8  0.0000  0.0000   NaN   CLR     NaN  \n",
       "64233   4.0  1015.6  0.0000  0.0000   NaN   CLR     NaN  \n",
       "64234   0.0  1015.1  0.0000  0.0000   NaN   FEW   500.0  \n",
       "64235   0.0  1014.3  0.0000  0.0000   NaN   CLR     NaN  \n",
       "64236   0.0  1016.4  0.0001  0.0001   NaN   CLR     NaN  \n",
       "\n",
       "[64237 rows x 15 columns]"
      ]
     },
     "execution_count": 17,
     "metadata": {},
     "output_type": "execute_result"
    }
   ],
   "source": [
    "al_asos"
   ]
  },
  {
   "cell_type": "code",
   "execution_count": 18,
   "metadata": {},
   "outputs": [
    {
     "data": {
      "text/html": [
       "<div>\n",
       "<style scoped>\n",
       "    .dataframe tbody tr th:only-of-type {\n",
       "        vertical-align: middle;\n",
       "    }\n",
       "\n",
       "    .dataframe tbody tr th {\n",
       "        vertical-align: top;\n",
       "    }\n",
       "\n",
       "    .dataframe thead th {\n",
       "        text-align: right;\n",
       "    }\n",
       "</style>\n",
       "<table border=\"1\" class=\"dataframe\">\n",
       "  <thead>\n",
       "    <tr style=\"text-align: right;\">\n",
       "      <th></th>\n",
       "      <th>station</th>\n",
       "      <th>station_name</th>\n",
       "      <th>lat</th>\n",
       "      <th>lon</th>\n",
       "      <th>valid(UTC)</th>\n",
       "      <th>tmpf</th>\n",
       "      <th>dwpf</th>\n",
       "      <th>sknt</th>\n",
       "    </tr>\n",
       "  </thead>\n",
       "  <tbody>\n",
       "    <tr>\n",
       "      <th>0</th>\n",
       "      <td>AAF</td>\n",
       "      <td>APALACHICOLA MUNI (ASOS)</td>\n",
       "      <td>29.7276</td>\n",
       "      <td>-85.0274</td>\n",
       "      <td>2023-01-01 05:00</td>\n",
       "      <td>61.0</td>\n",
       "      <td>62.0</td>\n",
       "      <td>1.0</td>\n",
       "    </tr>\n",
       "    <tr>\n",
       "      <th>1</th>\n",
       "      <td>AAF</td>\n",
       "      <td>APALACHICOLA MUNI (ASOS)</td>\n",
       "      <td>29.7276</td>\n",
       "      <td>-85.0274</td>\n",
       "      <td>2023-01-01 06:00</td>\n",
       "      <td>60.0</td>\n",
       "      <td>61.0</td>\n",
       "      <td>1.0</td>\n",
       "    </tr>\n",
       "    <tr>\n",
       "      <th>2</th>\n",
       "      <td>AAF</td>\n",
       "      <td>APALACHICOLA MUNI (ASOS)</td>\n",
       "      <td>29.7276</td>\n",
       "      <td>-85.0274</td>\n",
       "      <td>2023-01-01 07:00</td>\n",
       "      <td>59.0</td>\n",
       "      <td>60.0</td>\n",
       "      <td>3.0</td>\n",
       "    </tr>\n",
       "    <tr>\n",
       "      <th>3</th>\n",
       "      <td>AAF</td>\n",
       "      <td>APALACHICOLA MUNI (ASOS)</td>\n",
       "      <td>29.7276</td>\n",
       "      <td>-85.0274</td>\n",
       "      <td>2023-01-01 08:00</td>\n",
       "      <td>59.0</td>\n",
       "      <td>60.0</td>\n",
       "      <td>1.0</td>\n",
       "    </tr>\n",
       "    <tr>\n",
       "      <th>4</th>\n",
       "      <td>AAF</td>\n",
       "      <td>APALACHICOLA MUNI (ASOS)</td>\n",
       "      <td>29.7276</td>\n",
       "      <td>-85.0274</td>\n",
       "      <td>2023-01-01 09:00</td>\n",
       "      <td>58.0</td>\n",
       "      <td>60.0</td>\n",
       "      <td>1.0</td>\n",
       "    </tr>\n",
       "    <tr>\n",
       "      <th>...</th>\n",
       "      <td>...</td>\n",
       "      <td>...</td>\n",
       "      <td>...</td>\n",
       "      <td>...</td>\n",
       "      <td>...</td>\n",
       "      <td>...</td>\n",
       "      <td>...</td>\n",
       "      <td>...</td>\n",
       "    </tr>\n",
       "    <tr>\n",
       "      <th>6782526</th>\n",
       "      <td>ZZV</td>\n",
       "      <td>ZANESVILLE</td>\n",
       "      <td>39.9445</td>\n",
       "      <td>-81.8921</td>\n",
       "      <td>2023-12-31 19:00</td>\n",
       "      <td>42.0</td>\n",
       "      <td>33.0</td>\n",
       "      <td>9.0</td>\n",
       "    </tr>\n",
       "    <tr>\n",
       "      <th>6782527</th>\n",
       "      <td>ZZV</td>\n",
       "      <td>ZANESVILLE</td>\n",
       "      <td>39.9445</td>\n",
       "      <td>-81.8921</td>\n",
       "      <td>2023-12-31 20:00</td>\n",
       "      <td>42.0</td>\n",
       "      <td>34.0</td>\n",
       "      <td>7.0</td>\n",
       "    </tr>\n",
       "    <tr>\n",
       "      <th>6782528</th>\n",
       "      <td>ZZV</td>\n",
       "      <td>ZANESVILLE</td>\n",
       "      <td>39.9445</td>\n",
       "      <td>-81.8921</td>\n",
       "      <td>2023-12-31 21:00</td>\n",
       "      <td>42.0</td>\n",
       "      <td>34.0</td>\n",
       "      <td>6.0</td>\n",
       "    </tr>\n",
       "    <tr>\n",
       "      <th>6782529</th>\n",
       "      <td>ZZV</td>\n",
       "      <td>ZANESVILLE</td>\n",
       "      <td>39.9445</td>\n",
       "      <td>-81.8921</td>\n",
       "      <td>2023-12-31 22:00</td>\n",
       "      <td>41.0</td>\n",
       "      <td>34.0</td>\n",
       "      <td>4.0</td>\n",
       "    </tr>\n",
       "    <tr>\n",
       "      <th>6782530</th>\n",
       "      <td>ZZV</td>\n",
       "      <td>ZANESVILLE</td>\n",
       "      <td>39.9445</td>\n",
       "      <td>-81.8921</td>\n",
       "      <td>2023-12-31 23:00</td>\n",
       "      <td>40.0</td>\n",
       "      <td>35.0</td>\n",
       "      <td>3.0</td>\n",
       "    </tr>\n",
       "  </tbody>\n",
       "</table>\n",
       "<p>6782531 rows × 8 columns</p>\n",
       "</div>"
      ],
      "text/plain": [
       "        station              station_name      lat      lon        valid(UTC)  \\\n",
       "0           AAF  APALACHICOLA MUNI (ASOS)  29.7276 -85.0274  2023-01-01 05:00   \n",
       "1           AAF  APALACHICOLA MUNI (ASOS)  29.7276 -85.0274  2023-01-01 06:00   \n",
       "2           AAF  APALACHICOLA MUNI (ASOS)  29.7276 -85.0274  2023-01-01 07:00   \n",
       "3           AAF  APALACHICOLA MUNI (ASOS)  29.7276 -85.0274  2023-01-01 08:00   \n",
       "4           AAF  APALACHICOLA MUNI (ASOS)  29.7276 -85.0274  2023-01-01 09:00   \n",
       "...         ...                       ...      ...      ...               ...   \n",
       "6782526     ZZV                ZANESVILLE  39.9445 -81.8921  2023-12-31 19:00   \n",
       "6782527     ZZV                ZANESVILLE  39.9445 -81.8921  2023-12-31 20:00   \n",
       "6782528     ZZV                ZANESVILLE  39.9445 -81.8921  2023-12-31 21:00   \n",
       "6782529     ZZV                ZANESVILLE  39.9445 -81.8921  2023-12-31 22:00   \n",
       "6782530     ZZV                ZANESVILLE  39.9445 -81.8921  2023-12-31 23:00   \n",
       "\n",
       "         tmpf  dwpf  sknt  \n",
       "0        61.0  62.0   1.0  \n",
       "1        60.0  61.0   1.0  \n",
       "2        59.0  60.0   3.0  \n",
       "3        59.0  60.0   1.0  \n",
       "4        58.0  60.0   1.0  \n",
       "...       ...   ...   ...  \n",
       "6782526  42.0  33.0   9.0  \n",
       "6782527  42.0  34.0   7.0  \n",
       "6782528  42.0  34.0   6.0  \n",
       "6782529  41.0  34.0   4.0  \n",
       "6782530  40.0  35.0   3.0  \n",
       "\n",
       "[6782531 rows x 8 columns]"
      ]
     },
     "execution_count": 18,
     "metadata": {},
     "output_type": "execute_result"
    }
   ],
   "source": [
    "us_asos"
   ]
  },
  {
   "cell_type": "code",
   "execution_count": 19,
   "metadata": {},
   "outputs": [
    {
     "name": "stderr",
     "output_type": "stream",
     "text": [
      "/home/sfreeman/miniforge3/envs/aes690st_sp24/lib/python3.12/site-packages/numpy/lib/function_base.py:2455: RuntimeWarning: invalid value encountered in nws_heat_index (vectorized)\n",
      "  outputs = ufunc(*inputs)\n"
     ]
    }
   ],
   "source": [
    "al_asos['heat_index'] = nws_heat_index_vectorized(al_asos[\"tmpf\"], al_asos['relh'])"
   ]
  },
  {
   "cell_type": "code",
   "execution_count": 20,
   "metadata": {},
   "outputs": [
    {
     "data": {
      "text/plain": [
       "<Axes: >"
      ]
     },
     "execution_count": 20,
     "metadata": {},
     "output_type": "execute_result"
    },
    {
     "data": {
      "image/png": "[encoded data removed]",
      "text/plain": [
       "<Figure size 640x480 with 1 Axes>"
      ]
     },
     "metadata": {},
     "output_type": "display_data"
    }
   ],
   "source": [
    "al_asos['heat_index'].hist()"
   ]
  },
  {
   "cell_type": "code",
   "execution_count": 21,
   "metadata": {},
   "outputs": [],
   "source": [
    "us_asos['relh_raw'] = metpy.calc.relative_humidity_from_dewpoint(us_asos['tmpf'].values*metpy.units.units(\"degF\"), \n",
    "                                                             us_asos['dwpf'].values*metpy.units.units(\"degF\")).magnitude*100"
   ]
  },
  {
   "cell_type": "code",
   "execution_count": 22,
   "metadata": {},
   "outputs": [
    {
     "data": {
      "text/plain": [
       "0          103.602431\n",
       "1          103.618159\n",
       "2          103.633990\n",
       "3          103.633990\n",
       "4          107.416554\n",
       "              ...    \n",
       "6782526     70.192226\n",
       "6782527     73.059775\n",
       "6782528     73.059775\n",
       "6782529     75.936726\n",
       "6782530     82.150664\n",
       "Name: relh_raw, Length: 6782531, dtype: float64"
      ]
     },
     "execution_count": 22,
     "metadata": {},
     "output_type": "execute_result"
    }
   ],
   "source": [
    "us_asos['relh_raw'] "
   ]
  },
  {
   "cell_type": "code",
   "execution_count": 23,
   "metadata": {},
   "outputs": [],
   "source": [
    "us_asos['relh'] = us_asos['relh_raw'].clip(0,100)"
   ]
  },
  {
   "cell_type": "code",
   "execution_count": 24,
   "metadata": {},
   "outputs": [
    {
     "name": "stderr",
     "output_type": "stream",
     "text": [
      "/home/sfreeman/miniforge3/envs/aes690st_sp24/lib/python3.12/site-packages/numpy/lib/function_base.py:2455: RuntimeWarning: invalid value encountered in nws_heat_index (vectorized)\n",
      "  outputs = ufunc(*inputs)\n"
     ]
    }
   ],
   "source": [
    "us_asos['heat_index'] = nws_heat_index_vectorized(us_asos[\"tmpf\"], us_asos['relh'])"
   ]
  },
  {
   "cell_type": "code",
   "execution_count": 25,
   "metadata": {},
   "outputs": [
    {
     "data": {
      "text/plain": [
       "<Axes: >"
      ]
     },
     "execution_count": 25,
     "metadata": {},
     "output_type": "execute_result"
    },
    {
     "data": {
      "image/png": "[encoded data removed]",
      "text/plain": [
       "<Figure size 640x480 with 1 Axes>"
      ]
     },
     "metadata": {},
     "output_type": "display_data"
    }
   ],
   "source": [
    "us_asos['heat_index'].hist()"
   ]
  },
  {
   "cell_type": "code",
   "execution_count": 27,
   "metadata": {},
   "outputs": [],
   "source": [
    "from sklearn.model_selection import train_test_split"
   ]
  },
  {
   "cell_type": "code",
   "execution_count": 28,
   "metadata": {},
   "outputs": [],
   "source": [
    "us_asos_nona = us_asos.dropna(subset=['tmpf', 'relh', 'heat_index'])"
   ]
  },
  {
   "cell_type": "code",
   "execution_count": 30,
   "metadata": {},
   "outputs": [],
   "source": [
    "# Prepare our data first\n",
    "\n",
    "training_data_US, test_validation_US = train_test_split(us_asos_nona, test_size=0.25)\n",
    "testing_data_US, validation_data_US = train_test_split(test_validation_US, test_size=0.5)"
   ]
  },
  {
   "cell_type": "code",
   "execution_count": 38,
   "metadata": {},
   "outputs": [
    {
     "name": "stderr",
     "output_type": "stream",
     "text": [
      "/home/sfreeman/miniforge3/envs/aes690st_sp24/lib/python3.12/site-packages/keras/src/layers/core/dense.py:88: UserWarning: Do not pass an `input_shape`/`input_dim` argument to a layer. When using Sequential models, prefer using an `Input(shape)` object as the first layer in the model instead.\n",
      "  super().__init__(activity_regularizer=activity_regularizer, **kwargs)\n",
      "/home/sfreeman/miniforge3/envs/aes690st_sp24/lib/python3.12/site-packages/keras/src/layers/activations/leaky_relu.py:41: UserWarning: Argument `alpha` is deprecated. Use `negative_slope` instead.\n",
      "  warnings.warn(\n"
     ]
    },
    {
     "data": {
      "text/html": [
       "<pre style=\"white-space:pre;overflow-x:auto;line-height:normal;font-family:Menlo,'DejaVu Sans Mono',consolas,'Courier New',monospace\"><span style=\"font-weight: bold\">Model: \"functional_1\"</span>\n",
       "</pre>\n"
      ],
      "text/plain": [
       "\u001b[1mModel: \"functional_1\"\u001b[0m\n"
      ]
     },
     "metadata": {},
     "output_type": "display_data"
    },
    {
     "data": {
      "text/html": [
       "<pre style=\"white-space:pre;overflow-x:auto;line-height:normal;font-family:Menlo,'DejaVu Sans Mono',consolas,'Courier New',monospace\">┏━━━━━━━━━━━━━━━━━━━━━━━━━━━━━━━━━┳━━━━━━━━━━━━━━━━━━━━━━━━┳━━━━━━━━━━━━━━━┓\n",
       "┃<span style=\"font-weight: bold\"> Layer (type)                    </span>┃<span style=\"font-weight: bold\"> Output Shape           </span>┃<span style=\"font-weight: bold\">       Param # </span>┃\n",
       "┡━━━━━━━━━━━━━━━━━━━━━━━━━━━━━━━━━╇━━━━━━━━━━━━━━━━━━━━━━━━╇━━━━━━━━━━━━━━━┩\n",
       "│ input_layer (<span style=\"color: #0087ff; text-decoration-color: #0087ff\">InputLayer</span>)        │ (<span style=\"color: #00d7ff; text-decoration-color: #00d7ff\">None</span>, <span style=\"color: #00af00; text-decoration-color: #00af00\">2</span>)              │             <span style=\"color: #00af00; text-decoration-color: #00af00\">0</span> │\n",
       "├─────────────────────────────────┼────────────────────────┼───────────────┤\n",
       "│ normalization (<span style=\"color: #0087ff; text-decoration-color: #0087ff\">Normalization</span>)   │ (<span style=\"color: #00d7ff; text-decoration-color: #00d7ff\">None</span>, <span style=\"color: #00af00; text-decoration-color: #00af00\">2</span>)              │             <span style=\"color: #00af00; text-decoration-color: #00af00\">5</span> │\n",
       "├─────────────────────────────────┼────────────────────────┼───────────────┤\n",
       "│ dense (<span style=\"color: #0087ff; text-decoration-color: #0087ff\">Dense</span>)                   │ (<span style=\"color: #00d7ff; text-decoration-color: #00d7ff\">None</span>, <span style=\"color: #00af00; text-decoration-color: #00af00\">2048</span>)           │         <span style=\"color: #00af00; text-decoration-color: #00af00\">6,144</span> │\n",
       "├─────────────────────────────────┼────────────────────────┼───────────────┤\n",
       "│ leaky_re_lu (<span style=\"color: #0087ff; text-decoration-color: #0087ff\">LeakyReLU</span>)         │ (<span style=\"color: #00d7ff; text-decoration-color: #00d7ff\">None</span>, <span style=\"color: #00af00; text-decoration-color: #00af00\">2048</span>)           │             <span style=\"color: #00af00; text-decoration-color: #00af00\">0</span> │\n",
       "├─────────────────────────────────┼────────────────────────┼───────────────┤\n",
       "│ dense_1 (<span style=\"color: #0087ff; text-decoration-color: #0087ff\">Dense</span>)                 │ (<span style=\"color: #00d7ff; text-decoration-color: #00d7ff\">None</span>, <span style=\"color: #00af00; text-decoration-color: #00af00\">128</span>)            │       <span style=\"color: #00af00; text-decoration-color: #00af00\">262,272</span> │\n",
       "├─────────────────────────────────┼────────────────────────┼───────────────┤\n",
       "│ dense_2 (<span style=\"color: #0087ff; text-decoration-color: #0087ff\">Dense</span>)                 │ (<span style=\"color: #00d7ff; text-decoration-color: #00d7ff\">None</span>, <span style=\"color: #00af00; text-decoration-color: #00af00\">1</span>)              │           <span style=\"color: #00af00; text-decoration-color: #00af00\">129</span> │\n",
       "└─────────────────────────────────┴────────────────────────┴───────────────┘\n",
       "</pre>\n"
      ],
      "text/plain": [
       "┏━━━━━━━━━━━━━━━━━━━━━━━━━━━━━━━━━┳━━━━━━━━━━━━━━━━━━━━━━━━┳━━━━━━━━━━━━━━━┓\n",
       "┃\u001b[1m \u001b[0m\u001b[1mLayer (type)                   \u001b[0m\u001b[1m \u001b[0m┃\u001b[1m \u001b[0m\u001b[1mOutput Shape          \u001b[0m\u001b[1m \u001b[0m┃\u001b[1m \u001b[0m\u001b[1m      Param #\u001b[0m\u001b[1m \u001b[0m┃\n",
       "┡━━━━━━━━━━━━━━━━━━━━━━━━━━━━━━━━━╇━━━━━━━━━━━━━━━━━━━━━━━━╇━━━━━━━━━━━━━━━┩\n",
       "│ input_layer (\u001b[38;5;33mInputLayer\u001b[0m)        │ (\u001b[38;5;45mNone\u001b[0m, \u001b[38;5;34m2\u001b[0m)              │             \u001b[38;5;34m0\u001b[0m │\n",
       "├─────────────────────────────────┼────────────────────────┼───────────────┤\n",
       "│ normalization (\u001b[38;5;33mNormalization\u001b[0m)   │ (\u001b[38;5;45mNone\u001b[0m, \u001b[38;5;34m2\u001b[0m)              │             \u001b[38;5;34m5\u001b[0m │\n",
       "├─────────────────────────────────┼────────────────────────┼───────────────┤\n",
       "│ dense (\u001b[38;5;33mDense\u001b[0m)                   │ (\u001b[38;5;45mNone\u001b[0m, \u001b[38;5;34m2048\u001b[0m)           │         \u001b[38;5;34m6,144\u001b[0m │\n",
       "├─────────────────────────────────┼────────────────────────┼───────────────┤\n",
       "│ leaky_re_lu (\u001b[38;5;33mLeakyReLU\u001b[0m)         │ (\u001b[38;5;45mNone\u001b[0m, \u001b[38;5;34m2048\u001b[0m)           │             \u001b[38;5;34m0\u001b[0m │\n",
       "├─────────────────────────────────┼────────────────────────┼───────────────┤\n",
       "│ dense_1 (\u001b[38;5;33mDense\u001b[0m)                 │ (\u001b[38;5;45mNone\u001b[0m, \u001b[38;5;34m128\u001b[0m)            │       \u001b[38;5;34m262,272\u001b[0m │\n",
       "├─────────────────────────────────┼────────────────────────┼───────────────┤\n",
       "│ dense_2 (\u001b[38;5;33mDense\u001b[0m)                 │ (\u001b[38;5;45mNone\u001b[0m, \u001b[38;5;34m1\u001b[0m)              │           \u001b[38;5;34m129\u001b[0m │\n",
       "└─────────────────────────────────┴────────────────────────┴───────────────┘\n"
      ]
     },
     "metadata": {},
     "output_type": "display_data"
    },
    {
     "data": {
      "text/html": [
       "<pre style=\"white-space:pre;overflow-x:auto;line-height:normal;font-family:Menlo,'DejaVu Sans Mono',consolas,'Courier New',monospace\"><span style=\"font-weight: bold\"> Total params: </span><span style=\"color: #00af00; text-decoration-color: #00af00\">268,550</span> (1.02 MB)\n",
       "</pre>\n"
      ],
      "text/plain": [
       "\u001b[1m Total params: \u001b[0m\u001b[38;5;34m268,550\u001b[0m (1.02 MB)\n"
      ]
     },
     "metadata": {},
     "output_type": "display_data"
    },
    {
     "data": {
      "text/html": [
       "<pre style=\"white-space:pre;overflow-x:auto;line-height:normal;font-family:Menlo,'DejaVu Sans Mono',consolas,'Courier New',monospace\"><span style=\"font-weight: bold\"> Trainable params: </span><span style=\"color: #00af00; text-decoration-color: #00af00\">268,545</span> (1.02 MB)\n",
       "</pre>\n"
      ],
      "text/plain": [
       "\u001b[1m Trainable params: \u001b[0m\u001b[38;5;34m268,545\u001b[0m (1.02 MB)\n"
      ]
     },
     "metadata": {},
     "output_type": "display_data"
    },
    {
     "data": {
      "text/html": [
       "<pre style=\"white-space:pre;overflow-x:auto;line-height:normal;font-family:Menlo,'DejaVu Sans Mono',consolas,'Courier New',monospace\"><span style=\"font-weight: bold\"> Non-trainable params: </span><span style=\"color: #00af00; text-decoration-color: #00af00\">5</span> (24.00 B)\n",
       "</pre>\n"
      ],
      "text/plain": [
       "\u001b[1m Non-trainable params: \u001b[0m\u001b[38;5;34m5\u001b[0m (24.00 B)\n"
      ]
     },
     "metadata": {},
     "output_type": "display_data"
    }
   ],
   "source": [
    "tf.keras.backend.clear_session()\n",
    "\n",
    "input1 = keras.layers.Input(shape=(2, ))\n",
    "input_norm = keras.layers.Normalization(axis=1)(input1)\n",
    "\n",
    "\n",
    "dense1 = keras.layers.Dense(2048, input_dim=1, activation=None)(input_norm)\n",
    "lerelu_layer = keras.layers.LeakyReLU(alpha=0.3)(dense1) \n",
    "dense2 = keras.layers.Dense(128, input_dim=1, activation=keras.activations.relu)(lerelu_layer)\n",
    "\n",
    "output = keras.layers.Dense(1, activation=None, use_bias=True)(dense2)\n",
    "model_US = keras.models.Model(inputs=[input1], outputs=[output])\n",
    "model_US.compile(optimizer=keras.optimizers.Adam(), loss='mean_squared_error')\n",
    "model_US.summary()"
   ]
  },
  {
   "cell_type": "code",
   "execution_count": 39,
   "metadata": {},
   "outputs": [
    {
     "data": {
      "text/plain": [
       "<Axes: >"
      ]
     },
     "execution_count": 39,
     "metadata": {},
     "output_type": "execute_result"
    },
    {
     "data": {
      "image/png": "[encoded data removed]",
      "text/plain": [
       "<Figure size 640x480 with 1 Axes>"
      ]
     },
     "metadata": {},
     "output_type": "display_data"
    }
   ],
   "source": [
    "training_data_US['heat_index'].hist()"
   ]
  },
  {
   "cell_type": "code",
   "execution_count": 40,
   "metadata": {},
   "outputs": [
    {
     "name": "stdout",
     "output_type": "stream",
     "text": [
      "Epoch 1/3\n",
      "\u001b[1m4640/4640\u001b[0m \u001b[32m━━━━━━━━━━━━━━━━━━━━\u001b[0m\u001b[37m\u001b[0m \u001b[1m36s\u001b[0m 8ms/step - loss: 20.2162\n",
      "Epoch 2/3\n",
      "\u001b[1m4640/4640\u001b[0m \u001b[32m━━━━━━━━━━━━━━━━━━━━\u001b[0m\u001b[37m\u001b[0m \u001b[1m38s\u001b[0m 8ms/step - loss: 1.0748\n",
      "Epoch 3/3\n",
      "\u001b[1m4640/4640\u001b[0m \u001b[32m━━━━━━━━━━━━━━━━━━━━\u001b[0m\u001b[37m\u001b[0m \u001b[1m37s\u001b[0m 8ms/step - loss: 0.4301\n"
     ]
    },
    {
     "data": {
      "text/plain": [
       "<keras.src.callbacks.history.History at 0x7f4af07f4f20>"
      ]
     },
     "execution_count": 40,
     "metadata": {},
     "output_type": "execute_result"
    }
   ],
   "source": [
    "model_US.fit(training_data_US[['tmpf', 'relh']].values, \n",
    "           training_data_US['heat_index'].values, epochs=3, batch_size=1024, shuffle=True )"
   ]
  },
  {
   "cell_type": "code",
   "execution_count": 41,
   "metadata": {},
   "outputs": [
    {
     "name": "stdout",
     "output_type": "stream",
     "text": [
      "\u001b[1m24746/24746\u001b[0m \u001b[32m━━━━━━━━━━━━━━━━━━━━\u001b[0m\u001b[37m\u001b[0m \u001b[1m17s\u001b[0m 683us/step\n"
     ]
    },
    {
     "data": {
      "text/plain": [
       "[<matplotlib.lines.Line2D at 0x7f4a3c300b90>]"
      ]
     },
     "execution_count": 41,
     "metadata": {},
     "output_type": "execute_result"
    },
    {
     "data": {
      "image/png": "[encoded data removed]",
      "text/plain": [
       "<Figure size 640x480 with 1 Axes>"
      ]
     },
     "metadata": {},
     "output_type": "display_data"
    }
   ],
   "source": [
    "predicted_hi = model_US.predict(testing_data_US[['tmpf', 'relh']].values)\n",
    "plt.scatter(predicted_hi, testing_data_US['heat_index'])\n",
    "plt.xlabel(\"Predicted from model (F)\")\n",
    "plt.ylabel(\"Actual Heat Index\")\n",
    "#plt.xlim(50, 120)\n",
    "#plt.ylim(50, 120)\n",
    "plt.plot([50, 120], [50, 120], color='grey', ls='--')"
   ]
  },
  {
   "cell_type": "code",
   "execution_count": 42,
   "metadata": {},
   "outputs": [],
   "source": [
    "model_US.save(\"my_usa_model.keras\")"
   ]
  },
  {
   "cell_type": "code",
   "execution_count": null,
   "metadata": {},
   "outputs": [],
   "source": []
  }
 ],
 "metadata": {
  "kernelspec": {
   "display_name": "aes690st-sp24-test",
   "language": "python",
   "name": "python3"
  },
  "language_info": {
   "codemirror_mode": {
    "name": "ipython",
    "version": 3
   },
   "file_extension": ".py",
   "mimetype": "text/x-python",
   "name": "python",
   "nbconvert_exporter": "python",
   "pygments_lexer": "ipython3",
   "version": "3.12.2"
  }
 },
 "nbformat": 4,
 "nbformat_minor": 2
}
