{
 "cells": [
  {
   "cell_type": "markdown",
   "metadata": {},
   "source": [
    "# Advanced ANNs: Hyperparameter Tuning"
   ]
  },
  {
   "cell_type": "code",
   "execution_count": null,
   "metadata": {},
   "outputs": [],
   "source": [
    "import tensorflow as tf\n",
    "import numpy as np\n",
    "import tensorflow.keras as keras\n",
    "from tensorflow.keras import Sequential\n",
    "from tensorflow.keras.layers import Dense\n",
    "import matplotlib.pyplot as plt\n",
    "import pandas as pd\n",
    "import copy\n",
    "import metpy\n",
    "import metpy.calc"
   ]
  },
  {
   "cell_type": "code",
   "execution_count": null,
   "metadata": {},
   "outputs": [],
   "source": [
    "# we will set the seed this time to ensure fairness\n",
    "keras.utils.set_random_seed(1)"
   ]
  },
  {
   "cell_type": "code",
   "execution_count": null,
   "metadata": {},
   "outputs": [],
   "source": [
    "al_asos = pd.read_csv(\"../Week_6/al_asos_jul_23_v2.csv\")\n",
    "us_asos = pd.read_csv(\"/share/share/combined_asos_2023.csv\")"
   ]
  },
  {
   "cell_type": "code",
   "execution_count": null,
   "metadata": {},
   "outputs": [],
   "source": [
    "def nws_heat_index(T, RH):\n",
    "    '''\n",
    "    T in fahrenheit, RH in %\n",
    "    https://www.wpc.ncep.noaa.gov/html/heatindex_equation.shtml\n",
    "    '''\n",
    "    initial_hi =  0.5 * (T + 61.0 + ((T-68.0)*1.2) + (RH*0.094))\n",
    "    if initial_hi < 80:\n",
    "        return initial_hi\n",
    "\n",
    "    adjustment_factor = 0\n",
    "    if T>=80 and T<=112 and RH <13:\n",
    "        adjustment_factor =  ((13-RH)/4)*np.sqrt((17-np.abs(T-95.))/17)\n",
    "    \n",
    "    if T>=80 and T<=87 and RH > 85:\n",
    "         adjustment_factor = ((RH-85)/10) * ((87-T)/5)\n",
    "\n",
    "    return (-42.379 + 2.04901523*T + 10.14333127*RH - .22475541*T*RH - .00683783*T*T - \n",
    "           .05481717*RH*RH + .00122874*T*T*RH + .00085282*T*RH*RH - .00000199*T*T*RH*RH) + adjustment_factor\n",
    "\n",
    "nws_heat_index_vectorized = np.vectorize(nws_heat_index)"
   ]
  },
  {
   "cell_type": "code",
   "execution_count": null,
   "metadata": {},
   "outputs": [],
   "source": [
    "al_asos"
   ]
  },
  {
   "cell_type": "code",
   "execution_count": null,
   "metadata": {},
   "outputs": [],
   "source": [
    "us_asos"
   ]
  },
  {
   "cell_type": "code",
   "execution_count": null,
   "metadata": {},
   "outputs": [],
   "source": [
    "al_asos['heat_index'] = nws_heat_index_vectorized(al_asos[\"tmpf\"], al_asos['relh'])"
   ]
  },
  {
   "cell_type": "code",
   "execution_count": null,
   "metadata": {},
   "outputs": [],
   "source": [
    "al_asos['heat_index'].hist()"
   ]
  },
  {
   "cell_type": "code",
   "execution_count": null,
   "metadata": {},
   "outputs": [],
   "source": [
    "us_asos['relh_raw'] = metpy.calc.relative_humidity_from_dewpoint(us_asos['tmpf'].values*metpy.units.units(\"degF\"), \n",
    "                                                             us_asos['dwpf'].values*metpy.units.units(\"degF\")).magnitude*100"
   ]
  },
  {
   "cell_type": "code",
   "execution_count": null,
   "metadata": {},
   "outputs": [],
   "source": [
    "us_asos['relh_raw'] "
   ]
  },
  {
   "cell_type": "code",
   "execution_count": null,
   "metadata": {},
   "outputs": [],
   "source": [
    "us_asos['relh'] = us_asos['relh_raw'].clip(0,100)"
   ]
  },
  {
   "cell_type": "code",
   "execution_count": null,
   "metadata": {},
   "outputs": [],
   "source": [
    "us_asos['heat_index'] = nws_heat_index_vectorized(us_asos[\"tmpf\"], us_asos['relh'])"
   ]
  },
  {
   "cell_type": "code",
   "execution_count": null,
   "metadata": {},
   "outputs": [],
   "source": [
    "us_asos['heat_index'].hist()"
   ]
  },
  {
   "cell_type": "code",
   "execution_count": null,
   "metadata": {},
   "outputs": [],
   "source": [
    "from sklearn.model_selection import train_test_split"
   ]
  },
  {
   "cell_type": "markdown",
   "metadata": {},
   "source": [
    "### Train/test/validate on intentionally small data"
   ]
  },
  {
   "cell_type": "code",
   "execution_count": null,
   "metadata": {},
   "outputs": [],
   "source": [
    "al_asos_nona = al_asos.dropna(subset=['tmpf', 'relh', 'heat_index'])"
   ]
  },
  {
   "cell_type": "code",
   "execution_count": null,
   "metadata": {},
   "outputs": [],
   "source": [
    "# Prepare our data first\n",
    "using_data_AL, _ = train_test_split(al_asos_nona, test_size=0.98)\n",
    "training_data_AL, test_validation_AL = train_test_split(using_data_AL, test_size=0.25)\n",
    "testing_data_AL, validation_data_AL = train_test_split(test_validation_AL, test_size=0.5)"
   ]
  },
  {
   "cell_type": "code",
   "execution_count": null,
   "metadata": {},
   "outputs": [],
   "source": [
    "len(training_data_AL), len(testing_data_AL), len(validation_data_AL)"
   ]
  },
  {
   "cell_type": "code",
   "execution_count": null,
   "metadata": {},
   "outputs": [],
   "source": [
    "import optuna"
   ]
  },
  {
   "cell_type": "code",
   "execution_count": null,
   "metadata": {},
   "outputs": [],
   "source": [
    "tf.keras.backend.clear_session()\n",
    "keras.utils.set_random_seed(1)\n"
   ]
  },
  {
   "cell_type": "code",
   "execution_count": null,
   "metadata": {},
   "outputs": [],
   "source": [
    "def optuna_function(trial):\n",
    "    input1 = keras.layers.Input(shape=(2, ))\n",
    "    input_norm = keras.layers.Normalization(axis=1)(input1)\n",
    "\n",
    "\n",
    "    dense1 = keras.layers.Dense(trial.suggest_int(\"neurons_dense1\",4, 1024), activation=None)(input_norm)\n",
    "    lerelu_layer = keras.layers.LeakyReLU(alpha=0.3)(dense1) \n",
    "    output = keras.layers.Dense(1, activation=trial.suggest_categorical('activation_output', ['relu', 'linear', 'sigmoid'])\n",
    "                                )(lerelu_layer)\n",
    "    model_AL = keras.models.Model(inputs=[input1], outputs=[output])\n",
    "    model_AL.compile(optimizer=keras.optimizers.legacy.Adam(), loss='mean_squared_error')\n",
    "\n",
    "    lr = trial.suggest_float('lr', 1e-6, 1e0, log=True)\n",
    "    model = keras.models.Model(inputs=[input1], outputs=[output])\n",
    "\n",
    "    model.compile(loss='mean_squared_error', optimizer=keras.optimizers.legacy.Adam(learning_rate=lr), metrics=['accuracy'])\n",
    "    model.fit(training_data_AL[['tmpf', 'relh']].values, \n",
    "           training_data_AL['heat_index'].values, epochs=30, batch_size=64, verbose=False)\n",
    "    return model.evaluate(validation_data_AL[['tmpf', 'relh']].values, validation_data_AL['heat_index'].values, verbose=False)[0]\n"
   ]
  },
  {
   "cell_type": "code",
   "execution_count": null,
   "metadata": {},
   "outputs": [],
   "source": [
    "study = optuna.create_study()\n",
    "study.optimize(optuna_function, n_trials=10)\n",
    "\n",
    "study.best_params  # E.g. {'x': 2.002108042}\n"
   ]
  },
  {
   "cell_type": "code",
   "execution_count": null,
   "metadata": {},
   "outputs": [],
   "source": []
  }
 ],
 "metadata": {
  "kernelspec": {
   "display_name": "aes690st-sp24-test",
   "language": "python",
   "name": "python3"
  },
  "language_info": {
   "codemirror_mode": {
    "name": "ipython",
    "version": 3
   },
   "file_extension": ".py",
   "mimetype": "text/x-python",
   "name": "python",
   "nbconvert_exporter": "python",
   "pygments_lexer": "ipython3",
   "version": "3.11.6"
  }
 },
 "nbformat": 4,
 "nbformat_minor": 2
}
